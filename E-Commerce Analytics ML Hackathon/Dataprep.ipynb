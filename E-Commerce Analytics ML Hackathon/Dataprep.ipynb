{
 "metadata": {
  "language_info": {
   "codemirror_mode": {
    "name": "ipython",
    "version": 3
   },
   "file_extension": ".py",
   "mimetype": "text/x-python",
   "name": "python",
   "nbconvert_exporter": "python",
   "pygments_lexer": "ipython3",
   "version": "3.7.4"
  },
  "orig_nbformat": 2,
  "kernelspec": {
   "name": "python374jvsc74a57bd051d439fa56edd0938934adc9194f49c45bdd2291f02681030135565519cea739",
   "display_name": "Python 3.7.4 64-bit ('base': conda)"
  }
 },
 "nbformat": 4,
 "nbformat_minor": 2,
 "cells": [
  {
   "source": [
    "# Step 1: Gather Data"
   ],
   "cell_type": "markdown",
   "metadata": {}
  },
  {
   "source": [
    "### *Import Libraries*"
   ],
   "cell_type": "markdown",
   "metadata": {}
  },
  {
   "cell_type": "code",
   "execution_count": 1,
   "metadata": {},
   "outputs": [],
   "source": [
    "import pandas as pd \n",
    "import numpy as np \n",
    "import matplotlib.pyplot as plt \n",
    "import seaborn as sns \n",
    "%matplotlib inline  \n",
    "\n",
    "import warnings\n",
    "warnings.filterwarnings('ignore')"
   ]
  },
  {
   "source": [
    "### *Get data*"
   ],
   "cell_type": "markdown",
   "metadata": {}
  },
  {
   "cell_type": "code",
   "execution_count": 2,
   "metadata": {},
   "outputs": [],
   "source": [
    "# save filepath to variable for easier access\n",
    "ecommerce_file_path = 'train.csv'\n",
    "test_file_path = 'test.csv'\n",
    "submission_file_path = 'sample_submission.csv'\n",
    "\n",
    "# read the data and store data in DataFrame titled train_data\n",
    "train_data = pd.read_csv(ecommerce_file_path)\n",
    "test_data = pd.read_csv(test_file_path)\n",
    "submission_data = pd.read_csv(submission_file_path)"
   ]
  },
  {
   "cell_type": "code",
   "execution_count": 3,
   "metadata": {},
   "outputs": [
    {
     "output_type": "execute_result",
     "data": {
      "text/plain": [
       "((10500, 5), (4500, 4), (4500, 2))"
      ]
     },
     "metadata": {},
     "execution_count": 3
    }
   ],
   "source": [
    "train_data.shape, test_data.shape, submission_data.shape"
   ]
  },
  {
   "source": [
    "Train data has:\n",
    "- 10,500 rows (observations)\n",
    "- 5 columns (features)\n",
    "\n",
    "Test data has:\n",
    "- 4,500 rows (observations)\n",
    "- 4 columns (features)\n",
    "\n",
    "Submission data has:\n",
    "- 4,500 rows \n",
    "- 2 columns "
   ],
   "cell_type": "markdown",
   "metadata": {}
  },
  {
   "cell_type": "code",
   "execution_count": 4,
   "metadata": {},
   "outputs": [
    {
     "output_type": "stream",
     "name": "stdout",
     "text": [
      "<class 'pandas.core.frame.DataFrame'>\nRangeIndex: 10500 entries, 0 to 10499\nData columns (total 5 columns):\nsession_id     10500 non-null object\nstartTime      10500 non-null object\nendTime        10500 non-null object\nProductList    10500 non-null object\ngender         10500 non-null object\ndtypes: object(5)\nmemory usage: 410.3+ KB\n"
     ]
    }
   ],
   "source": [
    "train_data.info()"
   ]
  },
  {
   "cell_type": "code",
   "execution_count": 5,
   "metadata": {},
   "outputs": [
    {
     "output_type": "execute_result",
     "data": {
      "text/plain": [
       "       session_id      startTime         endTime  \\\n",
       "count       10500          10500           10500   \n",
       "unique      10500           8815            8803   \n",
       "top        u13243  19/12/14 8:57  14/11/14 16:15   \n",
       "freq            1              5               5   \n",
       "\n",
       "                         ProductList  gender  \n",
       "count                          10500   10500  \n",
       "unique                          9402       2  \n",
       "top     A00002/B00002/C00007/D00266/  female  \n",
       "freq                              25    8192  "
      ],
      "text/html": "<div>\n<style scoped>\n    .dataframe tbody tr th:only-of-type {\n        vertical-align: middle;\n    }\n\n    .dataframe tbody tr th {\n        vertical-align: top;\n    }\n\n    .dataframe thead th {\n        text-align: right;\n    }\n</style>\n<table border=\"1\" class=\"dataframe\">\n  <thead>\n    <tr style=\"text-align: right;\">\n      <th></th>\n      <th>session_id</th>\n      <th>startTime</th>\n      <th>endTime</th>\n      <th>ProductList</th>\n      <th>gender</th>\n    </tr>\n  </thead>\n  <tbody>\n    <tr>\n      <td>count</td>\n      <td>10500</td>\n      <td>10500</td>\n      <td>10500</td>\n      <td>10500</td>\n      <td>10500</td>\n    </tr>\n    <tr>\n      <td>unique</td>\n      <td>10500</td>\n      <td>8815</td>\n      <td>8803</td>\n      <td>9402</td>\n      <td>2</td>\n    </tr>\n    <tr>\n      <td>top</td>\n      <td>u13243</td>\n      <td>19/12/14 8:57</td>\n      <td>14/11/14 16:15</td>\n      <td>A00002/B00002/C00007/D00266/</td>\n      <td>female</td>\n    </tr>\n    <tr>\n      <td>freq</td>\n      <td>1</td>\n      <td>5</td>\n      <td>5</td>\n      <td>25</td>\n      <td>8192</td>\n    </tr>\n  </tbody>\n</table>\n</div>"
     },
     "metadata": {},
     "execution_count": 5
    }
   ],
   "source": [
    "train_data.describe()"
   ]
  },
  {
   "cell_type": "code",
   "execution_count": 6,
   "metadata": {},
   "outputs": [
    {
     "output_type": "execute_result",
     "data": {
      "text/plain": [
       "  session_id       startTime         endTime  \\\n",
       "0     u16159  15/12/14 18:11  15/12/14 18:12   \n",
       "1     u10253  16/12/14 14:35  16/12/14 14:41   \n",
       "2     u19037  01/12/14 15:58  01/12/14 15:58   \n",
       "3     u14556   23/11/14 2:57   23/11/14 3:00   \n",
       "4     u24295  17/12/14 16:44  17/12/14 16:46   \n",
       "\n",
       "                                         ProductList  gender  \n",
       "0  A00002/B00003/C00006/D28435/;A00002/B00003/C00...  female  \n",
       "1  A00001/B00009/C00031/D29404/;A00001/B00009/C00...    male  \n",
       "2                       A00002/B00001/C00020/D16944/  female  \n",
       "3  A00002/B00004/C00018/D10284/;A00002/B00004/C00...  female  \n",
       "4  A00001/B00001/C00012/D30805/;A00001/B00001/C00...    male  "
      ],
      "text/html": "<div>\n<style scoped>\n    .dataframe tbody tr th:only-of-type {\n        vertical-align: middle;\n    }\n\n    .dataframe tbody tr th {\n        vertical-align: top;\n    }\n\n    .dataframe thead th {\n        text-align: right;\n    }\n</style>\n<table border=\"1\" class=\"dataframe\">\n  <thead>\n    <tr style=\"text-align: right;\">\n      <th></th>\n      <th>session_id</th>\n      <th>startTime</th>\n      <th>endTime</th>\n      <th>ProductList</th>\n      <th>gender</th>\n    </tr>\n  </thead>\n  <tbody>\n    <tr>\n      <td>0</td>\n      <td>u16159</td>\n      <td>15/12/14 18:11</td>\n      <td>15/12/14 18:12</td>\n      <td>A00002/B00003/C00006/D28435/;A00002/B00003/C00...</td>\n      <td>female</td>\n    </tr>\n    <tr>\n      <td>1</td>\n      <td>u10253</td>\n      <td>16/12/14 14:35</td>\n      <td>16/12/14 14:41</td>\n      <td>A00001/B00009/C00031/D29404/;A00001/B00009/C00...</td>\n      <td>male</td>\n    </tr>\n    <tr>\n      <td>2</td>\n      <td>u19037</td>\n      <td>01/12/14 15:58</td>\n      <td>01/12/14 15:58</td>\n      <td>A00002/B00001/C00020/D16944/</td>\n      <td>female</td>\n    </tr>\n    <tr>\n      <td>3</td>\n      <td>u14556</td>\n      <td>23/11/14 2:57</td>\n      <td>23/11/14 3:00</td>\n      <td>A00002/B00004/C00018/D10284/;A00002/B00004/C00...</td>\n      <td>female</td>\n    </tr>\n    <tr>\n      <td>4</td>\n      <td>u24295</td>\n      <td>17/12/14 16:44</td>\n      <td>17/12/14 16:46</td>\n      <td>A00001/B00001/C00012/D30805/;A00001/B00001/C00...</td>\n      <td>male</td>\n    </tr>\n  </tbody>\n</table>\n</div>"
     },
     "metadata": {},
     "execution_count": 6
    }
   ],
   "source": [
    "train_data.head()"
   ]
  },
  {
   "source": [
    "## Step 2: Exploratory Data Analysis"
   ],
   "cell_type": "markdown",
   "metadata": {}
  },
  {
   "source": [
    "### TRAINING DATA - PreProcessing"
   ],
   "cell_type": "markdown",
   "metadata": {}
  },
  {
   "source": [
    "### Categorical Data"
   ],
   "cell_type": "markdown",
   "metadata": {}
  },
  {
   "source": [
    "#### Splitting Product List\n",
    "Product list contains list of products viewed by the user in the given session and it also contains the category, sub category, sub-sub category and the product all encoded and separated with a slash symbol. Each consecutive product is separated with a semicolon.\n",
    "- product\n",
    "- category\n",
    "- sub_category\n",
    "- sub_sub_category\n"
   ],
   "cell_type": "markdown",
   "metadata": {}
  },
  {
   "cell_type": "code",
   "execution_count": 7,
   "metadata": {},
   "outputs": [
    {
     "output_type": "execute_result",
     "data": {
      "text/plain": [
       "'A00002/B00003/C00006/D28435/;A00002/B00003/C00006/D02554/;A00002/B00003/C00006/D28436/;A00002/B00003/C00006/D28437/'"
      ]
     },
     "metadata": {},
     "execution_count": 7
    }
   ],
   "source": [
    "train_data['ProductList'][0]"
   ]
  },
  {
   "cell_type": "code",
   "execution_count": 8,
   "metadata": {},
   "outputs": [
    {
     "output_type": "execute_result",
     "data": {
      "text/plain": [
       "  session_id       startTime         endTime  \\\n",
       "0     u16159  15/12/14 18:11  15/12/14 18:12   \n",
       "1     u10253  16/12/14 14:35  16/12/14 14:41   \n",
       "2     u19037  01/12/14 15:58  01/12/14 15:58   \n",
       "3     u14556   23/11/14 2:57   23/11/14 3:00   \n",
       "4     u24295  17/12/14 16:44  17/12/14 16:46   \n",
       "\n",
       "                                         ProductList  gender  ProductListCount  \n",
       "0  A00002/B00003/C00006/D28435/;A00002/B00003/C00...  female                 4  \n",
       "1  A00001/B00009/C00031/D29404/;A00001/B00009/C00...    male                 7  \n",
       "2                       A00002/B00001/C00020/D16944/  female                 1  \n",
       "3  A00002/B00004/C00018/D10284/;A00002/B00004/C00...  female                 3  \n",
       "4  A00001/B00001/C00012/D30805/;A00001/B00001/C00...    male                 2  "
      ],
      "text/html": "<div>\n<style scoped>\n    .dataframe tbody tr th:only-of-type {\n        vertical-align: middle;\n    }\n\n    .dataframe tbody tr th {\n        vertical-align: top;\n    }\n\n    .dataframe thead th {\n        text-align: right;\n    }\n</style>\n<table border=\"1\" class=\"dataframe\">\n  <thead>\n    <tr style=\"text-align: right;\">\n      <th></th>\n      <th>session_id</th>\n      <th>startTime</th>\n      <th>endTime</th>\n      <th>ProductList</th>\n      <th>gender</th>\n      <th>ProductListCount</th>\n    </tr>\n  </thead>\n  <tbody>\n    <tr>\n      <td>0</td>\n      <td>u16159</td>\n      <td>15/12/14 18:11</td>\n      <td>15/12/14 18:12</td>\n      <td>A00002/B00003/C00006/D28435/;A00002/B00003/C00...</td>\n      <td>female</td>\n      <td>4</td>\n    </tr>\n    <tr>\n      <td>1</td>\n      <td>u10253</td>\n      <td>16/12/14 14:35</td>\n      <td>16/12/14 14:41</td>\n      <td>A00001/B00009/C00031/D29404/;A00001/B00009/C00...</td>\n      <td>male</td>\n      <td>7</td>\n    </tr>\n    <tr>\n      <td>2</td>\n      <td>u19037</td>\n      <td>01/12/14 15:58</td>\n      <td>01/12/14 15:58</td>\n      <td>A00002/B00001/C00020/D16944/</td>\n      <td>female</td>\n      <td>1</td>\n    </tr>\n    <tr>\n      <td>3</td>\n      <td>u14556</td>\n      <td>23/11/14 2:57</td>\n      <td>23/11/14 3:00</td>\n      <td>A00002/B00004/C00018/D10284/;A00002/B00004/C00...</td>\n      <td>female</td>\n      <td>3</td>\n    </tr>\n    <tr>\n      <td>4</td>\n      <td>u24295</td>\n      <td>17/12/14 16:44</td>\n      <td>17/12/14 16:46</td>\n      <td>A00001/B00001/C00012/D30805/;A00001/B00001/C00...</td>\n      <td>male</td>\n      <td>2</td>\n    </tr>\n  </tbody>\n</table>\n</div>"
     },
     "metadata": {},
     "execution_count": 8
    }
   ],
   "source": [
    "train_data['ProductListCount'] = train_data['ProductList'].apply(lambda x: len(x.split(\";\")))\n",
    "train_data.head()"
   ]
  },
  {
   "cell_type": "code",
   "execution_count": 9,
   "metadata": {},
   "outputs": [
    {
     "output_type": "execute_result",
     "data": {
      "text/plain": [
       "  session_id       startTime         endTime  \\\n",
       "0     u16159  15/12/14 18:11  15/12/14 18:12   \n",
       "0     u16159  15/12/14 18:11  15/12/14 18:12   \n",
       "0     u16159  15/12/14 18:11  15/12/14 18:12   \n",
       "0     u16159  15/12/14 18:11  15/12/14 18:12   \n",
       "1     u10253  16/12/14 14:35  16/12/14 14:41   \n",
       "\n",
       "                                         ProductList  gender  \\\n",
       "0  A00002/B00003/C00006/D28435/;A00002/B00003/C00...  female   \n",
       "0  A00002/B00003/C00006/D28435/;A00002/B00003/C00...  female   \n",
       "0  A00002/B00003/C00006/D28435/;A00002/B00003/C00...  female   \n",
       "0  A00002/B00003/C00006/D28435/;A00002/B00003/C00...  female   \n",
       "1  A00001/B00009/C00031/D29404/;A00001/B00009/C00...    male   \n",
       "\n",
       "   ProductListCount                  product_data  \n",
       "0                 4  A00002/B00003/C00006/D28435/  \n",
       "0                 4  A00002/B00003/C00006/D02554/  \n",
       "0                 4  A00002/B00003/C00006/D28436/  \n",
       "0                 4  A00002/B00003/C00006/D28437/  \n",
       "1                 7  A00001/B00009/C00031/D29404/  "
      ],
      "text/html": "<div>\n<style scoped>\n    .dataframe tbody tr th:only-of-type {\n        vertical-align: middle;\n    }\n\n    .dataframe tbody tr th {\n        vertical-align: top;\n    }\n\n    .dataframe thead th {\n        text-align: right;\n    }\n</style>\n<table border=\"1\" class=\"dataframe\">\n  <thead>\n    <tr style=\"text-align: right;\">\n      <th></th>\n      <th>session_id</th>\n      <th>startTime</th>\n      <th>endTime</th>\n      <th>ProductList</th>\n      <th>gender</th>\n      <th>ProductListCount</th>\n      <th>product_data</th>\n    </tr>\n  </thead>\n  <tbody>\n    <tr>\n      <td>0</td>\n      <td>u16159</td>\n      <td>15/12/14 18:11</td>\n      <td>15/12/14 18:12</td>\n      <td>A00002/B00003/C00006/D28435/;A00002/B00003/C00...</td>\n      <td>female</td>\n      <td>4</td>\n      <td>A00002/B00003/C00006/D28435/</td>\n    </tr>\n    <tr>\n      <td>0</td>\n      <td>u16159</td>\n      <td>15/12/14 18:11</td>\n      <td>15/12/14 18:12</td>\n      <td>A00002/B00003/C00006/D28435/;A00002/B00003/C00...</td>\n      <td>female</td>\n      <td>4</td>\n      <td>A00002/B00003/C00006/D02554/</td>\n    </tr>\n    <tr>\n      <td>0</td>\n      <td>u16159</td>\n      <td>15/12/14 18:11</td>\n      <td>15/12/14 18:12</td>\n      <td>A00002/B00003/C00006/D28435/;A00002/B00003/C00...</td>\n      <td>female</td>\n      <td>4</td>\n      <td>A00002/B00003/C00006/D28436/</td>\n    </tr>\n    <tr>\n      <td>0</td>\n      <td>u16159</td>\n      <td>15/12/14 18:11</td>\n      <td>15/12/14 18:12</td>\n      <td>A00002/B00003/C00006/D28435/;A00002/B00003/C00...</td>\n      <td>female</td>\n      <td>4</td>\n      <td>A00002/B00003/C00006/D28437/</td>\n    </tr>\n    <tr>\n      <td>1</td>\n      <td>u10253</td>\n      <td>16/12/14 14:35</td>\n      <td>16/12/14 14:41</td>\n      <td>A00001/B00009/C00031/D29404/;A00001/B00009/C00...</td>\n      <td>male</td>\n      <td>7</td>\n      <td>A00001/B00009/C00031/D29404/</td>\n    </tr>\n  </tbody>\n</table>\n</div>"
     },
     "metadata": {},
     "execution_count": 9
    }
   ],
   "source": [
    "# Create product list - Separating each product to new row (;)\n",
    "# Extract name from the string \n",
    "prod = train_data['ProductList'].str.split(';')\n",
    "train_data = train_data.reindex(train_data.index.repeat(prod.apply(len)))\n",
    "train_data['product_data'] = np.hstack(prod)\n",
    "train_data.head()\n"
   ]
  },
  {
   "cell_type": "code",
   "execution_count": 10,
   "metadata": {},
   "outputs": [
    {
     "output_type": "execute_result",
     "data": {
      "text/plain": [
       "  session_id       startTime         endTime  \\\n",
       "0     u16159  15/12/14 18:11  15/12/14 18:12   \n",
       "0     u16159  15/12/14 18:11  15/12/14 18:12   \n",
       "0     u16159  15/12/14 18:11  15/12/14 18:12   \n",
       "0     u16159  15/12/14 18:11  15/12/14 18:12   \n",
       "1     u10253  16/12/14 14:35  16/12/14 14:41   \n",
       "\n",
       "                                         ProductList  gender  \\\n",
       "0  A00002/B00003/C00006/D28435/;A00002/B00003/C00...  female   \n",
       "0  A00002/B00003/C00006/D28435/;A00002/B00003/C00...  female   \n",
       "0  A00002/B00003/C00006/D28435/;A00002/B00003/C00...  female   \n",
       "0  A00002/B00003/C00006/D28435/;A00002/B00003/C00...  female   \n",
       "1  A00001/B00009/C00031/D29404/;A00001/B00009/C00...    male   \n",
       "\n",
       "   ProductListCount                  product_data category sub_category  \\\n",
       "0                 4  A00002/B00003/C00006/D28435/   A00002       B00003   \n",
       "0                 4  A00002/B00003/C00006/D02554/   A00002       B00003   \n",
       "0                 4  A00002/B00003/C00006/D28436/   A00002       B00003   \n",
       "0                 4  A00002/B00003/C00006/D28437/   A00002       B00003   \n",
       "1                 7  A00001/B00009/C00031/D29404/   A00001       B00009   \n",
       "\n",
       "  sub_sub_category product other  \n",
       "0           C00006  D28435        \n",
       "0           C00006  D02554        \n",
       "0           C00006  D28436        \n",
       "0           C00006  D28437        \n",
       "1           C00031  D29404        "
      ],
      "text/html": "<div>\n<style scoped>\n    .dataframe tbody tr th:only-of-type {\n        vertical-align: middle;\n    }\n\n    .dataframe tbody tr th {\n        vertical-align: top;\n    }\n\n    .dataframe thead th {\n        text-align: right;\n    }\n</style>\n<table border=\"1\" class=\"dataframe\">\n  <thead>\n    <tr style=\"text-align: right;\">\n      <th></th>\n      <th>session_id</th>\n      <th>startTime</th>\n      <th>endTime</th>\n      <th>ProductList</th>\n      <th>gender</th>\n      <th>ProductListCount</th>\n      <th>product_data</th>\n      <th>category</th>\n      <th>sub_category</th>\n      <th>sub_sub_category</th>\n      <th>product</th>\n      <th>other</th>\n    </tr>\n  </thead>\n  <tbody>\n    <tr>\n      <td>0</td>\n      <td>u16159</td>\n      <td>15/12/14 18:11</td>\n      <td>15/12/14 18:12</td>\n      <td>A00002/B00003/C00006/D28435/;A00002/B00003/C00...</td>\n      <td>female</td>\n      <td>4</td>\n      <td>A00002/B00003/C00006/D28435/</td>\n      <td>A00002</td>\n      <td>B00003</td>\n      <td>C00006</td>\n      <td>D28435</td>\n      <td></td>\n    </tr>\n    <tr>\n      <td>0</td>\n      <td>u16159</td>\n      <td>15/12/14 18:11</td>\n      <td>15/12/14 18:12</td>\n      <td>A00002/B00003/C00006/D28435/;A00002/B00003/C00...</td>\n      <td>female</td>\n      <td>4</td>\n      <td>A00002/B00003/C00006/D02554/</td>\n      <td>A00002</td>\n      <td>B00003</td>\n      <td>C00006</td>\n      <td>D02554</td>\n      <td></td>\n    </tr>\n    <tr>\n      <td>0</td>\n      <td>u16159</td>\n      <td>15/12/14 18:11</td>\n      <td>15/12/14 18:12</td>\n      <td>A00002/B00003/C00006/D28435/;A00002/B00003/C00...</td>\n      <td>female</td>\n      <td>4</td>\n      <td>A00002/B00003/C00006/D28436/</td>\n      <td>A00002</td>\n      <td>B00003</td>\n      <td>C00006</td>\n      <td>D28436</td>\n      <td></td>\n    </tr>\n    <tr>\n      <td>0</td>\n      <td>u16159</td>\n      <td>15/12/14 18:11</td>\n      <td>15/12/14 18:12</td>\n      <td>A00002/B00003/C00006/D28435/;A00002/B00003/C00...</td>\n      <td>female</td>\n      <td>4</td>\n      <td>A00002/B00003/C00006/D28437/</td>\n      <td>A00002</td>\n      <td>B00003</td>\n      <td>C00006</td>\n      <td>D28437</td>\n      <td></td>\n    </tr>\n    <tr>\n      <td>1</td>\n      <td>u10253</td>\n      <td>16/12/14 14:35</td>\n      <td>16/12/14 14:41</td>\n      <td>A00001/B00009/C00031/D29404/;A00001/B00009/C00...</td>\n      <td>male</td>\n      <td>7</td>\n      <td>A00001/B00009/C00031/D29404/</td>\n      <td>A00001</td>\n      <td>B00009</td>\n      <td>C00031</td>\n      <td>D29404</td>\n      <td></td>\n    </tr>\n  </tbody>\n</table>\n</div>"
     },
     "metadata": {},
     "execution_count": 10
    }
   ],
   "source": [
    "#product_data list are separated by forward slash (/). They need to be split into product, category, category, sub_sub_category\n",
    "#added other category to see if there is more\n",
    "train_data[['category','sub_category','sub_sub_category','product','other']] = train_data.product_data.str.split('[/]', expand=True)\n",
    "train_data.head()\n"
   ]
  },
  {
   "cell_type": "code",
   "execution_count": 11,
   "metadata": {},
   "outputs": [],
   "source": [
    "#Drop original productlist, product_data and other columns as they are not needed\n",
    "train_data.drop(['ProductList', 'ProductListCount', 'product_data','other'], axis=1, inplace=True)"
   ]
  },
  {
   "cell_type": "code",
   "execution_count": 12,
   "metadata": {},
   "outputs": [
    {
     "output_type": "execute_result",
     "data": {
      "text/plain": [
       "  session_id       startTime         endTime  gender category sub_category  \\\n",
       "0     u16159  15/12/14 18:11  15/12/14 18:12  female   A00002       B00003   \n",
       "0     u16159  15/12/14 18:11  15/12/14 18:12  female   A00002       B00003   \n",
       "0     u16159  15/12/14 18:11  15/12/14 18:12  female   A00002       B00003   \n",
       "0     u16159  15/12/14 18:11  15/12/14 18:12  female   A00002       B00003   \n",
       "1     u10253  16/12/14 14:35  16/12/14 14:41    male   A00001       B00009   \n",
       "\n",
       "  sub_sub_category product  \n",
       "0           C00006  D28435  \n",
       "0           C00006  D02554  \n",
       "0           C00006  D28436  \n",
       "0           C00006  D28437  \n",
       "1           C00031  D29404  "
      ],
      "text/html": "<div>\n<style scoped>\n    .dataframe tbody tr th:only-of-type {\n        vertical-align: middle;\n    }\n\n    .dataframe tbody tr th {\n        vertical-align: top;\n    }\n\n    .dataframe thead th {\n        text-align: right;\n    }\n</style>\n<table border=\"1\" class=\"dataframe\">\n  <thead>\n    <tr style=\"text-align: right;\">\n      <th></th>\n      <th>session_id</th>\n      <th>startTime</th>\n      <th>endTime</th>\n      <th>gender</th>\n      <th>category</th>\n      <th>sub_category</th>\n      <th>sub_sub_category</th>\n      <th>product</th>\n    </tr>\n  </thead>\n  <tbody>\n    <tr>\n      <td>0</td>\n      <td>u16159</td>\n      <td>15/12/14 18:11</td>\n      <td>15/12/14 18:12</td>\n      <td>female</td>\n      <td>A00002</td>\n      <td>B00003</td>\n      <td>C00006</td>\n      <td>D28435</td>\n    </tr>\n    <tr>\n      <td>0</td>\n      <td>u16159</td>\n      <td>15/12/14 18:11</td>\n      <td>15/12/14 18:12</td>\n      <td>female</td>\n      <td>A00002</td>\n      <td>B00003</td>\n      <td>C00006</td>\n      <td>D02554</td>\n    </tr>\n    <tr>\n      <td>0</td>\n      <td>u16159</td>\n      <td>15/12/14 18:11</td>\n      <td>15/12/14 18:12</td>\n      <td>female</td>\n      <td>A00002</td>\n      <td>B00003</td>\n      <td>C00006</td>\n      <td>D28436</td>\n    </tr>\n    <tr>\n      <td>0</td>\n      <td>u16159</td>\n      <td>15/12/14 18:11</td>\n      <td>15/12/14 18:12</td>\n      <td>female</td>\n      <td>A00002</td>\n      <td>B00003</td>\n      <td>C00006</td>\n      <td>D28437</td>\n    </tr>\n    <tr>\n      <td>1</td>\n      <td>u10253</td>\n      <td>16/12/14 14:35</td>\n      <td>16/12/14 14:41</td>\n      <td>male</td>\n      <td>A00001</td>\n      <td>B00009</td>\n      <td>C00031</td>\n      <td>D29404</td>\n    </tr>\n  </tbody>\n</table>\n</div>"
     },
     "metadata": {},
     "execution_count": 12
    }
   ],
   "source": [
    "#Display data\n",
    "train_data.head()"
   ]
  },
  {
   "source": [
    "pandas provides the useful function values_counts() to count unique items – it returns a Series with the counts of unique values."
   ],
   "cell_type": "markdown",
   "metadata": {}
  },
  {
   "cell_type": "code",
   "execution_count": 13,
   "metadata": {},
   "outputs": [
    {
     "output_type": "execute_result",
     "data": {
      "text/plain": [
       "A00002    14931\n",
       "A00003     3822\n",
       "A00001     3300\n",
       "A00005      413\n",
       "A00004      261\n",
       "A00006      182\n",
       "A00011      130\n",
       "A00010       75\n",
       "A00007       52\n",
       "A00009       47\n",
       "A00008       38\n",
       "Name: category, dtype: int64"
      ]
     },
     "metadata": {},
     "execution_count": 13
    }
   ],
   "source": [
    "train_data['category'].value_counts()"
   ]
  },
  {
   "source": [
    "As per data set we have 11 categories of products"
   ],
   "cell_type": "markdown",
   "metadata": {}
  },
  {
   "source": [
    "Pandas dataframe.nunique() function return Series with number of distinct observations over requested axis. If we set the value of axis to be 0, then it finds the total number of unique observations over the index axis. If we set the value of axis to be 1, then it find the total number of unique observations over the column axis. It also provides the feature to exclude the NaN values from the count of unique numbers."
   ],
   "cell_type": "markdown",
   "metadata": {}
  },
  {
   "cell_type": "code",
   "execution_count": 14,
   "metadata": {},
   "outputs": [
    {
     "output_type": "execute_result",
     "data": {
      "text/plain": [
       "session_id          10500\n",
       "startTime            8815\n",
       "endTime              8803\n",
       "gender                  2\n",
       "category               11\n",
       "sub_category           85\n",
       "sub_sub_category      360\n",
       "product             16503\n",
       "dtype: int64"
      ]
     },
     "metadata": {},
     "execution_count": 14
    }
   ],
   "source": [
    "#find the unique values across the column axis.\n",
    "train_data.nunique()"
   ]
  },
  {
   "cell_type": "code",
   "execution_count": 15,
   "metadata": {},
   "outputs": [
    {
     "output_type": "execute_result",
     "data": {
      "text/plain": [
       "(23251, 8)"
      ]
     },
     "metadata": {},
     "execution_count": 15
    }
   ],
   "source": [
    "train_data.shape"
   ]
  },
  {
   "cell_type": "code",
   "execution_count": 16,
   "metadata": {},
   "outputs": [
    {
     "output_type": "stream",
     "name": "stdout",
     "text": [
      "<class 'pandas.core.frame.DataFrame'>\nInt64Index: 23251 entries, 0 to 10499\nData columns (total 8 columns):\nsession_id          23251 non-null object\nstartTime           23251 non-null object\nendTime             23251 non-null object\ngender              23251 non-null object\ncategory            23251 non-null object\nsub_category        23251 non-null object\nsub_sub_category    23251 non-null object\nproduct             23251 non-null object\ndtypes: object(8)\nmemory usage: 1.6+ MB\n"
     ]
    }
   ],
   "source": [
    "train_data.info()"
   ]
  },
  {
   "source": [
    "### Features Engineering\n",
    "Transform using dummy variables so sklearn can understand them."
   ],
   "cell_type": "markdown",
   "metadata": {}
  },
  {
   "source": [
    "To change the datatype of a date column to DateTime.\n",
    "train_bank[\"birthdate\"]= pd.to_datetime(train_bank[\"birthdate\"])\n",
    "\n",
    "To convert the whole date column to time in seconds without having to extract day, year, month.\n",
    "train_bank[\"birth\"]= [datetime.timestamp(i) for i in train_bank.birthdate]"
   ],
   "cell_type": "markdown",
   "metadata": {}
  },
  {
   "source": [
    "#### DateTime Features"
   ],
   "cell_type": "markdown",
   "metadata": {}
  },
  {
   "cell_type": "code",
   "execution_count": 17,
   "metadata": {},
   "outputs": [
    {
     "output_type": "execute_result",
     "data": {
      "text/plain": [
       "Index(['session_id', 'startTime', 'endTime', 'gender', 'category',\n",
       "       'sub_category', 'sub_sub_category', 'product', 'startTime_year',\n",
       "       'startTime_month', 'startTime_week', 'startTime_day', 'startTime_hour',\n",
       "       'startTime_minute', 'startTime_dayofweek', 'endTime_year',\n",
       "       'endTime_month', 'endTime_week', 'endTime_day', 'endTime_hour',\n",
       "       'endTime_minute', 'endTime_dayofweek'],\n",
       "      dtype='object')"
      ]
     },
     "metadata": {},
     "execution_count": 17
    }
   ],
   "source": [
    "#Convert startTime and endTime to datetime format\n",
    "train_data[\"startTime\"]= pd.to_datetime(train_data[\"startTime\"])\n",
    "train_data[\"endTime\"]= pd.to_datetime(train_data[\"endTime\"])\n",
    "\n",
    "#merged_train[\"closeddate\"]= [datetime.timestamp(i) for i in merged_train.closeddate]\n",
    "\n",
    "\n",
    "\n",
    "date_column= ['startTime', 'endTime']\n",
    "\n",
    "def extract_date(train_data,cols):\n",
    "    for x in cols:\n",
    "        train_data[x +'_year'] = train_data[x].dt.year\n",
    "        train_data[x +'_month'] = train_data[x].dt.month\n",
    "        train_data[x +'_week'] = train_data[x].dt.week\n",
    "        train_data[x +'_day'] = train_data[x].dt.day\n",
    "        train_data[x +'_hour'] = train_data[x].dt.hour\n",
    "        train_data[x +'_minute'] = train_data[x].dt.minute\n",
    "        train_data[x +'_dayofweek'] = train_data[x].dt.dayofweek\n",
    "          \n",
    "extract_date(train_data, date_column)\n",
    "\n",
    "train_data.columns"
   ]
  },
  {
   "cell_type": "code",
   "execution_count": 18,
   "metadata": {},
   "outputs": [
    {
     "output_type": "execute_result",
     "data": {
      "text/plain": [
       "  session_id           startTime             endTime  gender category  \\\n",
       "0     u16159 2014-12-15 18:11:00 2014-12-15 18:12:00  female   A00002   \n",
       "0     u16159 2014-12-15 18:11:00 2014-12-15 18:12:00  female   A00002   \n",
       "0     u16159 2014-12-15 18:11:00 2014-12-15 18:12:00  female   A00002   \n",
       "0     u16159 2014-12-15 18:11:00 2014-12-15 18:12:00  female   A00002   \n",
       "1     u10253 2014-12-16 14:35:00 2014-12-16 14:41:00    male   A00001   \n",
       "\n",
       "  sub_category sub_sub_category product  startTime_year  startTime_month  ...  \\\n",
       "0       B00003           C00006  D28435            2014               12  ...   \n",
       "0       B00003           C00006  D02554            2014               12  ...   \n",
       "0       B00003           C00006  D28436            2014               12  ...   \n",
       "0       B00003           C00006  D28437            2014               12  ...   \n",
       "1       B00009           C00031  D29404            2014               12  ...   \n",
       "\n",
       "   startTime_hour  startTime_minute  startTime_dayofweek  endTime_year  \\\n",
       "0              18                11                    0          2014   \n",
       "0              18                11                    0          2014   \n",
       "0              18                11                    0          2014   \n",
       "0              18                11                    0          2014   \n",
       "1              14                35                    1          2014   \n",
       "\n",
       "   endTime_month  endTime_week  endTime_day  endTime_hour  endTime_minute  \\\n",
       "0             12            51           15            18              12   \n",
       "0             12            51           15            18              12   \n",
       "0             12            51           15            18              12   \n",
       "0             12            51           15            18              12   \n",
       "1             12            51           16            14              41   \n",
       "\n",
       "   endTime_dayofweek  \n",
       "0                  0  \n",
       "0                  0  \n",
       "0                  0  \n",
       "0                  0  \n",
       "1                  1  \n",
       "\n",
       "[5 rows x 22 columns]"
      ],
      "text/html": "<div>\n<style scoped>\n    .dataframe tbody tr th:only-of-type {\n        vertical-align: middle;\n    }\n\n    .dataframe tbody tr th {\n        vertical-align: top;\n    }\n\n    .dataframe thead th {\n        text-align: right;\n    }\n</style>\n<table border=\"1\" class=\"dataframe\">\n  <thead>\n    <tr style=\"text-align: right;\">\n      <th></th>\n      <th>session_id</th>\n      <th>startTime</th>\n      <th>endTime</th>\n      <th>gender</th>\n      <th>category</th>\n      <th>sub_category</th>\n      <th>sub_sub_category</th>\n      <th>product</th>\n      <th>startTime_year</th>\n      <th>startTime_month</th>\n      <th>...</th>\n      <th>startTime_hour</th>\n      <th>startTime_minute</th>\n      <th>startTime_dayofweek</th>\n      <th>endTime_year</th>\n      <th>endTime_month</th>\n      <th>endTime_week</th>\n      <th>endTime_day</th>\n      <th>endTime_hour</th>\n      <th>endTime_minute</th>\n      <th>endTime_dayofweek</th>\n    </tr>\n  </thead>\n  <tbody>\n    <tr>\n      <td>0</td>\n      <td>u16159</td>\n      <td>2014-12-15 18:11:00</td>\n      <td>2014-12-15 18:12:00</td>\n      <td>female</td>\n      <td>A00002</td>\n      <td>B00003</td>\n      <td>C00006</td>\n      <td>D28435</td>\n      <td>2014</td>\n      <td>12</td>\n      <td>...</td>\n      <td>18</td>\n      <td>11</td>\n      <td>0</td>\n      <td>2014</td>\n      <td>12</td>\n      <td>51</td>\n      <td>15</td>\n      <td>18</td>\n      <td>12</td>\n      <td>0</td>\n    </tr>\n    <tr>\n      <td>0</td>\n      <td>u16159</td>\n      <td>2014-12-15 18:11:00</td>\n      <td>2014-12-15 18:12:00</td>\n      <td>female</td>\n      <td>A00002</td>\n      <td>B00003</td>\n      <td>C00006</td>\n      <td>D02554</td>\n      <td>2014</td>\n      <td>12</td>\n      <td>...</td>\n      <td>18</td>\n      <td>11</td>\n      <td>0</td>\n      <td>2014</td>\n      <td>12</td>\n      <td>51</td>\n      <td>15</td>\n      <td>18</td>\n      <td>12</td>\n      <td>0</td>\n    </tr>\n    <tr>\n      <td>0</td>\n      <td>u16159</td>\n      <td>2014-12-15 18:11:00</td>\n      <td>2014-12-15 18:12:00</td>\n      <td>female</td>\n      <td>A00002</td>\n      <td>B00003</td>\n      <td>C00006</td>\n      <td>D28436</td>\n      <td>2014</td>\n      <td>12</td>\n      <td>...</td>\n      <td>18</td>\n      <td>11</td>\n      <td>0</td>\n      <td>2014</td>\n      <td>12</td>\n      <td>51</td>\n      <td>15</td>\n      <td>18</td>\n      <td>12</td>\n      <td>0</td>\n    </tr>\n    <tr>\n      <td>0</td>\n      <td>u16159</td>\n      <td>2014-12-15 18:11:00</td>\n      <td>2014-12-15 18:12:00</td>\n      <td>female</td>\n      <td>A00002</td>\n      <td>B00003</td>\n      <td>C00006</td>\n      <td>D28437</td>\n      <td>2014</td>\n      <td>12</td>\n      <td>...</td>\n      <td>18</td>\n      <td>11</td>\n      <td>0</td>\n      <td>2014</td>\n      <td>12</td>\n      <td>51</td>\n      <td>15</td>\n      <td>18</td>\n      <td>12</td>\n      <td>0</td>\n    </tr>\n    <tr>\n      <td>1</td>\n      <td>u10253</td>\n      <td>2014-12-16 14:35:00</td>\n      <td>2014-12-16 14:41:00</td>\n      <td>male</td>\n      <td>A00001</td>\n      <td>B00009</td>\n      <td>C00031</td>\n      <td>D29404</td>\n      <td>2014</td>\n      <td>12</td>\n      <td>...</td>\n      <td>14</td>\n      <td>35</td>\n      <td>1</td>\n      <td>2014</td>\n      <td>12</td>\n      <td>51</td>\n      <td>16</td>\n      <td>14</td>\n      <td>41</td>\n      <td>1</td>\n    </tr>\n  </tbody>\n</table>\n<p>5 rows × 22 columns</p>\n</div>"
     },
     "metadata": {},
     "execution_count": 18
    }
   ],
   "source": [
    "train_data.head()"
   ]
  },
  {
   "cell_type": "code",
   "execution_count": 19,
   "metadata": {},
   "outputs": [
    {
     "output_type": "execute_result",
     "data": {
      "text/plain": [
       "0   2014-12-15 18:11:00\n",
       "0   2014-12-15 18:11:00\n",
       "0   2014-12-15 18:11:00\n",
       "0   2014-12-15 18:11:00\n",
       "1   2014-12-16 14:35:00\n",
       "Name: startTime, dtype: datetime64[ns]"
      ]
     },
     "metadata": {},
     "execution_count": 19
    }
   ],
   "source": [
    "train_data.startTime.head()"
   ]
  },
  {
   "source": [
    "##### Convert the difference between two datetime objects to seconds \n",
    "Converting the difference between two datetime.datetime objects to seconds returns the total amount of seconds between the two.\n",
    "\n",
    "The dt.total_seconds() function is used to return total duration of each element expressed in seconds.\n",
    "- Subtract the most recent datetime.datetime from the older datetime.datetime to create a datetime.timedelta that contains the time difference between the two. Use datetime.timedelta.total_seconds() to get the total amount of seconds.\n",
    "\n",
    "https://www.kite.com/python/answers/how-to-convert-the-difference-between-two-datetime-objects-to-seconds-in-python"
   ],
   "cell_type": "markdown",
   "metadata": {}
  },
  {
   "cell_type": "code",
   "execution_count": 20,
   "metadata": {},
   "outputs": [],
   "source": [
    "train_data['duration'] = (train_data['endTime']-train_data['startTime']).dt.total_seconds()"
   ]
  },
  {
   "cell_type": "code",
   "execution_count": 21,
   "metadata": {},
   "outputs": [],
   "source": [
    "#Dropping previous date columns after etracting year, day, month and quarters\n",
    "train_data.drop(columns=date_column,axis=1,inplace=True)"
   ]
  },
  {
   "cell_type": "code",
   "execution_count": 22,
   "metadata": {},
   "outputs": [
    {
     "output_type": "execute_result",
     "data": {
      "text/plain": [
       "  session_id  gender category sub_category sub_sub_category product  \\\n",
       "0     u16159  female   A00002       B00003           C00006  D28435   \n",
       "0     u16159  female   A00002       B00003           C00006  D02554   \n",
       "0     u16159  female   A00002       B00003           C00006  D28436   \n",
       "0     u16159  female   A00002       B00003           C00006  D28437   \n",
       "1     u10253    male   A00001       B00009           C00031  D29404   \n",
       "\n",
       "   startTime_year  startTime_month  startTime_week  startTime_day  ...  \\\n",
       "0            2014               12              51             15  ...   \n",
       "0            2014               12              51             15  ...   \n",
       "0            2014               12              51             15  ...   \n",
       "0            2014               12              51             15  ...   \n",
       "1            2014               12              51             16  ...   \n",
       "\n",
       "   startTime_minute  startTime_dayofweek  endTime_year  endTime_month  \\\n",
       "0                11                    0          2014             12   \n",
       "0                11                    0          2014             12   \n",
       "0                11                    0          2014             12   \n",
       "0                11                    0          2014             12   \n",
       "1                35                    1          2014             12   \n",
       "\n",
       "   endTime_week  endTime_day  endTime_hour  endTime_minute  endTime_dayofweek  \\\n",
       "0            51           15            18              12                  0   \n",
       "0            51           15            18              12                  0   \n",
       "0            51           15            18              12                  0   \n",
       "0            51           15            18              12                  0   \n",
       "1            51           16            14              41                  1   \n",
       "\n",
       "   duration  \n",
       "0      60.0  \n",
       "0      60.0  \n",
       "0      60.0  \n",
       "0      60.0  \n",
       "1     360.0  \n",
       "\n",
       "[5 rows x 21 columns]"
      ],
      "text/html": "<div>\n<style scoped>\n    .dataframe tbody tr th:only-of-type {\n        vertical-align: middle;\n    }\n\n    .dataframe tbody tr th {\n        vertical-align: top;\n    }\n\n    .dataframe thead th {\n        text-align: right;\n    }\n</style>\n<table border=\"1\" class=\"dataframe\">\n  <thead>\n    <tr style=\"text-align: right;\">\n      <th></th>\n      <th>session_id</th>\n      <th>gender</th>\n      <th>category</th>\n      <th>sub_category</th>\n      <th>sub_sub_category</th>\n      <th>product</th>\n      <th>startTime_year</th>\n      <th>startTime_month</th>\n      <th>startTime_week</th>\n      <th>startTime_day</th>\n      <th>...</th>\n      <th>startTime_minute</th>\n      <th>startTime_dayofweek</th>\n      <th>endTime_year</th>\n      <th>endTime_month</th>\n      <th>endTime_week</th>\n      <th>endTime_day</th>\n      <th>endTime_hour</th>\n      <th>endTime_minute</th>\n      <th>endTime_dayofweek</th>\n      <th>duration</th>\n    </tr>\n  </thead>\n  <tbody>\n    <tr>\n      <td>0</td>\n      <td>u16159</td>\n      <td>female</td>\n      <td>A00002</td>\n      <td>B00003</td>\n      <td>C00006</td>\n      <td>D28435</td>\n      <td>2014</td>\n      <td>12</td>\n      <td>51</td>\n      <td>15</td>\n      <td>...</td>\n      <td>11</td>\n      <td>0</td>\n      <td>2014</td>\n      <td>12</td>\n      <td>51</td>\n      <td>15</td>\n      <td>18</td>\n      <td>12</td>\n      <td>0</td>\n      <td>60.0</td>\n    </tr>\n    <tr>\n      <td>0</td>\n      <td>u16159</td>\n      <td>female</td>\n      <td>A00002</td>\n      <td>B00003</td>\n      <td>C00006</td>\n      <td>D02554</td>\n      <td>2014</td>\n      <td>12</td>\n      <td>51</td>\n      <td>15</td>\n      <td>...</td>\n      <td>11</td>\n      <td>0</td>\n      <td>2014</td>\n      <td>12</td>\n      <td>51</td>\n      <td>15</td>\n      <td>18</td>\n      <td>12</td>\n      <td>0</td>\n      <td>60.0</td>\n    </tr>\n    <tr>\n      <td>0</td>\n      <td>u16159</td>\n      <td>female</td>\n      <td>A00002</td>\n      <td>B00003</td>\n      <td>C00006</td>\n      <td>D28436</td>\n      <td>2014</td>\n      <td>12</td>\n      <td>51</td>\n      <td>15</td>\n      <td>...</td>\n      <td>11</td>\n      <td>0</td>\n      <td>2014</td>\n      <td>12</td>\n      <td>51</td>\n      <td>15</td>\n      <td>18</td>\n      <td>12</td>\n      <td>0</td>\n      <td>60.0</td>\n    </tr>\n    <tr>\n      <td>0</td>\n      <td>u16159</td>\n      <td>female</td>\n      <td>A00002</td>\n      <td>B00003</td>\n      <td>C00006</td>\n      <td>D28437</td>\n      <td>2014</td>\n      <td>12</td>\n      <td>51</td>\n      <td>15</td>\n      <td>...</td>\n      <td>11</td>\n      <td>0</td>\n      <td>2014</td>\n      <td>12</td>\n      <td>51</td>\n      <td>15</td>\n      <td>18</td>\n      <td>12</td>\n      <td>0</td>\n      <td>60.0</td>\n    </tr>\n    <tr>\n      <td>1</td>\n      <td>u10253</td>\n      <td>male</td>\n      <td>A00001</td>\n      <td>B00009</td>\n      <td>C00031</td>\n      <td>D29404</td>\n      <td>2014</td>\n      <td>12</td>\n      <td>51</td>\n      <td>16</td>\n      <td>...</td>\n      <td>35</td>\n      <td>1</td>\n      <td>2014</td>\n      <td>12</td>\n      <td>51</td>\n      <td>16</td>\n      <td>14</td>\n      <td>41</td>\n      <td>1</td>\n      <td>360.0</td>\n    </tr>\n  </tbody>\n</table>\n<p>5 rows × 21 columns</p>\n</div>"
     },
     "metadata": {},
     "execution_count": 22
    }
   ],
   "source": [
    "train_data.head()"
   ]
  },
  {
   "source": [
    "#### Missing Values"
   ],
   "cell_type": "markdown",
   "metadata": {}
  },
  {
   "cell_type": "code",
   "execution_count": 23,
   "metadata": {},
   "outputs": [
    {
     "output_type": "execute_result",
     "data": {
      "text/plain": [
       "session_id             False\n",
       "gender                 False\n",
       "category               False\n",
       "sub_category           False\n",
       "sub_sub_category       False\n",
       "product                False\n",
       "startTime_year         False\n",
       "startTime_month        False\n",
       "startTime_week         False\n",
       "startTime_day          False\n",
       "startTime_hour         False\n",
       "startTime_minute       False\n",
       "startTime_dayofweek    False\n",
       "endTime_year           False\n",
       "endTime_month          False\n",
       "endTime_week           False\n",
       "endTime_day            False\n",
       "endTime_hour           False\n",
       "endTime_minute         False\n",
       "endTime_dayofweek      False\n",
       "duration               False\n",
       "dtype: bool"
      ]
     },
     "metadata": {},
     "execution_count": 23
    }
   ],
   "source": [
    "train_data.isnull().any()"
   ]
  },
  {
   "source": [
    "There are no null values in the train_data dataframe"
   ],
   "cell_type": "markdown",
   "metadata": {}
  },
  {
   "cell_type": "code",
   "execution_count": 24,
   "metadata": {},
   "outputs": [
    {
     "output_type": "execute_result",
     "data": {
      "text/plain": [
       "0"
      ]
     },
     "metadata": {},
     "execution_count": 24
    }
   ],
   "source": [
    "#check duplicates\n",
    "train_data.duplicated().sum()"
   ]
  },
  {
   "source": [
    "### Visualizing Data"
   ],
   "cell_type": "markdown",
   "metadata": {}
  },
  {
   "source": [
    "fig, ax=plt.subplots(figsize=(16,8))\n",
    "ax.scatter(train_data['duration'], train_data['gender'])\n",
    "ax.set_xlabel('duration')\n",
    "ax.set_ylabel('gender')\n",
    "plt.show()"
   ],
   "cell_type": "markdown",
   "metadata": {}
  },
  {
   "source": [
    "plt.figure(figsize = (10,10))\n",
    "\n",
    "plt.title('Gender of participants')\n",
    "\n",
    "plt.hist(train_data['gender'], bins = 2, edgecolor = 'k')\n",
    "#Add edge color to make it more visible\n",
    "plt.show()"
   ],
   "cell_type": "markdown",
   "metadata": {}
  },
  {
   "source": [
    "#Gender by Duration\n",
    "plt.figure(figsize=(10,5)) #Resized graph\n",
    "plt.title('Gender by Duration of product viewing')\n",
    "\n",
    "#rotate labels\n",
    "plt.xticks(rotation=75)\n",
    "sns.barplot(x='gender',y='duration',data=train_data, ci=None, estimator=np.std); \n",
    "#specify specific color\n",
    "#y-axis numbers are just mean"
   ],
   "cell_type": "markdown",
   "metadata": {}
  },
  {
   "source": [
    "sns.pairplot(train_data,hue='gender');"
   ],
   "cell_type": "markdown",
   "metadata": {}
  },
  {
   "source": [
    "### Encoding Categorical Variables"
   ],
   "cell_type": "markdown",
   "metadata": {}
  },
  {
   "cell_type": "code",
   "execution_count": 25,
   "metadata": {},
   "outputs": [
    {
     "output_type": "execute_result",
     "data": {
      "text/plain": [
       "session_id              object\n",
       "gender                  object\n",
       "category                object\n",
       "sub_category            object\n",
       "sub_sub_category        object\n",
       "product                 object\n",
       "startTime_year           int64\n",
       "startTime_month          int64\n",
       "startTime_week           int64\n",
       "startTime_day            int64\n",
       "startTime_hour           int64\n",
       "startTime_minute         int64\n",
       "startTime_dayofweek      int64\n",
       "endTime_year             int64\n",
       "endTime_month            int64\n",
       "endTime_week             int64\n",
       "endTime_day              int64\n",
       "endTime_hour             int64\n",
       "endTime_minute           int64\n",
       "endTime_dayofweek        int64\n",
       "duration               float64\n",
       "dtype: object"
      ]
     },
     "metadata": {},
     "execution_count": 25
    }
   ],
   "source": [
    "train_data.dtypes"
   ]
  },
  {
   "cell_type": "code",
   "execution_count": 26,
   "metadata": {},
   "outputs": [],
   "source": [
    "# using .map to create dummy variables\n",
    "train_data['gender'] = train_data.gender.map({'female':0, 'male':1})"
   ]
  },
  {
   "cell_type": "code",
   "execution_count": 28,
   "metadata": {},
   "outputs": [
    {
     "output_type": "execute_result",
     "data": {
      "text/plain": [
       "  session_id  gender category sub_category sub_sub_category product  \\\n",
       "0     u16159       0   A00002       B00003           C00006  D28435   \n",
       "0     u16159       0   A00002       B00003           C00006  D02554   \n",
       "0     u16159       0   A00002       B00003           C00006  D28436   \n",
       "0     u16159       0   A00002       B00003           C00006  D28437   \n",
       "1     u10253       1   A00001       B00009           C00031  D29404   \n",
       "\n",
       "   startTime_year  startTime_month  startTime_week  startTime_day  ...  \\\n",
       "0            2014               12              51             15  ...   \n",
       "0            2014               12              51             15  ...   \n",
       "0            2014               12              51             15  ...   \n",
       "0            2014               12              51             15  ...   \n",
       "1            2014               12              51             16  ...   \n",
       "\n",
       "   startTime_minute  startTime_dayofweek  endTime_year  endTime_month  \\\n",
       "0                11                    0          2014             12   \n",
       "0                11                    0          2014             12   \n",
       "0                11                    0          2014             12   \n",
       "0                11                    0          2014             12   \n",
       "1                35                    1          2014             12   \n",
       "\n",
       "   endTime_week  endTime_day  endTime_hour  endTime_minute  endTime_dayofweek  \\\n",
       "0            51           15            18              12                  0   \n",
       "0            51           15            18              12                  0   \n",
       "0            51           15            18              12                  0   \n",
       "0            51           15            18              12                  0   \n",
       "1            51           16            14              41                  1   \n",
       "\n",
       "   duration  \n",
       "0      60.0  \n",
       "0      60.0  \n",
       "0      60.0  \n",
       "0      60.0  \n",
       "1     360.0  \n",
       "\n",
       "[5 rows x 21 columns]"
      ],
      "text/html": "<div>\n<style scoped>\n    .dataframe tbody tr th:only-of-type {\n        vertical-align: middle;\n    }\n\n    .dataframe tbody tr th {\n        vertical-align: top;\n    }\n\n    .dataframe thead th {\n        text-align: right;\n    }\n</style>\n<table border=\"1\" class=\"dataframe\">\n  <thead>\n    <tr style=\"text-align: right;\">\n      <th></th>\n      <th>session_id</th>\n      <th>gender</th>\n      <th>category</th>\n      <th>sub_category</th>\n      <th>sub_sub_category</th>\n      <th>product</th>\n      <th>startTime_year</th>\n      <th>startTime_month</th>\n      <th>startTime_week</th>\n      <th>startTime_day</th>\n      <th>...</th>\n      <th>startTime_minute</th>\n      <th>startTime_dayofweek</th>\n      <th>endTime_year</th>\n      <th>endTime_month</th>\n      <th>endTime_week</th>\n      <th>endTime_day</th>\n      <th>endTime_hour</th>\n      <th>endTime_minute</th>\n      <th>endTime_dayofweek</th>\n      <th>duration</th>\n    </tr>\n  </thead>\n  <tbody>\n    <tr>\n      <td>0</td>\n      <td>u16159</td>\n      <td>0</td>\n      <td>A00002</td>\n      <td>B00003</td>\n      <td>C00006</td>\n      <td>D28435</td>\n      <td>2014</td>\n      <td>12</td>\n      <td>51</td>\n      <td>15</td>\n      <td>...</td>\n      <td>11</td>\n      <td>0</td>\n      <td>2014</td>\n      <td>12</td>\n      <td>51</td>\n      <td>15</td>\n      <td>18</td>\n      <td>12</td>\n      <td>0</td>\n      <td>60.0</td>\n    </tr>\n    <tr>\n      <td>0</td>\n      <td>u16159</td>\n      <td>0</td>\n      <td>A00002</td>\n      <td>B00003</td>\n      <td>C00006</td>\n      <td>D02554</td>\n      <td>2014</td>\n      <td>12</td>\n      <td>51</td>\n      <td>15</td>\n      <td>...</td>\n      <td>11</td>\n      <td>0</td>\n      <td>2014</td>\n      <td>12</td>\n      <td>51</td>\n      <td>15</td>\n      <td>18</td>\n      <td>12</td>\n      <td>0</td>\n      <td>60.0</td>\n    </tr>\n    <tr>\n      <td>0</td>\n      <td>u16159</td>\n      <td>0</td>\n      <td>A00002</td>\n      <td>B00003</td>\n      <td>C00006</td>\n      <td>D28436</td>\n      <td>2014</td>\n      <td>12</td>\n      <td>51</td>\n      <td>15</td>\n      <td>...</td>\n      <td>11</td>\n      <td>0</td>\n      <td>2014</td>\n      <td>12</td>\n      <td>51</td>\n      <td>15</td>\n      <td>18</td>\n      <td>12</td>\n      <td>0</td>\n      <td>60.0</td>\n    </tr>\n    <tr>\n      <td>0</td>\n      <td>u16159</td>\n      <td>0</td>\n      <td>A00002</td>\n      <td>B00003</td>\n      <td>C00006</td>\n      <td>D28437</td>\n      <td>2014</td>\n      <td>12</td>\n      <td>51</td>\n      <td>15</td>\n      <td>...</td>\n      <td>11</td>\n      <td>0</td>\n      <td>2014</td>\n      <td>12</td>\n      <td>51</td>\n      <td>15</td>\n      <td>18</td>\n      <td>12</td>\n      <td>0</td>\n      <td>60.0</td>\n    </tr>\n    <tr>\n      <td>1</td>\n      <td>u10253</td>\n      <td>1</td>\n      <td>A00001</td>\n      <td>B00009</td>\n      <td>C00031</td>\n      <td>D29404</td>\n      <td>2014</td>\n      <td>12</td>\n      <td>51</td>\n      <td>16</td>\n      <td>...</td>\n      <td>35</td>\n      <td>1</td>\n      <td>2014</td>\n      <td>12</td>\n      <td>51</td>\n      <td>16</td>\n      <td>14</td>\n      <td>41</td>\n      <td>1</td>\n      <td>360.0</td>\n    </tr>\n  </tbody>\n</table>\n<p>5 rows × 21 columns</p>\n</div>"
     },
     "metadata": {},
     "execution_count": 28
    }
   ],
   "source": [
    "train_data.head()"
   ]
  },
  {
   "source": [
    "#Check categorical data\n",
    "cat_cols = train_data.columns[train_data.dtypes ==\"object\"]\n",
    "print(cat_cols)\n",
    "train_data.loc[:,cat_cols].head()"
   ],
   "cell_type": "markdown",
   "metadata": {}
  },
  {
   "cell_type": "code",
   "execution_count": 29,
   "metadata": {},
   "outputs": [],
   "source": [
    "from sklearn.model_selection import train_test_split\n",
    "# Separate target from predictors\n",
    "y=train_data.gender\n",
    "X=train_data.drop('gender', axis=1) #drops the gender column\n",
    "\n",
    "\n",
    "# Divide data into training and validation subsets\n",
    "X_train_full, X_valid_full, y_train, y_valid = train_test_split(X, y, train_size=0.8, test_size=0.2, random_state=0)\n",
    "\n",
    "# \"Cardinality\" means the number of unique values in a column\n",
    "# Select categorical columns with relatively low cardinality (convenient but arbitrary)\n",
    "low_cardinality_cols = [cname for cname in X_train_full.columns if X_train_full[cname].dtype == \"object\"]\n",
    "\n",
    "# Select numerical columns\n",
    "numerical_cols = [cname for cname in X_train_full.columns if X_train_full[cname].dtype in ['int64', 'float64']]\n",
    "\n",
    "# Keep selected columns only\n",
    "my_cols = low_cardinality_cols + numerical_cols\n",
    "X_train = X_train_full[my_cols].copy()\n",
    "X_valid = X_valid_full[my_cols].copy()"
   ]
  },
  {
   "source": [
    "#### Label Encoding"
   ],
   "cell_type": "markdown",
   "metadata": {}
  },
  {
   "source": [
    "from sklearn.ensemble import RandomForestRegressor\n",
    "from sklearn.metrics import mean_absolute_error\n",
    "\n",
    "# Function for comparing different approaches\n",
    "def score_dataset(X_train, X_valid, y_train, y_valid):\n",
    "    model = RandomForestRegressor(n_estimators=100, random_state=0)\n",
    "    model.fit(X_train, y_train)\n",
    "    preds = model.predict(X_valid)\n",
    "    return mean_absolute_error(y_valid, preds)"
   ],
   "cell_type": "markdown",
   "metadata": {}
  },
  {
   "source": [
    "# Get list of categorical variables\n",
    "s = (X_train.dtypes == 'object')\n",
    "object_cols = list(s[s].index)\n",
    "\n",
    "print(\"Categorical variables:\")\n",
    "print(object_cols)"
   ],
   "cell_type": "code",
   "metadata": {},
   "execution_count": 31,
   "outputs": [
    {
     "output_type": "stream",
     "name": "stdout",
     "text": [
      "Categorical variables:\n['session_id', 'category', 'sub_category', 'sub_sub_category', 'product']\n"
     ]
    }
   ]
  },
  {
   "source": [
    "# All categorical columns\n",
    "object_cols = [col for col in X_train.columns if X_train[col].dtype == \"object\"]\n",
    "\n",
    "# Columns that can be safely label encoded\n",
    "good_label_cols = [col for col in object_cols if \n",
    "                   set(X_train[col]) == set(X_valid[col])]\n",
    "        \n",
    "# Problematic columns that will be dropped from the dataset\n",
    "bad_label_cols = list(set(object_cols)-set(good_label_cols))\n",
    "        \n",
    "print('Categorical columns that will be label encoded:', good_label_cols)\n",
    "print('\\nCategorical columns that will be dropped from the dataset:', bad_label_cols)"
   ],
   "cell_type": "markdown",
   "metadata": {}
  },
  {
   "source": [
    "from sklearn.preprocessing import LabelEncoder\n",
    "\n",
    "# Drop categorical columns that will not be encoded\n",
    "label_X_train = X_train.drop(bad_label_cols, axis=1)\n",
    "label_X_valid = X_valid.drop(bad_label_cols, axis=1)\n",
    "\n",
    "# Apply label encoder \n",
    "label_encoder = LabelEncoder()\n",
    "for col in set(good_label_cols):\n",
    "    label_X_train[col] = label_encoder.fit_transform(X_train[col])\n",
    "    label_X_valid[col] = label_encoder.transform(X_valid[col])"
   ],
   "cell_type": "markdown",
   "metadata": {}
  },
  {
   "cell_type": "code",
   "execution_count": 32,
   "metadata": {},
   "outputs": [],
   "source": [
    "from sklearn import preprocessing \n",
    "label_encoder = preprocessing.LabelEncoder() \n",
    "  \n",
    "for i in object_cols:\n",
    "    train_data[i]= label_encoder.fit_transform(train_data[i]) "
   ]
  },
  {
   "cell_type": "code",
   "execution_count": 33,
   "metadata": {},
   "outputs": [
    {
     "output_type": "execute_result",
     "data": {
      "text/plain": [
       "       session_id  gender  category  sub_category  sub_sub_category  product  \\\n",
       "0            4324       0         1             2                 5    13325   \n",
       "0            4324       0         1             2                 5     1478   \n",
       "0            4324       0         1             2                 5    13326   \n",
       "0            4324       0         1             2                 5    13327   \n",
       "1             178       1         0             8                30    13753   \n",
       "...           ...     ...       ...           ...               ...      ...   \n",
       "10498        4978       0         2            11                71     4879   \n",
       "10499        9212       0         1             0                 9     1349   \n",
       "10499        9212       0         1             1                 1    14996   \n",
       "10499        9212       0         1             0                58    10266   \n",
       "10499        9212       0         2             3                86     9067   \n",
       "\n",
       "       startTime_year  startTime_month  startTime_week  startTime_day  ...  \\\n",
       "0                2014               12              51             15  ...   \n",
       "0                2014               12              51             15  ...   \n",
       "0                2014               12              51             15  ...   \n",
       "0                2014               12              51             15  ...   \n",
       "1                2014               12              51             16  ...   \n",
       "...               ...              ...             ...            ...  ...   \n",
       "10498            2014               11              47             22  ...   \n",
       "10499            2014               12              51             19  ...   \n",
       "10499            2014               12              51             19  ...   \n",
       "10499            2014               12              51             19  ...   \n",
       "10499            2014               12              51             19  ...   \n",
       "\n",
       "       startTime_minute  startTime_dayofweek  endTime_year  endTime_month  \\\n",
       "0                    11                    0          2014             12   \n",
       "0                    11                    0          2014             12   \n",
       "0                    11                    0          2014             12   \n",
       "0                    11                    0          2014             12   \n",
       "1                    35                    1          2014             12   \n",
       "...                 ...                  ...           ...            ...   \n",
       "10498                27                    5          2014             11   \n",
       "10499                11                    4          2014             12   \n",
       "10499                11                    4          2014             12   \n",
       "10499                11                    4          2014             12   \n",
       "10499                11                    4          2014             12   \n",
       "\n",
       "       endTime_week  endTime_day  endTime_hour  endTime_minute  \\\n",
       "0                51           15            18              12   \n",
       "0                51           15            18              12   \n",
       "0                51           15            18              12   \n",
       "0                51           15            18              12   \n",
       "1                51           16            14              41   \n",
       "...             ...          ...           ...             ...   \n",
       "10498            47           22            11              27   \n",
       "10499            51           19             3              19   \n",
       "10499            51           19             3              19   \n",
       "10499            51           19             3              19   \n",
       "10499            51           19             3              19   \n",
       "\n",
       "       endTime_dayofweek  duration  \n",
       "0                      0      60.0  \n",
       "0                      0      60.0  \n",
       "0                      0      60.0  \n",
       "0                      0      60.0  \n",
       "1                      1     360.0  \n",
       "...                  ...       ...  \n",
       "10498                  5       0.0  \n",
       "10499                  4     480.0  \n",
       "10499                  4     480.0  \n",
       "10499                  4     480.0  \n",
       "10499                  4     480.0  \n",
       "\n",
       "[23251 rows x 21 columns]"
      ],
      "text/html": "<div>\n<style scoped>\n    .dataframe tbody tr th:only-of-type {\n        vertical-align: middle;\n    }\n\n    .dataframe tbody tr th {\n        vertical-align: top;\n    }\n\n    .dataframe thead th {\n        text-align: right;\n    }\n</style>\n<table border=\"1\" class=\"dataframe\">\n  <thead>\n    <tr style=\"text-align: right;\">\n      <th></th>\n      <th>session_id</th>\n      <th>gender</th>\n      <th>category</th>\n      <th>sub_category</th>\n      <th>sub_sub_category</th>\n      <th>product</th>\n      <th>startTime_year</th>\n      <th>startTime_month</th>\n      <th>startTime_week</th>\n      <th>startTime_day</th>\n      <th>...</th>\n      <th>startTime_minute</th>\n      <th>startTime_dayofweek</th>\n      <th>endTime_year</th>\n      <th>endTime_month</th>\n      <th>endTime_week</th>\n      <th>endTime_day</th>\n      <th>endTime_hour</th>\n      <th>endTime_minute</th>\n      <th>endTime_dayofweek</th>\n      <th>duration</th>\n    </tr>\n  </thead>\n  <tbody>\n    <tr>\n      <td>0</td>\n      <td>4324</td>\n      <td>0</td>\n      <td>1</td>\n      <td>2</td>\n      <td>5</td>\n      <td>13325</td>\n      <td>2014</td>\n      <td>12</td>\n      <td>51</td>\n      <td>15</td>\n      <td>...</td>\n      <td>11</td>\n      <td>0</td>\n      <td>2014</td>\n      <td>12</td>\n      <td>51</td>\n      <td>15</td>\n      <td>18</td>\n      <td>12</td>\n      <td>0</td>\n      <td>60.0</td>\n    </tr>\n    <tr>\n      <td>0</td>\n      <td>4324</td>\n      <td>0</td>\n      <td>1</td>\n      <td>2</td>\n      <td>5</td>\n      <td>1478</td>\n      <td>2014</td>\n      <td>12</td>\n      <td>51</td>\n      <td>15</td>\n      <td>...</td>\n      <td>11</td>\n      <td>0</td>\n      <td>2014</td>\n      <td>12</td>\n      <td>51</td>\n      <td>15</td>\n      <td>18</td>\n      <td>12</td>\n      <td>0</td>\n      <td>60.0</td>\n    </tr>\n    <tr>\n      <td>0</td>\n      <td>4324</td>\n      <td>0</td>\n      <td>1</td>\n      <td>2</td>\n      <td>5</td>\n      <td>13326</td>\n      <td>2014</td>\n      <td>12</td>\n      <td>51</td>\n      <td>15</td>\n      <td>...</td>\n      <td>11</td>\n      <td>0</td>\n      <td>2014</td>\n      <td>12</td>\n      <td>51</td>\n      <td>15</td>\n      <td>18</td>\n      <td>12</td>\n      <td>0</td>\n      <td>60.0</td>\n    </tr>\n    <tr>\n      <td>0</td>\n      <td>4324</td>\n      <td>0</td>\n      <td>1</td>\n      <td>2</td>\n      <td>5</td>\n      <td>13327</td>\n      <td>2014</td>\n      <td>12</td>\n      <td>51</td>\n      <td>15</td>\n      <td>...</td>\n      <td>11</td>\n      <td>0</td>\n      <td>2014</td>\n      <td>12</td>\n      <td>51</td>\n      <td>15</td>\n      <td>18</td>\n      <td>12</td>\n      <td>0</td>\n      <td>60.0</td>\n    </tr>\n    <tr>\n      <td>1</td>\n      <td>178</td>\n      <td>1</td>\n      <td>0</td>\n      <td>8</td>\n      <td>30</td>\n      <td>13753</td>\n      <td>2014</td>\n      <td>12</td>\n      <td>51</td>\n      <td>16</td>\n      <td>...</td>\n      <td>35</td>\n      <td>1</td>\n      <td>2014</td>\n      <td>12</td>\n      <td>51</td>\n      <td>16</td>\n      <td>14</td>\n      <td>41</td>\n      <td>1</td>\n      <td>360.0</td>\n    </tr>\n    <tr>\n      <td>...</td>\n      <td>...</td>\n      <td>...</td>\n      <td>...</td>\n      <td>...</td>\n      <td>...</td>\n      <td>...</td>\n      <td>...</td>\n      <td>...</td>\n      <td>...</td>\n      <td>...</td>\n      <td>...</td>\n      <td>...</td>\n      <td>...</td>\n      <td>...</td>\n      <td>...</td>\n      <td>...</td>\n      <td>...</td>\n      <td>...</td>\n      <td>...</td>\n      <td>...</td>\n      <td>...</td>\n    </tr>\n    <tr>\n      <td>10498</td>\n      <td>4978</td>\n      <td>0</td>\n      <td>2</td>\n      <td>11</td>\n      <td>71</td>\n      <td>4879</td>\n      <td>2014</td>\n      <td>11</td>\n      <td>47</td>\n      <td>22</td>\n      <td>...</td>\n      <td>27</td>\n      <td>5</td>\n      <td>2014</td>\n      <td>11</td>\n      <td>47</td>\n      <td>22</td>\n      <td>11</td>\n      <td>27</td>\n      <td>5</td>\n      <td>0.0</td>\n    </tr>\n    <tr>\n      <td>10499</td>\n      <td>9212</td>\n      <td>0</td>\n      <td>1</td>\n      <td>0</td>\n      <td>9</td>\n      <td>1349</td>\n      <td>2014</td>\n      <td>12</td>\n      <td>51</td>\n      <td>19</td>\n      <td>...</td>\n      <td>11</td>\n      <td>4</td>\n      <td>2014</td>\n      <td>12</td>\n      <td>51</td>\n      <td>19</td>\n      <td>3</td>\n      <td>19</td>\n      <td>4</td>\n      <td>480.0</td>\n    </tr>\n    <tr>\n      <td>10499</td>\n      <td>9212</td>\n      <td>0</td>\n      <td>1</td>\n      <td>1</td>\n      <td>1</td>\n      <td>14996</td>\n      <td>2014</td>\n      <td>12</td>\n      <td>51</td>\n      <td>19</td>\n      <td>...</td>\n      <td>11</td>\n      <td>4</td>\n      <td>2014</td>\n      <td>12</td>\n      <td>51</td>\n      <td>19</td>\n      <td>3</td>\n      <td>19</td>\n      <td>4</td>\n      <td>480.0</td>\n    </tr>\n    <tr>\n      <td>10499</td>\n      <td>9212</td>\n      <td>0</td>\n      <td>1</td>\n      <td>0</td>\n      <td>58</td>\n      <td>10266</td>\n      <td>2014</td>\n      <td>12</td>\n      <td>51</td>\n      <td>19</td>\n      <td>...</td>\n      <td>11</td>\n      <td>4</td>\n      <td>2014</td>\n      <td>12</td>\n      <td>51</td>\n      <td>19</td>\n      <td>3</td>\n      <td>19</td>\n      <td>4</td>\n      <td>480.0</td>\n    </tr>\n    <tr>\n      <td>10499</td>\n      <td>9212</td>\n      <td>0</td>\n      <td>2</td>\n      <td>3</td>\n      <td>86</td>\n      <td>9067</td>\n      <td>2014</td>\n      <td>12</td>\n      <td>51</td>\n      <td>19</td>\n      <td>...</td>\n      <td>11</td>\n      <td>4</td>\n      <td>2014</td>\n      <td>12</td>\n      <td>51</td>\n      <td>19</td>\n      <td>3</td>\n      <td>19</td>\n      <td>4</td>\n      <td>480.0</td>\n    </tr>\n  </tbody>\n</table>\n<p>23251 rows × 21 columns</p>\n</div>"
     },
     "metadata": {},
     "execution_count": 33
    }
   ],
   "source": [
    "train_data"
   ]
  },
  {
   "cell_type": "code",
   "execution_count": 34,
   "metadata": {},
   "outputs": [
    {
     "output_type": "execute_result",
     "data": {
      "text/plain": [
       "session_id               int32\n",
       "gender                   int64\n",
       "category                 int32\n",
       "sub_category             int32\n",
       "sub_sub_category         int32\n",
       "product                  int32\n",
       "startTime_year           int64\n",
       "startTime_month          int64\n",
       "startTime_week           int64\n",
       "startTime_day            int64\n",
       "startTime_hour           int64\n",
       "startTime_minute         int64\n",
       "startTime_dayofweek      int64\n",
       "endTime_year             int64\n",
       "endTime_month            int64\n",
       "endTime_week             int64\n",
       "endTime_day              int64\n",
       "endTime_hour             int64\n",
       "endTime_minute           int64\n",
       "endTime_dayofweek        int64\n",
       "duration               float64\n",
       "dtype: object"
      ]
     },
     "metadata": {},
     "execution_count": 34
    }
   ],
   "source": [
    "train_data.dtypes"
   ]
  },
  {
   "source": [
    "from sklearn.model_selection import train_test_split\n",
    "# Separate target from predictors\n",
    "X=train_data.drop('gender', axis=1) #drops the gender column\n",
    "y=train_data['gender']"
   ],
   "cell_type": "markdown",
   "metadata": {}
  },
  {
   "source": [
    "# Divide data into training and validation subsets\n",
    "X_train, X_valid, y_train, y_valid = train_test_split(X, y, train_size=0.8, test_size=0.2, random_state=0)\n"
   ],
   "cell_type": "markdown",
   "metadata": {}
  },
  {
   "cell_type": "code",
   "execution_count": null,
   "metadata": {},
   "outputs": [],
   "source": [
    "from sklearn.tree import DecisionTreeRegressor\n",
    "from sklearn.metrics import mean_absolute_error\n",
    "# Specify Model\n",
    "train_model = DecisionTreeRegressor(random_state=1)\n",
    "# Fit Model\n",
    "melb_model.fit(train_X, train_y)\n",
    "\n",
    "# Make validation predictions and calculate mean absolute error\n",
    "val_predictions = melb_model.predict(val_X)\n",
    "validation_mae = mean_absolute_error(val_predictions, val_y)\n",
    "print(\"Validation MAE when not specifying max_leaf_nodes: {:,.0f}\".format(validation_mae))\n",
    "\n",
    "\n",
    "# Using best value for max_leaf_nodes\n",
    "melb_model = DecisionTreeRegressor(max_leaf_nodes=100, random_state=1)\n",
    "melb_model.fit(train_X, train_y)\n",
    "val_predictions = melb_model.predict(val_X)\n",
    "val_mae = mean_absolute_error(val_predictions, val_y)\n",
    "print(\"Validation MAE for best value of max_leaf_nodes: {:,.0f}\".format(val_mae))"
   ]
  },
  {
   "cell_type": "code",
   "execution_count": null,
   "metadata": {},
   "outputs": [],
   "source": []
  },
  {
   "source": [
    "## Data Modeling"
   ],
   "cell_type": "markdown",
   "metadata": {}
  },
  {
   "cell_type": "code",
   "execution_count": null,
   "metadata": {},
   "outputs": [],
   "source": [
    "X_train,X_test,y_train,y_test=train_test_split(X,y,test_size=0.3)"
   ]
  },
  {
   "cell_type": "code",
   "execution_count": null,
   "metadata": {},
   "outputs": [],
   "source": [
    "from sklearn.tree import DecisionTreeClassifier\n",
    "DecisionTree_ML=DecisionTreeClassifier(criterion='entropy', splitter='random')\n",
    "DecisionTree_ML.fit(X_train,y_train)\n",
    "predictions=DecisionTree_ML.predict(X_test)\n",
    "#library for reports\n",
    "from sklearn.metrics import classification_report, confusion_matrix\n",
    "print(classification_report(y_test,predictions))"
   ]
  },
  {
   "cell_type": "code",
   "execution_count": null,
   "metadata": {},
   "outputs": [],
   "source": [
    "from sklearn.ensemble import RandomForestClassifier\n",
    "\n",
    "RandomForest=RandomForestClassifier(n_estimators=10)\n",
    "RandomForest.fit(X_train,y_train)\n",
    "\n",
    "pred=RandomForest.predict(X_test)\n",
    "pred\n",
    "\n",
    "from sklearn.metrics import classification_report, confusion_matrix\n",
    "print(classification_report(y_test,pred))"
   ]
  },
  {
   "cell_type": "code",
   "execution_count": null,
   "metadata": {},
   "outputs": [],
   "source": [
    "#AdaBoost\n",
    "from sklearn.ensemble import AdaBoostClassifier\n",
    "\n",
    "clf_Ada=AdaBoostClassifier(\n",
    "DecisionTreeClassifier(), n_estimators=100)\n",
    "\n",
    "clf_Ada.fit(X_train,y_train)\n",
    "pred_Ada=clf_Ada.predict(X_test)\n",
    "pred_Ada\n",
    "\n",
    "from sklearn.metrics import classification_report, confusion_matrix\n",
    "print(classification_report(y_test,pred_Ada))"
   ]
  },
  {
   "cell_type": "code",
   "execution_count": null,
   "metadata": {},
   "outputs": [],
   "source": [
    "from sklearn.neighbors import KNeighborsClassifier\n",
    "Model_KNN=KNeighborsClassifier(n_neighbors=2,weights='uniform', algorithm='kd_tree', leaf_size=15, p=2)\n",
    "Model_KNN.fit(X_train,y_train)\n",
    "predictions=Model_KNN.predict(X_test)\n",
    "#library for reports\n",
    "from sklearn.metrics import classification_report, confusion_matrix\n",
    "print(classification_report(y_test,predictions))"
   ]
  },
  {
   "cell_type": "code",
   "execution_count": null,
   "metadata": {},
   "outputs": [],
   "source": [
    "from sklearn.naive_bayes import GaussianNB\n",
    "Model_GNB=GaussianNB(priors=None, var_smoothing=1e-06)\n",
    "Model_GNB.fit(X_train,y_train)\n",
    "predictions=Model_GNB.predict(X_test)\n",
    "#library for reports\n",
    "from sklearn.metrics import classification_report, confusion_matrix\n",
    "print(classification_report(y_test,predictions))"
   ]
  },
  {
   "cell_type": "code",
   "execution_count": null,
   "metadata": {},
   "outputs": [],
   "source": [
    "data['start_date'] = [d.date() for d in data['start_datetime']]\n",
    "data['start_time'] = [d.time() for d in data['start_datetime']]\n",
    "data['end_date'] = [d.date() for d in data['end_datetime']]\n",
    "data['end_time'] = [d.time() for d in data['end_datetime']]"
   ]
  }
 ]
}