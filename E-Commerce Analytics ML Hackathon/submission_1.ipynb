{
 "metadata": {
  "language_info": {
   "codemirror_mode": {
    "name": "ipython",
    "version": 3
   },
   "file_extension": ".py",
   "mimetype": "text/x-python",
   "name": "python",
   "nbconvert_exporter": "python",
   "pygments_lexer": "ipython3",
   "version": "3.7.4"
  },
  "orig_nbformat": 2,
  "kernelspec": {
   "name": "python374jvsc74a57bd051d439fa56edd0938934adc9194f49c45bdd2291f02681030135565519cea739",
   "display_name": "Python 3.7.4 64-bit ('base': conda)"
  }
 },
 "nbformat": 4,
 "nbformat_minor": 2,
 "cells": [
  {
   "source": [
    "# Step 1: Gather Data"
   ],
   "cell_type": "markdown",
   "metadata": {}
  },
  {
   "source": [
    "### *Import Libraries*"
   ],
   "cell_type": "markdown",
   "metadata": {}
  },
  {
   "cell_type": "code",
   "execution_count": 1,
   "metadata": {},
   "outputs": [],
   "source": [
    "import pandas as pd \n",
    "import numpy as np \n",
    "import matplotlib.pyplot as plt \n",
    "import seaborn as sns \n",
    "%matplotlib inline  \n",
    "\n",
    "import warnings\n",
    "warnings.filterwarnings('ignore')"
   ]
  },
  {
   "source": [
    "### *Get data*"
   ],
   "cell_type": "markdown",
   "metadata": {}
  },
  {
   "cell_type": "code",
   "execution_count": 2,
   "metadata": {},
   "outputs": [],
   "source": [
    "# save filepath to variable for easier access\n",
    "ecommerce_file_path = 'train.csv'\n",
    "test_file_path = 'test.csv'\n",
    "submission_file_path = 'sample_submission.csv'\n",
    "\n",
    "# read the data and store data in DataFrame titled train_data\n",
    "train_data = pd.read_csv(ecommerce_file_path)\n",
    "test_data = pd.read_csv(test_file_path)\n",
    "submission_data = pd.read_csv(submission_file_path)"
   ]
  },
  {
   "cell_type": "code",
   "execution_count": 3,
   "metadata": {},
   "outputs": [
    {
     "output_type": "execute_result",
     "data": {
      "text/plain": [
       "((10500, 5), (4500, 4), (4500, 2))"
      ]
     },
     "metadata": {},
     "execution_count": 3
    }
   ],
   "source": [
    "train_data.shape, test_data.shape, submission_data.shape"
   ]
  },
  {
   "source": [
    "Train data has:\n",
    "- 10,500 rows (observations)\n",
    "- 5 columns (features)\n",
    "\n",
    "Test data has:\n",
    "- 4,500 rows (observations)\n",
    "- 4 columns (features)\n",
    "\n",
    "Submission data has:\n",
    "- 4,500 rows \n",
    "- 2 columns "
   ],
   "cell_type": "markdown",
   "metadata": {}
  },
  {
   "cell_type": "code",
   "execution_count": 4,
   "metadata": {},
   "outputs": [
    {
     "output_type": "stream",
     "name": "stdout",
     "text": [
      "<class 'pandas.core.frame.DataFrame'>\nRangeIndex: 10500 entries, 0 to 10499\nData columns (total 5 columns):\nsession_id     10500 non-null object\nstartTime      10500 non-null object\nendTime        10500 non-null object\nProductList    10500 non-null object\ngender         10500 non-null object\ndtypes: object(5)\nmemory usage: 410.3+ KB\n"
     ]
    }
   ],
   "source": [
    "train_data.info()"
   ]
  },
  {
   "cell_type": "code",
   "execution_count": 5,
   "metadata": {},
   "outputs": [
    {
     "output_type": "execute_result",
     "data": {
      "text/plain": [
       "       session_id       startTime         endTime  \\\n",
       "count       10500           10500           10500   \n",
       "unique      10500            8815            8803   \n",
       "top        u10728  17/12/14 12:29  14/11/14 16:15   \n",
       "freq            1               5               5   \n",
       "\n",
       "                         ProductList  gender  \n",
       "count                          10500   10500  \n",
       "unique                          9402       2  \n",
       "top     A00002/B00002/C00007/D00266/  female  \n",
       "freq                              25    8192  "
      ],
      "text/html": "<div>\n<style scoped>\n    .dataframe tbody tr th:only-of-type {\n        vertical-align: middle;\n    }\n\n    .dataframe tbody tr th {\n        vertical-align: top;\n    }\n\n    .dataframe thead th {\n        text-align: right;\n    }\n</style>\n<table border=\"1\" class=\"dataframe\">\n  <thead>\n    <tr style=\"text-align: right;\">\n      <th></th>\n      <th>session_id</th>\n      <th>startTime</th>\n      <th>endTime</th>\n      <th>ProductList</th>\n      <th>gender</th>\n    </tr>\n  </thead>\n  <tbody>\n    <tr>\n      <td>count</td>\n      <td>10500</td>\n      <td>10500</td>\n      <td>10500</td>\n      <td>10500</td>\n      <td>10500</td>\n    </tr>\n    <tr>\n      <td>unique</td>\n      <td>10500</td>\n      <td>8815</td>\n      <td>8803</td>\n      <td>9402</td>\n      <td>2</td>\n    </tr>\n    <tr>\n      <td>top</td>\n      <td>u10728</td>\n      <td>17/12/14 12:29</td>\n      <td>14/11/14 16:15</td>\n      <td>A00002/B00002/C00007/D00266/</td>\n      <td>female</td>\n    </tr>\n    <tr>\n      <td>freq</td>\n      <td>1</td>\n      <td>5</td>\n      <td>5</td>\n      <td>25</td>\n      <td>8192</td>\n    </tr>\n  </tbody>\n</table>\n</div>"
     },
     "metadata": {},
     "execution_count": 5
    }
   ],
   "source": [
    "train_data.describe()"
   ]
  },
  {
   "cell_type": "code",
   "execution_count": 6,
   "metadata": {},
   "outputs": [
    {
     "output_type": "execute_result",
     "data": {
      "text/plain": [
       "  session_id       startTime         endTime  \\\n",
       "0     u16159  15/12/14 18:11  15/12/14 18:12   \n",
       "1     u10253  16/12/14 14:35  16/12/14 14:41   \n",
       "2     u19037  01/12/14 15:58  01/12/14 15:58   \n",
       "3     u14556   23/11/14 2:57   23/11/14 3:00   \n",
       "4     u24295  17/12/14 16:44  17/12/14 16:46   \n",
       "\n",
       "                                         ProductList  gender  \n",
       "0  A00002/B00003/C00006/D28435/;A00002/B00003/C00...  female  \n",
       "1  A00001/B00009/C00031/D29404/;A00001/B00009/C00...    male  \n",
       "2                       A00002/B00001/C00020/D16944/  female  \n",
       "3  A00002/B00004/C00018/D10284/;A00002/B00004/C00...  female  \n",
       "4  A00001/B00001/C00012/D30805/;A00001/B00001/C00...    male  "
      ],
      "text/html": "<div>\n<style scoped>\n    .dataframe tbody tr th:only-of-type {\n        vertical-align: middle;\n    }\n\n    .dataframe tbody tr th {\n        vertical-align: top;\n    }\n\n    .dataframe thead th {\n        text-align: right;\n    }\n</style>\n<table border=\"1\" class=\"dataframe\">\n  <thead>\n    <tr style=\"text-align: right;\">\n      <th></th>\n      <th>session_id</th>\n      <th>startTime</th>\n      <th>endTime</th>\n      <th>ProductList</th>\n      <th>gender</th>\n    </tr>\n  </thead>\n  <tbody>\n    <tr>\n      <td>0</td>\n      <td>u16159</td>\n      <td>15/12/14 18:11</td>\n      <td>15/12/14 18:12</td>\n      <td>A00002/B00003/C00006/D28435/;A00002/B00003/C00...</td>\n      <td>female</td>\n    </tr>\n    <tr>\n      <td>1</td>\n      <td>u10253</td>\n      <td>16/12/14 14:35</td>\n      <td>16/12/14 14:41</td>\n      <td>A00001/B00009/C00031/D29404/;A00001/B00009/C00...</td>\n      <td>male</td>\n    </tr>\n    <tr>\n      <td>2</td>\n      <td>u19037</td>\n      <td>01/12/14 15:58</td>\n      <td>01/12/14 15:58</td>\n      <td>A00002/B00001/C00020/D16944/</td>\n      <td>female</td>\n    </tr>\n    <tr>\n      <td>3</td>\n      <td>u14556</td>\n      <td>23/11/14 2:57</td>\n      <td>23/11/14 3:00</td>\n      <td>A00002/B00004/C00018/D10284/;A00002/B00004/C00...</td>\n      <td>female</td>\n    </tr>\n    <tr>\n      <td>4</td>\n      <td>u24295</td>\n      <td>17/12/14 16:44</td>\n      <td>17/12/14 16:46</td>\n      <td>A00001/B00001/C00012/D30805/;A00001/B00001/C00...</td>\n      <td>male</td>\n    </tr>\n  </tbody>\n</table>\n</div>"
     },
     "metadata": {},
     "execution_count": 6
    }
   ],
   "source": [
    "train_data.head()"
   ]
  },
  {
   "source": [
    "## Exploratory Data Analysis"
   ],
   "cell_type": "markdown",
   "metadata": {}
  },
  {
   "source": [
    "### TRAINING DATA - PreProcessing"
   ],
   "cell_type": "markdown",
   "metadata": {}
  },
  {
   "source": [
    "#### Splitting Product List\n",
    "Product list contains list of products viewed by the user in the given session and it also contains the category, sub category, sub-sub category and the product all encoded and separated with a slash symbol. Each consecutive product is separated with a semicolon.\n",
    "- product\n",
    "- category\n",
    "- sub_category\n",
    "- sub_sub_category\n"
   ],
   "cell_type": "markdown",
   "metadata": {}
  },
  {
   "cell_type": "code",
   "execution_count": 7,
   "metadata": {},
   "outputs": [
    {
     "output_type": "execute_result",
     "data": {
      "text/plain": [
       "'A00002/B00003/C00006/D28435/;A00002/B00003/C00006/D02554/;A00002/B00003/C00006/D28436/;A00002/B00003/C00006/D28437/'"
      ]
     },
     "metadata": {},
     "execution_count": 7
    }
   ],
   "source": [
    "train_data['ProductList'][0]"
   ]
  },
  {
   "cell_type": "code",
   "execution_count": 8,
   "metadata": {},
   "outputs": [
    {
     "output_type": "execute_result",
     "data": {
      "text/plain": [
       "  session_id       startTime         endTime  \\\n",
       "0     u16159  15/12/14 18:11  15/12/14 18:12   \n",
       "1     u10253  16/12/14 14:35  16/12/14 14:41   \n",
       "2     u19037  01/12/14 15:58  01/12/14 15:58   \n",
       "3     u14556   23/11/14 2:57   23/11/14 3:00   \n",
       "4     u24295  17/12/14 16:44  17/12/14 16:46   \n",
       "\n",
       "                                         ProductList  gender  ProductListCount  \n",
       "0  A00002/B00003/C00006/D28435/;A00002/B00003/C00...  female                 4  \n",
       "1  A00001/B00009/C00031/D29404/;A00001/B00009/C00...    male                 7  \n",
       "2                       A00002/B00001/C00020/D16944/  female                 1  \n",
       "3  A00002/B00004/C00018/D10284/;A00002/B00004/C00...  female                 3  \n",
       "4  A00001/B00001/C00012/D30805/;A00001/B00001/C00...    male                 2  "
      ],
      "text/html": "<div>\n<style scoped>\n    .dataframe tbody tr th:only-of-type {\n        vertical-align: middle;\n    }\n\n    .dataframe tbody tr th {\n        vertical-align: top;\n    }\n\n    .dataframe thead th {\n        text-align: right;\n    }\n</style>\n<table border=\"1\" class=\"dataframe\">\n  <thead>\n    <tr style=\"text-align: right;\">\n      <th></th>\n      <th>session_id</th>\n      <th>startTime</th>\n      <th>endTime</th>\n      <th>ProductList</th>\n      <th>gender</th>\n      <th>ProductListCount</th>\n    </tr>\n  </thead>\n  <tbody>\n    <tr>\n      <td>0</td>\n      <td>u16159</td>\n      <td>15/12/14 18:11</td>\n      <td>15/12/14 18:12</td>\n      <td>A00002/B00003/C00006/D28435/;A00002/B00003/C00...</td>\n      <td>female</td>\n      <td>4</td>\n    </tr>\n    <tr>\n      <td>1</td>\n      <td>u10253</td>\n      <td>16/12/14 14:35</td>\n      <td>16/12/14 14:41</td>\n      <td>A00001/B00009/C00031/D29404/;A00001/B00009/C00...</td>\n      <td>male</td>\n      <td>7</td>\n    </tr>\n    <tr>\n      <td>2</td>\n      <td>u19037</td>\n      <td>01/12/14 15:58</td>\n      <td>01/12/14 15:58</td>\n      <td>A00002/B00001/C00020/D16944/</td>\n      <td>female</td>\n      <td>1</td>\n    </tr>\n    <tr>\n      <td>3</td>\n      <td>u14556</td>\n      <td>23/11/14 2:57</td>\n      <td>23/11/14 3:00</td>\n      <td>A00002/B00004/C00018/D10284/;A00002/B00004/C00...</td>\n      <td>female</td>\n      <td>3</td>\n    </tr>\n    <tr>\n      <td>4</td>\n      <td>u24295</td>\n      <td>17/12/14 16:44</td>\n      <td>17/12/14 16:46</td>\n      <td>A00001/B00001/C00012/D30805/;A00001/B00001/C00...</td>\n      <td>male</td>\n      <td>2</td>\n    </tr>\n  </tbody>\n</table>\n</div>"
     },
     "metadata": {},
     "execution_count": 8
    }
   ],
   "source": [
    "train_data['ProductListCount'] = train_data['ProductList'].apply(lambda x: len(x.split(\";\")))\n",
    "train_data.head()"
   ]
  },
  {
   "cell_type": "code",
   "execution_count": 9,
   "metadata": {},
   "outputs": [
    {
     "output_type": "execute_result",
     "data": {
      "text/plain": [
       "  session_id       startTime         endTime  \\\n",
       "0     u16159  15/12/14 18:11  15/12/14 18:12   \n",
       "0     u16159  15/12/14 18:11  15/12/14 18:12   \n",
       "0     u16159  15/12/14 18:11  15/12/14 18:12   \n",
       "0     u16159  15/12/14 18:11  15/12/14 18:12   \n",
       "1     u10253  16/12/14 14:35  16/12/14 14:41   \n",
       "\n",
       "                                         ProductList  gender  \\\n",
       "0  A00002/B00003/C00006/D28435/;A00002/B00003/C00...  female   \n",
       "0  A00002/B00003/C00006/D28435/;A00002/B00003/C00...  female   \n",
       "0  A00002/B00003/C00006/D28435/;A00002/B00003/C00...  female   \n",
       "0  A00002/B00003/C00006/D28435/;A00002/B00003/C00...  female   \n",
       "1  A00001/B00009/C00031/D29404/;A00001/B00009/C00...    male   \n",
       "\n",
       "   ProductListCount                  product_data  \n",
       "0                 4  A00002/B00003/C00006/D28435/  \n",
       "0                 4  A00002/B00003/C00006/D02554/  \n",
       "0                 4  A00002/B00003/C00006/D28436/  \n",
       "0                 4  A00002/B00003/C00006/D28437/  \n",
       "1                 7  A00001/B00009/C00031/D29404/  "
      ],
      "text/html": "<div>\n<style scoped>\n    .dataframe tbody tr th:only-of-type {\n        vertical-align: middle;\n    }\n\n    .dataframe tbody tr th {\n        vertical-align: top;\n    }\n\n    .dataframe thead th {\n        text-align: right;\n    }\n</style>\n<table border=\"1\" class=\"dataframe\">\n  <thead>\n    <tr style=\"text-align: right;\">\n      <th></th>\n      <th>session_id</th>\n      <th>startTime</th>\n      <th>endTime</th>\n      <th>ProductList</th>\n      <th>gender</th>\n      <th>ProductListCount</th>\n      <th>product_data</th>\n    </tr>\n  </thead>\n  <tbody>\n    <tr>\n      <td>0</td>\n      <td>u16159</td>\n      <td>15/12/14 18:11</td>\n      <td>15/12/14 18:12</td>\n      <td>A00002/B00003/C00006/D28435/;A00002/B00003/C00...</td>\n      <td>female</td>\n      <td>4</td>\n      <td>A00002/B00003/C00006/D28435/</td>\n    </tr>\n    <tr>\n      <td>0</td>\n      <td>u16159</td>\n      <td>15/12/14 18:11</td>\n      <td>15/12/14 18:12</td>\n      <td>A00002/B00003/C00006/D28435/;A00002/B00003/C00...</td>\n      <td>female</td>\n      <td>4</td>\n      <td>A00002/B00003/C00006/D02554/</td>\n    </tr>\n    <tr>\n      <td>0</td>\n      <td>u16159</td>\n      <td>15/12/14 18:11</td>\n      <td>15/12/14 18:12</td>\n      <td>A00002/B00003/C00006/D28435/;A00002/B00003/C00...</td>\n      <td>female</td>\n      <td>4</td>\n      <td>A00002/B00003/C00006/D28436/</td>\n    </tr>\n    <tr>\n      <td>0</td>\n      <td>u16159</td>\n      <td>15/12/14 18:11</td>\n      <td>15/12/14 18:12</td>\n      <td>A00002/B00003/C00006/D28435/;A00002/B00003/C00...</td>\n      <td>female</td>\n      <td>4</td>\n      <td>A00002/B00003/C00006/D28437/</td>\n    </tr>\n    <tr>\n      <td>1</td>\n      <td>u10253</td>\n      <td>16/12/14 14:35</td>\n      <td>16/12/14 14:41</td>\n      <td>A00001/B00009/C00031/D29404/;A00001/B00009/C00...</td>\n      <td>male</td>\n      <td>7</td>\n      <td>A00001/B00009/C00031/D29404/</td>\n    </tr>\n  </tbody>\n</table>\n</div>"
     },
     "metadata": {},
     "execution_count": 9
    }
   ],
   "source": [
    "# Create product list - Separating each product to new row (;)\n",
    "# Extract name from the string \n",
    "prod = train_data['ProductList'].str.split(';')\n",
    "train_data = train_data.reindex(train_data.index.repeat(prod.apply(len)))\n",
    "train_data['product_data'] = np.hstack(prod)\n",
    "train_data.head()\n"
   ]
  },
  {
   "cell_type": "code",
   "execution_count": 10,
   "metadata": {},
   "outputs": [
    {
     "output_type": "execute_result",
     "data": {
      "text/plain": [
       "  session_id       startTime         endTime  \\\n",
       "0     u16159  15/12/14 18:11  15/12/14 18:12   \n",
       "0     u16159  15/12/14 18:11  15/12/14 18:12   \n",
       "0     u16159  15/12/14 18:11  15/12/14 18:12   \n",
       "0     u16159  15/12/14 18:11  15/12/14 18:12   \n",
       "1     u10253  16/12/14 14:35  16/12/14 14:41   \n",
       "\n",
       "                                         ProductList  gender  \\\n",
       "0  A00002/B00003/C00006/D28435/;A00002/B00003/C00...  female   \n",
       "0  A00002/B00003/C00006/D28435/;A00002/B00003/C00...  female   \n",
       "0  A00002/B00003/C00006/D28435/;A00002/B00003/C00...  female   \n",
       "0  A00002/B00003/C00006/D28435/;A00002/B00003/C00...  female   \n",
       "1  A00001/B00009/C00031/D29404/;A00001/B00009/C00...    male   \n",
       "\n",
       "   ProductListCount                  product_data product category  \\\n",
       "0                 4  A00002/B00003/C00006/D28435/  A00002   B00003   \n",
       "0                 4  A00002/B00003/C00006/D02554/  A00002   B00003   \n",
       "0                 4  A00002/B00003/C00006/D28436/  A00002   B00003   \n",
       "0                 4  A00002/B00003/C00006/D28437/  A00002   B00003   \n",
       "1                 7  A00001/B00009/C00031/D29404/  A00001   B00009   \n",
       "\n",
       "  sub_category sub_sub_category other  \n",
       "0       C00006           D28435        \n",
       "0       C00006           D02554        \n",
       "0       C00006           D28436        \n",
       "0       C00006           D28437        \n",
       "1       C00031           D29404        "
      ],
      "text/html": "<div>\n<style scoped>\n    .dataframe tbody tr th:only-of-type {\n        vertical-align: middle;\n    }\n\n    .dataframe tbody tr th {\n        vertical-align: top;\n    }\n\n    .dataframe thead th {\n        text-align: right;\n    }\n</style>\n<table border=\"1\" class=\"dataframe\">\n  <thead>\n    <tr style=\"text-align: right;\">\n      <th></th>\n      <th>session_id</th>\n      <th>startTime</th>\n      <th>endTime</th>\n      <th>ProductList</th>\n      <th>gender</th>\n      <th>ProductListCount</th>\n      <th>product_data</th>\n      <th>product</th>\n      <th>category</th>\n      <th>sub_category</th>\n      <th>sub_sub_category</th>\n      <th>other</th>\n    </tr>\n  </thead>\n  <tbody>\n    <tr>\n      <td>0</td>\n      <td>u16159</td>\n      <td>15/12/14 18:11</td>\n      <td>15/12/14 18:12</td>\n      <td>A00002/B00003/C00006/D28435/;A00002/B00003/C00...</td>\n      <td>female</td>\n      <td>4</td>\n      <td>A00002/B00003/C00006/D28435/</td>\n      <td>A00002</td>\n      <td>B00003</td>\n      <td>C00006</td>\n      <td>D28435</td>\n      <td></td>\n    </tr>\n    <tr>\n      <td>0</td>\n      <td>u16159</td>\n      <td>15/12/14 18:11</td>\n      <td>15/12/14 18:12</td>\n      <td>A00002/B00003/C00006/D28435/;A00002/B00003/C00...</td>\n      <td>female</td>\n      <td>4</td>\n      <td>A00002/B00003/C00006/D02554/</td>\n      <td>A00002</td>\n      <td>B00003</td>\n      <td>C00006</td>\n      <td>D02554</td>\n      <td></td>\n    </tr>\n    <tr>\n      <td>0</td>\n      <td>u16159</td>\n      <td>15/12/14 18:11</td>\n      <td>15/12/14 18:12</td>\n      <td>A00002/B00003/C00006/D28435/;A00002/B00003/C00...</td>\n      <td>female</td>\n      <td>4</td>\n      <td>A00002/B00003/C00006/D28436/</td>\n      <td>A00002</td>\n      <td>B00003</td>\n      <td>C00006</td>\n      <td>D28436</td>\n      <td></td>\n    </tr>\n    <tr>\n      <td>0</td>\n      <td>u16159</td>\n      <td>15/12/14 18:11</td>\n      <td>15/12/14 18:12</td>\n      <td>A00002/B00003/C00006/D28435/;A00002/B00003/C00...</td>\n      <td>female</td>\n      <td>4</td>\n      <td>A00002/B00003/C00006/D28437/</td>\n      <td>A00002</td>\n      <td>B00003</td>\n      <td>C00006</td>\n      <td>D28437</td>\n      <td></td>\n    </tr>\n    <tr>\n      <td>1</td>\n      <td>u10253</td>\n      <td>16/12/14 14:35</td>\n      <td>16/12/14 14:41</td>\n      <td>A00001/B00009/C00031/D29404/;A00001/B00009/C00...</td>\n      <td>male</td>\n      <td>7</td>\n      <td>A00001/B00009/C00031/D29404/</td>\n      <td>A00001</td>\n      <td>B00009</td>\n      <td>C00031</td>\n      <td>D29404</td>\n      <td></td>\n    </tr>\n  </tbody>\n</table>\n</div>"
     },
     "metadata": {},
     "execution_count": 10
    }
   ],
   "source": [
    "#product_data list are separated by forward slash (/). They need to be split into product, category, category, sub_sub_category\n",
    "#added other category to see if there is more\n",
    "train_data[['product','category','sub_category','sub_sub_category', 'other']] = train_data.product_data.str.split('[/]', expand=True)\n",
    "train_data.head()\n"
   ]
  },
  {
   "cell_type": "code",
   "execution_count": 11,
   "metadata": {},
   "outputs": [],
   "source": [
    "#Drop original productlist and product_data columns\n",
    "train_data.drop(['ProductList', 'product_data'], axis=1, inplace=True)"
   ]
  },
  {
   "cell_type": "code",
   "execution_count": 12,
   "metadata": {},
   "outputs": [
    {
     "output_type": "execute_result",
     "data": {
      "text/plain": [
       "  session_id       startTime         endTime  gender  ProductListCount  \\\n",
       "0     u16159  15/12/14 18:11  15/12/14 18:12  female                 4   \n",
       "0     u16159  15/12/14 18:11  15/12/14 18:12  female                 4   \n",
       "0     u16159  15/12/14 18:11  15/12/14 18:12  female                 4   \n",
       "0     u16159  15/12/14 18:11  15/12/14 18:12  female                 4   \n",
       "1     u10253  16/12/14 14:35  16/12/14 14:41    male                 7   \n",
       "\n",
       "  product category sub_category sub_sub_category other  \n",
       "0  A00002   B00003       C00006           D28435        \n",
       "0  A00002   B00003       C00006           D02554        \n",
       "0  A00002   B00003       C00006           D28436        \n",
       "0  A00002   B00003       C00006           D28437        \n",
       "1  A00001   B00009       C00031           D29404        "
      ],
      "text/html": "<div>\n<style scoped>\n    .dataframe tbody tr th:only-of-type {\n        vertical-align: middle;\n    }\n\n    .dataframe tbody tr th {\n        vertical-align: top;\n    }\n\n    .dataframe thead th {\n        text-align: right;\n    }\n</style>\n<table border=\"1\" class=\"dataframe\">\n  <thead>\n    <tr style=\"text-align: right;\">\n      <th></th>\n      <th>session_id</th>\n      <th>startTime</th>\n      <th>endTime</th>\n      <th>gender</th>\n      <th>ProductListCount</th>\n      <th>product</th>\n      <th>category</th>\n      <th>sub_category</th>\n      <th>sub_sub_category</th>\n      <th>other</th>\n    </tr>\n  </thead>\n  <tbody>\n    <tr>\n      <td>0</td>\n      <td>u16159</td>\n      <td>15/12/14 18:11</td>\n      <td>15/12/14 18:12</td>\n      <td>female</td>\n      <td>4</td>\n      <td>A00002</td>\n      <td>B00003</td>\n      <td>C00006</td>\n      <td>D28435</td>\n      <td></td>\n    </tr>\n    <tr>\n      <td>0</td>\n      <td>u16159</td>\n      <td>15/12/14 18:11</td>\n      <td>15/12/14 18:12</td>\n      <td>female</td>\n      <td>4</td>\n      <td>A00002</td>\n      <td>B00003</td>\n      <td>C00006</td>\n      <td>D02554</td>\n      <td></td>\n    </tr>\n    <tr>\n      <td>0</td>\n      <td>u16159</td>\n      <td>15/12/14 18:11</td>\n      <td>15/12/14 18:12</td>\n      <td>female</td>\n      <td>4</td>\n      <td>A00002</td>\n      <td>B00003</td>\n      <td>C00006</td>\n      <td>D28436</td>\n      <td></td>\n    </tr>\n    <tr>\n      <td>0</td>\n      <td>u16159</td>\n      <td>15/12/14 18:11</td>\n      <td>15/12/14 18:12</td>\n      <td>female</td>\n      <td>4</td>\n      <td>A00002</td>\n      <td>B00003</td>\n      <td>C00006</td>\n      <td>D28437</td>\n      <td></td>\n    </tr>\n    <tr>\n      <td>1</td>\n      <td>u10253</td>\n      <td>16/12/14 14:35</td>\n      <td>16/12/14 14:41</td>\n      <td>male</td>\n      <td>7</td>\n      <td>A00001</td>\n      <td>B00009</td>\n      <td>C00031</td>\n      <td>D29404</td>\n      <td></td>\n    </tr>\n  </tbody>\n</table>\n</div>"
     },
     "metadata": {},
     "execution_count": 12
    }
   ],
   "source": [
    "#Display data\n",
    "train_data.head()"
   ]
  },
  {
   "cell_type": "code",
   "execution_count": 20,
   "metadata": {},
   "outputs": [
    {
     "output_type": "execute_result",
     "data": {
      "text/plain": [
       "       session_id  startTime  endTime  gender  ProductListCount  product  \\\n",
       "0           False      False    False   False             False    False   \n",
       "0           False      False    False   False             False    False   \n",
       "0           False      False    False   False             False    False   \n",
       "0           False      False    False   False             False    False   \n",
       "1           False      False    False   False             False    False   \n",
       "...           ...        ...      ...     ...               ...      ...   \n",
       "10498       False      False    False   False             False    False   \n",
       "10499       False      False    False   False             False    False   \n",
       "10499       False      False    False   False             False    False   \n",
       "10499       False      False    False   False             False    False   \n",
       "10499       False      False    False   False             False    False   \n",
       "\n",
       "       category  sub_category  sub_sub_category  other  \n",
       "0         False         False             False  False  \n",
       "0         False         False             False  False  \n",
       "0         False         False             False  False  \n",
       "0         False         False             False  False  \n",
       "1         False         False             False  False  \n",
       "...         ...           ...               ...    ...  \n",
       "10498     False         False             False  False  \n",
       "10499     False         False             False  False  \n",
       "10499     False         False             False  False  \n",
       "10499     False         False             False  False  \n",
       "10499     False         False             False  False  \n",
       "\n",
       "[23251 rows x 10 columns]"
      ],
      "text/html": "<div>\n<style scoped>\n    .dataframe tbody tr th:only-of-type {\n        vertical-align: middle;\n    }\n\n    .dataframe tbody tr th {\n        vertical-align: top;\n    }\n\n    .dataframe thead th {\n        text-align: right;\n    }\n</style>\n<table border=\"1\" class=\"dataframe\">\n  <thead>\n    <tr style=\"text-align: right;\">\n      <th></th>\n      <th>session_id</th>\n      <th>startTime</th>\n      <th>endTime</th>\n      <th>gender</th>\n      <th>ProductListCount</th>\n      <th>product</th>\n      <th>category</th>\n      <th>sub_category</th>\n      <th>sub_sub_category</th>\n      <th>other</th>\n    </tr>\n  </thead>\n  <tbody>\n    <tr>\n      <td>0</td>\n      <td>False</td>\n      <td>False</td>\n      <td>False</td>\n      <td>False</td>\n      <td>False</td>\n      <td>False</td>\n      <td>False</td>\n      <td>False</td>\n      <td>False</td>\n      <td>False</td>\n    </tr>\n    <tr>\n      <td>0</td>\n      <td>False</td>\n      <td>False</td>\n      <td>False</td>\n      <td>False</td>\n      <td>False</td>\n      <td>False</td>\n      <td>False</td>\n      <td>False</td>\n      <td>False</td>\n      <td>False</td>\n    </tr>\n    <tr>\n      <td>0</td>\n      <td>False</td>\n      <td>False</td>\n      <td>False</td>\n      <td>False</td>\n      <td>False</td>\n      <td>False</td>\n      <td>False</td>\n      <td>False</td>\n      <td>False</td>\n      <td>False</td>\n    </tr>\n    <tr>\n      <td>0</td>\n      <td>False</td>\n      <td>False</td>\n      <td>False</td>\n      <td>False</td>\n      <td>False</td>\n      <td>False</td>\n      <td>False</td>\n      <td>False</td>\n      <td>False</td>\n      <td>False</td>\n    </tr>\n    <tr>\n      <td>1</td>\n      <td>False</td>\n      <td>False</td>\n      <td>False</td>\n      <td>False</td>\n      <td>False</td>\n      <td>False</td>\n      <td>False</td>\n      <td>False</td>\n      <td>False</td>\n      <td>False</td>\n    </tr>\n    <tr>\n      <td>...</td>\n      <td>...</td>\n      <td>...</td>\n      <td>...</td>\n      <td>...</td>\n      <td>...</td>\n      <td>...</td>\n      <td>...</td>\n      <td>...</td>\n      <td>...</td>\n      <td>...</td>\n    </tr>\n    <tr>\n      <td>10498</td>\n      <td>False</td>\n      <td>False</td>\n      <td>False</td>\n      <td>False</td>\n      <td>False</td>\n      <td>False</td>\n      <td>False</td>\n      <td>False</td>\n      <td>False</td>\n      <td>False</td>\n    </tr>\n    <tr>\n      <td>10499</td>\n      <td>False</td>\n      <td>False</td>\n      <td>False</td>\n      <td>False</td>\n      <td>False</td>\n      <td>False</td>\n      <td>False</td>\n      <td>False</td>\n      <td>False</td>\n      <td>False</td>\n    </tr>\n    <tr>\n      <td>10499</td>\n      <td>False</td>\n      <td>False</td>\n      <td>False</td>\n      <td>False</td>\n      <td>False</td>\n      <td>False</td>\n      <td>False</td>\n      <td>False</td>\n      <td>False</td>\n      <td>False</td>\n    </tr>\n    <tr>\n      <td>10499</td>\n      <td>False</td>\n      <td>False</td>\n      <td>False</td>\n      <td>False</td>\n      <td>False</td>\n      <td>False</td>\n      <td>False</td>\n      <td>False</td>\n      <td>False</td>\n      <td>False</td>\n    </tr>\n    <tr>\n      <td>10499</td>\n      <td>False</td>\n      <td>False</td>\n      <td>False</td>\n      <td>False</td>\n      <td>False</td>\n      <td>False</td>\n      <td>False</td>\n      <td>False</td>\n      <td>False</td>\n      <td>False</td>\n    </tr>\n  </tbody>\n</table>\n<p>23251 rows × 10 columns</p>\n</div>"
     },
     "metadata": {},
     "execution_count": 20
    }
   ],
   "source": [
    "#check if we need the other column\n",
    "train_data.isin([' '])"
   ]
  },
  {
   "source": [
    "### Categorical Features\n",
    "Transform using dummy variables so sklearn can understand them."
   ],
   "cell_type": "markdown",
   "metadata": {}
  },
  {
   "cell_type": "code",
   "execution_count": null,
   "metadata": {},
   "outputs": [],
   "source": [
    "train_data.info()"
   ]
  },
  {
   "cell_type": "code",
   "execution_count": null,
   "metadata": {},
   "outputs": [],
   "source": []
  }
 ]
}