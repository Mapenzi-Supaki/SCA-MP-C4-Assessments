{
 "metadata": {
  "language_info": {
   "codemirror_mode": {
    "name": "ipython",
    "version": 3
   },
   "file_extension": ".py",
   "mimetype": "text/x-python",
   "name": "python",
   "nbconvert_exporter": "python",
   "pygments_lexer": "ipython3",
   "version": "3.8.2"
  },
  "orig_nbformat": 2,
  "kernelspec": {
   "name": "python382jvsc74a57bd04b49dac480128e3353893aae5d79bc0c223b3b150e1bd621885640ef2984f829",
   "display_name": "Python 3.8.2 64-bit"
  }
 },
 "nbformat": 4,
 "nbformat_minor": 2,
 "cells": [
  {
   "source": [
    "# Step 1: Get Data"
   ],
   "cell_type": "markdown",
   "metadata": {}
  },
  {
   "source": [
    "## Import Libraries"
   ],
   "cell_type": "markdown",
   "metadata": {}
  },
  {
   "cell_type": "code",
   "execution_count": 1,
   "metadata": {},
   "outputs": [],
   "source": [
    "import pandas as pd \n",
    "import numpy as np \n",
    "import matplotlib.pyplot as plt \n",
    "import seaborn as sns \n",
    "%matplotlib inline  \n",
    "\n",
    "import warnings\n",
    "warnings.filterwarnings('ignore')"
   ]
  },
  {
   "source": [
    "## Import Data"
   ],
   "cell_type": "markdown",
   "metadata": {}
  },
  {
   "cell_type": "code",
   "execution_count": 2,
   "metadata": {},
   "outputs": [
    {
     "output_type": "execute_result",
     "data": {
      "text/plain": [
       "((10500, 5), (4500, 4), (4500, 2))"
      ]
     },
     "metadata": {},
     "execution_count": 2
    }
   ],
   "source": [
    "train_data = pd.read_csv ('train.csv')\n",
    "test_data = pd.read_csv('test.csv')\n",
    "submission = pd.read_csv('sample_submission.csv')\n",
    "\n",
    "train_data.shape, test_data.shape, submission.shape"
   ]
  },
  {
   "source": [
    "# Step 2: Data Preprocessing"
   ],
   "cell_type": "markdown",
   "metadata": {}
  },
  {
   "source": [
    "## Training Data"
   ],
   "cell_type": "markdown",
   "metadata": {}
  },
  {
   "cell_type": "code",
   "execution_count": 3,
   "metadata": {},
   "outputs": [
    {
     "output_type": "execute_result",
     "data": {
      "text/plain": [
       "  session_id       startTime         endTime  \\\n",
       "0     u16159  15/12/14 18:11  15/12/14 18:12   \n",
       "1     u10253  16/12/14 14:35  16/12/14 14:41   \n",
       "2     u19037  01/12/14 15:58  01/12/14 15:58   \n",
       "3     u14556   23/11/14 2:57   23/11/14 3:00   \n",
       "4     u24295  17/12/14 16:44  17/12/14 16:46   \n",
       "\n",
       "                                         ProductList  gender  \n",
       "0  A00002/B00003/C00006/D28435/;A00002/B00003/C00...  female  \n",
       "1  A00001/B00009/C00031/D29404/;A00001/B00009/C00...    male  \n",
       "2                       A00002/B00001/C00020/D16944/  female  \n",
       "3  A00002/B00004/C00018/D10284/;A00002/B00004/C00...  female  \n",
       "4  A00001/B00001/C00012/D30805/;A00001/B00001/C00...    male  "
      ],
      "text/html": "<div>\n<style scoped>\n    .dataframe tbody tr th:only-of-type {\n        vertical-align: middle;\n    }\n\n    .dataframe tbody tr th {\n        vertical-align: top;\n    }\n\n    .dataframe thead th {\n        text-align: right;\n    }\n</style>\n<table border=\"1\" class=\"dataframe\">\n  <thead>\n    <tr style=\"text-align: right;\">\n      <th></th>\n      <th>session_id</th>\n      <th>startTime</th>\n      <th>endTime</th>\n      <th>ProductList</th>\n      <th>gender</th>\n    </tr>\n  </thead>\n  <tbody>\n    <tr>\n      <th>0</th>\n      <td>u16159</td>\n      <td>15/12/14 18:11</td>\n      <td>15/12/14 18:12</td>\n      <td>A00002/B00003/C00006/D28435/;A00002/B00003/C00...</td>\n      <td>female</td>\n    </tr>\n    <tr>\n      <th>1</th>\n      <td>u10253</td>\n      <td>16/12/14 14:35</td>\n      <td>16/12/14 14:41</td>\n      <td>A00001/B00009/C00031/D29404/;A00001/B00009/C00...</td>\n      <td>male</td>\n    </tr>\n    <tr>\n      <th>2</th>\n      <td>u19037</td>\n      <td>01/12/14 15:58</td>\n      <td>01/12/14 15:58</td>\n      <td>A00002/B00001/C00020/D16944/</td>\n      <td>female</td>\n    </tr>\n    <tr>\n      <th>3</th>\n      <td>u14556</td>\n      <td>23/11/14 2:57</td>\n      <td>23/11/14 3:00</td>\n      <td>A00002/B00004/C00018/D10284/;A00002/B00004/C00...</td>\n      <td>female</td>\n    </tr>\n    <tr>\n      <th>4</th>\n      <td>u24295</td>\n      <td>17/12/14 16:44</td>\n      <td>17/12/14 16:46</td>\n      <td>A00001/B00001/C00012/D30805/;A00001/B00001/C00...</td>\n      <td>male</td>\n    </tr>\n  </tbody>\n</table>\n</div>"
     },
     "metadata": {},
     "execution_count": 3
    }
   ],
   "source": [
    "train_data.head()"
   ]
  },
  {
   "cell_type": "code",
   "execution_count": 4,
   "metadata": {},
   "outputs": [
    {
     "output_type": "execute_result",
     "data": {
      "text/plain": [
       "'A00002/B00003/C00006/D28435/;A00002/B00003/C00006/D02554/;A00002/B00003/C00006/D28436/;A00002/B00003/C00006/D28437/'"
      ]
     },
     "metadata": {},
     "execution_count": 4
    }
   ],
   "source": [
    "train_data['ProductList'][0]"
   ]
  },
  {
   "cell_type": "code",
   "execution_count": 5,
   "metadata": {},
   "outputs": [
    {
     "output_type": "execute_result",
     "data": {
      "text/plain": [
       "  session_id       startTime         endTime  gender category sub_category  \\\n",
       "0     u16159  15/12/14 18:11  15/12/14 18:12  female   A00002       B00003   \n",
       "0     u16159  15/12/14 18:11  15/12/14 18:12  female   A00002       B00003   \n",
       "0     u16159  15/12/14 18:11  15/12/14 18:12  female   A00002       B00003   \n",
       "0     u16159  15/12/14 18:11  15/12/14 18:12  female   A00002       B00003   \n",
       "1     u10253  16/12/14 14:35  16/12/14 14:41    male   A00001       B00009   \n",
       "\n",
       "  sub_sub_category product  \n",
       "0           C00006  D28435  \n",
       "0           C00006  D02554  \n",
       "0           C00006  D28436  \n",
       "0           C00006  D28437  \n",
       "1           C00031  D29404  "
      ],
      "text/html": "<div>\n<style scoped>\n    .dataframe tbody tr th:only-of-type {\n        vertical-align: middle;\n    }\n\n    .dataframe tbody tr th {\n        vertical-align: top;\n    }\n\n    .dataframe thead th {\n        text-align: right;\n    }\n</style>\n<table border=\"1\" class=\"dataframe\">\n  <thead>\n    <tr style=\"text-align: right;\">\n      <th></th>\n      <th>session_id</th>\n      <th>startTime</th>\n      <th>endTime</th>\n      <th>gender</th>\n      <th>category</th>\n      <th>sub_category</th>\n      <th>sub_sub_category</th>\n      <th>product</th>\n    </tr>\n  </thead>\n  <tbody>\n    <tr>\n      <th>0</th>\n      <td>u16159</td>\n      <td>15/12/14 18:11</td>\n      <td>15/12/14 18:12</td>\n      <td>female</td>\n      <td>A00002</td>\n      <td>B00003</td>\n      <td>C00006</td>\n      <td>D28435</td>\n    </tr>\n    <tr>\n      <th>0</th>\n      <td>u16159</td>\n      <td>15/12/14 18:11</td>\n      <td>15/12/14 18:12</td>\n      <td>female</td>\n      <td>A00002</td>\n      <td>B00003</td>\n      <td>C00006</td>\n      <td>D02554</td>\n    </tr>\n    <tr>\n      <th>0</th>\n      <td>u16159</td>\n      <td>15/12/14 18:11</td>\n      <td>15/12/14 18:12</td>\n      <td>female</td>\n      <td>A00002</td>\n      <td>B00003</td>\n      <td>C00006</td>\n      <td>D28436</td>\n    </tr>\n    <tr>\n      <th>0</th>\n      <td>u16159</td>\n      <td>15/12/14 18:11</td>\n      <td>15/12/14 18:12</td>\n      <td>female</td>\n      <td>A00002</td>\n      <td>B00003</td>\n      <td>C00006</td>\n      <td>D28437</td>\n    </tr>\n    <tr>\n      <th>1</th>\n      <td>u10253</td>\n      <td>16/12/14 14:35</td>\n      <td>16/12/14 14:41</td>\n      <td>male</td>\n      <td>A00001</td>\n      <td>B00009</td>\n      <td>C00031</td>\n      <td>D29404</td>\n    </tr>\n  </tbody>\n</table>\n</div>"
     },
     "metadata": {},
     "execution_count": 5
    }
   ],
   "source": [
    "train_data['ProductListCount'] = train_data['ProductList'].apply(lambda x: len(x.split(\";\")))\n",
    "\n",
    "# Create product list - Separating each product to new row (;)\n",
    "prod = train_data['ProductList'].str.split(';')\n",
    "train_data = train_data.reindex(train_data.index.repeat(prod.apply(len)))\n",
    "train_data['product_data'] = np.hstack(prod)\n",
    "\n",
    "#product_data list are separated by forward slash (/). They need to be split into product, category, category, sub_sub_category\n",
    "#added other category to see if there is more\n",
    "train_data[['category','sub_category','sub_sub_category','product','other']] = train_data.product_data.str.split('[/]', expand=True)\n",
    "\n",
    "#Drop original productlist, product_data and other columns as they are not needed\n",
    "train_data.drop(['ProductList', 'ProductListCount', 'product_data','other'], axis=1, inplace=True)\n",
    "\n",
    "#Display data\n",
    "train_data.head()"
   ]
  },
  {
   "cell_type": "code",
   "execution_count": 6,
   "metadata": {},
   "outputs": [
    {
     "output_type": "execute_result",
     "data": {
      "text/plain": [
       "A00002    14931\n",
       "A00003     3822\n",
       "A00001     3300\n",
       "A00005      413\n",
       "A00004      261\n",
       "A00006      182\n",
       "A00011      130\n",
       "A00010       75\n",
       "A00007       52\n",
       "A00009       47\n",
       "A00008       38\n",
       "Name: category, dtype: int64"
      ]
     },
     "metadata": {},
     "execution_count": 6
    }
   ],
   "source": [
    "train_data['category'].value_counts()"
   ]
  },
  {
   "cell_type": "code",
   "execution_count": 7,
   "metadata": {},
   "outputs": [
    {
     "output_type": "execute_result",
     "data": {
      "text/plain": [
       "session_id          10500\n",
       "startTime            8815\n",
       "endTime              8803\n",
       "gender                  2\n",
       "category               11\n",
       "sub_category           85\n",
       "sub_sub_category      360\n",
       "product             16503\n",
       "dtype: int64"
      ]
     },
     "metadata": {},
     "execution_count": 7
    }
   ],
   "source": [
    "#find the unique values across the column axis.\n",
    "train_data.nunique()"
   ]
  },
  {
   "source": [
    "### Features Engineering"
   ],
   "cell_type": "markdown",
   "metadata": {}
  },
  {
   "source": [
    "#### Datetime Features"
   ],
   "cell_type": "markdown",
   "metadata": {}
  },
  {
   "cell_type": "code",
   "execution_count": 8,
   "metadata": {},
   "outputs": [
    {
     "output_type": "execute_result",
     "data": {
      "text/plain": [
       "Index(['session_id', 'startTime', 'endTime', 'gender', 'category',\n",
       "       'sub_category', 'sub_sub_category', 'product', 'startTime_year',\n",
       "       'startTime_month', 'startTime_week', 'startTime_day', 'startTime_hour',\n",
       "       'startTime_minute', 'startTime_dayofweek', 'endTime_year',\n",
       "       'endTime_month', 'endTime_week', 'endTime_day', 'endTime_hour',\n",
       "       'endTime_minute', 'endTime_dayofweek'],\n",
       "      dtype='object')"
      ]
     },
     "metadata": {},
     "execution_count": 8
    }
   ],
   "source": [
    "#Convert startTime and endTime to datetime format\n",
    "train_data[\"startTime\"]= pd.to_datetime(train_data[\"startTime\"])\n",
    "train_data[\"endTime\"]= pd.to_datetime(train_data[\"endTime\"])\n",
    "\n",
    "#merged_train[\"closeddate\"]= [datetime.timestamp(i) for i in merged_train.closeddate]\n",
    "\n",
    "\n",
    "\n",
    "date_column= ['startTime', 'endTime']\n",
    "\n",
    "def extract_date(train_data,cols):\n",
    "    for x in cols:\n",
    "        train_data[x +'_year'] = train_data[x].dt.year\n",
    "        train_data[x +'_month'] = train_data[x].dt.month\n",
    "        train_data[x +'_week'] = train_data[x].dt.week\n",
    "        train_data[x +'_day'] = train_data[x].dt.day\n",
    "        train_data[x +'_hour'] = train_data[x].dt.hour\n",
    "        train_data[x +'_minute'] = train_data[x].dt.minute\n",
    "        train_data[x +'_dayofweek'] = train_data[x].dt.dayofweek\n",
    "          \n",
    "extract_date(train_data, date_column)\n",
    "\n",
    "train_data.columns"
   ]
  },
  {
   "cell_type": "code",
   "execution_count": 9,
   "metadata": {},
   "outputs": [],
   "source": [
    "train_data['duration'] = (train_data['endTime']-train_data['startTime']).dt.total_seconds()\n",
    "\n",
    "#Dropping previous date columns after etracting year, day, month and quarters\n",
    "train_data.drop(columns=date_column,axis=1,inplace=True)"
   ]
  },
  {
   "cell_type": "code",
   "execution_count": 10,
   "metadata": {},
   "outputs": [
    {
     "output_type": "execute_result",
     "data": {
      "text/plain": [
       "  session_id  gender category sub_category sub_sub_category product  \\\n",
       "0     u16159  female   A00002       B00003           C00006  D28435   \n",
       "0     u16159  female   A00002       B00003           C00006  D02554   \n",
       "0     u16159  female   A00002       B00003           C00006  D28436   \n",
       "0     u16159  female   A00002       B00003           C00006  D28437   \n",
       "1     u10253    male   A00001       B00009           C00031  D29404   \n",
       "\n",
       "   startTime_year  startTime_month  startTime_week  startTime_day  ...  \\\n",
       "0            2014               12              51             15  ...   \n",
       "0            2014               12              51             15  ...   \n",
       "0            2014               12              51             15  ...   \n",
       "0            2014               12              51             15  ...   \n",
       "1            2014               12              51             16  ...   \n",
       "\n",
       "   startTime_minute  startTime_dayofweek  endTime_year  endTime_month  \\\n",
       "0                11                    0          2014             12   \n",
       "0                11                    0          2014             12   \n",
       "0                11                    0          2014             12   \n",
       "0                11                    0          2014             12   \n",
       "1                35                    1          2014             12   \n",
       "\n",
       "   endTime_week  endTime_day  endTime_hour  endTime_minute  endTime_dayofweek  \\\n",
       "0            51           15            18              12                  0   \n",
       "0            51           15            18              12                  0   \n",
       "0            51           15            18              12                  0   \n",
       "0            51           15            18              12                  0   \n",
       "1            51           16            14              41                  1   \n",
       "\n",
       "   duration  \n",
       "0      60.0  \n",
       "0      60.0  \n",
       "0      60.0  \n",
       "0      60.0  \n",
       "1     360.0  \n",
       "\n",
       "[5 rows x 21 columns]"
      ],
      "text/html": "<div>\n<style scoped>\n    .dataframe tbody tr th:only-of-type {\n        vertical-align: middle;\n    }\n\n    .dataframe tbody tr th {\n        vertical-align: top;\n    }\n\n    .dataframe thead th {\n        text-align: right;\n    }\n</style>\n<table border=\"1\" class=\"dataframe\">\n  <thead>\n    <tr style=\"text-align: right;\">\n      <th></th>\n      <th>session_id</th>\n      <th>gender</th>\n      <th>category</th>\n      <th>sub_category</th>\n      <th>sub_sub_category</th>\n      <th>product</th>\n      <th>startTime_year</th>\n      <th>startTime_month</th>\n      <th>startTime_week</th>\n      <th>startTime_day</th>\n      <th>...</th>\n      <th>startTime_minute</th>\n      <th>startTime_dayofweek</th>\n      <th>endTime_year</th>\n      <th>endTime_month</th>\n      <th>endTime_week</th>\n      <th>endTime_day</th>\n      <th>endTime_hour</th>\n      <th>endTime_minute</th>\n      <th>endTime_dayofweek</th>\n      <th>duration</th>\n    </tr>\n  </thead>\n  <tbody>\n    <tr>\n      <th>0</th>\n      <td>u16159</td>\n      <td>female</td>\n      <td>A00002</td>\n      <td>B00003</td>\n      <td>C00006</td>\n      <td>D28435</td>\n      <td>2014</td>\n      <td>12</td>\n      <td>51</td>\n      <td>15</td>\n      <td>...</td>\n      <td>11</td>\n      <td>0</td>\n      <td>2014</td>\n      <td>12</td>\n      <td>51</td>\n      <td>15</td>\n      <td>18</td>\n      <td>12</td>\n      <td>0</td>\n      <td>60.0</td>\n    </tr>\n    <tr>\n      <th>0</th>\n      <td>u16159</td>\n      <td>female</td>\n      <td>A00002</td>\n      <td>B00003</td>\n      <td>C00006</td>\n      <td>D02554</td>\n      <td>2014</td>\n      <td>12</td>\n      <td>51</td>\n      <td>15</td>\n      <td>...</td>\n      <td>11</td>\n      <td>0</td>\n      <td>2014</td>\n      <td>12</td>\n      <td>51</td>\n      <td>15</td>\n      <td>18</td>\n      <td>12</td>\n      <td>0</td>\n      <td>60.0</td>\n    </tr>\n    <tr>\n      <th>0</th>\n      <td>u16159</td>\n      <td>female</td>\n      <td>A00002</td>\n      <td>B00003</td>\n      <td>C00006</td>\n      <td>D28436</td>\n      <td>2014</td>\n      <td>12</td>\n      <td>51</td>\n      <td>15</td>\n      <td>...</td>\n      <td>11</td>\n      <td>0</td>\n      <td>2014</td>\n      <td>12</td>\n      <td>51</td>\n      <td>15</td>\n      <td>18</td>\n      <td>12</td>\n      <td>0</td>\n      <td>60.0</td>\n    </tr>\n    <tr>\n      <th>0</th>\n      <td>u16159</td>\n      <td>female</td>\n      <td>A00002</td>\n      <td>B00003</td>\n      <td>C00006</td>\n      <td>D28437</td>\n      <td>2014</td>\n      <td>12</td>\n      <td>51</td>\n      <td>15</td>\n      <td>...</td>\n      <td>11</td>\n      <td>0</td>\n      <td>2014</td>\n      <td>12</td>\n      <td>51</td>\n      <td>15</td>\n      <td>18</td>\n      <td>12</td>\n      <td>0</td>\n      <td>60.0</td>\n    </tr>\n    <tr>\n      <th>1</th>\n      <td>u10253</td>\n      <td>male</td>\n      <td>A00001</td>\n      <td>B00009</td>\n      <td>C00031</td>\n      <td>D29404</td>\n      <td>2014</td>\n      <td>12</td>\n      <td>51</td>\n      <td>16</td>\n      <td>...</td>\n      <td>35</td>\n      <td>1</td>\n      <td>2014</td>\n      <td>12</td>\n      <td>51</td>\n      <td>16</td>\n      <td>14</td>\n      <td>41</td>\n      <td>1</td>\n      <td>360.0</td>\n    </tr>\n  </tbody>\n</table>\n<p>5 rows × 21 columns</p>\n</div>"
     },
     "metadata": {},
     "execution_count": 10
    }
   ],
   "source": [
    "train_data.head()"
   ]
  },
  {
   "source": [
    "#### Missing Values"
   ],
   "cell_type": "markdown",
   "metadata": {}
  },
  {
   "cell_type": "code",
   "execution_count": 11,
   "metadata": {},
   "outputs": [
    {
     "output_type": "execute_result",
     "data": {
      "text/plain": [
       "0"
      ]
     },
     "metadata": {},
     "execution_count": 11
    }
   ],
   "source": [
    "#check duplicates\n",
    "train_data.duplicated().sum()"
   ]
  },
  {
   "cell_type": "code",
   "execution_count": 12,
   "metadata": {},
   "outputs": [
    {
     "output_type": "execute_result",
     "data": {
      "text/plain": [
       "session_id             False\n",
       "gender                 False\n",
       "category               False\n",
       "sub_category           False\n",
       "sub_sub_category       False\n",
       "product                False\n",
       "startTime_year         False\n",
       "startTime_month        False\n",
       "startTime_week         False\n",
       "startTime_day          False\n",
       "startTime_hour         False\n",
       "startTime_minute       False\n",
       "startTime_dayofweek    False\n",
       "endTime_year           False\n",
       "endTime_month          False\n",
       "endTime_week           False\n",
       "endTime_day            False\n",
       "endTime_hour           False\n",
       "endTime_minute         False\n",
       "endTime_dayofweek      False\n",
       "duration               False\n",
       "dtype: bool"
      ]
     },
     "metadata": {},
     "execution_count": 12
    }
   ],
   "source": [
    "#Check missing values\n",
    "train_data.isnull().any()"
   ]
  },
  {
   "source": [
    "#### Encoding Categorical Variables"
   ],
   "cell_type": "markdown",
   "metadata": {}
  },
  {
   "cell_type": "code",
   "execution_count": 13,
   "metadata": {},
   "outputs": [
    {
     "output_type": "execute_result",
     "data": {
      "text/plain": [
       "session_id              object\n",
       "gender                  object\n",
       "category                object\n",
       "sub_category            object\n",
       "sub_sub_category        object\n",
       "product                 object\n",
       "startTime_year           int64\n",
       "startTime_month          int64\n",
       "startTime_week           int64\n",
       "startTime_day            int64\n",
       "startTime_hour           int64\n",
       "startTime_minute         int64\n",
       "startTime_dayofweek      int64\n",
       "endTime_year             int64\n",
       "endTime_month            int64\n",
       "endTime_week             int64\n",
       "endTime_day              int64\n",
       "endTime_hour             int64\n",
       "endTime_minute           int64\n",
       "endTime_dayofweek        int64\n",
       "duration               float64\n",
       "dtype: object"
      ]
     },
     "metadata": {},
     "execution_count": 13
    }
   ],
   "source": [
    "train_data.dtypes"
   ]
  },
  {
   "cell_type": "code",
   "execution_count": 14,
   "metadata": {},
   "outputs": [],
   "source": [
    "# using .map to create dummy variables\n",
    "train_data['gender'] = train_data.gender.map({'female':0, 'male':1})"
   ]
  },
  {
   "cell_type": "code",
   "execution_count": 15,
   "metadata": {},
   "outputs": [
    {
     "output_type": "execute_result",
     "data": {
      "text/plain": [
       "  session_id  gender category sub_category sub_sub_category product  \\\n",
       "0     u16159       0   A00002       B00003           C00006  D28435   \n",
       "0     u16159       0   A00002       B00003           C00006  D02554   \n",
       "0     u16159       0   A00002       B00003           C00006  D28436   \n",
       "0     u16159       0   A00002       B00003           C00006  D28437   \n",
       "1     u10253       1   A00001       B00009           C00031  D29404   \n",
       "\n",
       "   startTime_year  startTime_month  startTime_week  startTime_day  ...  \\\n",
       "0            2014               12              51             15  ...   \n",
       "0            2014               12              51             15  ...   \n",
       "0            2014               12              51             15  ...   \n",
       "0            2014               12              51             15  ...   \n",
       "1            2014               12              51             16  ...   \n",
       "\n",
       "   startTime_minute  startTime_dayofweek  endTime_year  endTime_month  \\\n",
       "0                11                    0          2014             12   \n",
       "0                11                    0          2014             12   \n",
       "0                11                    0          2014             12   \n",
       "0                11                    0          2014             12   \n",
       "1                35                    1          2014             12   \n",
       "\n",
       "   endTime_week  endTime_day  endTime_hour  endTime_minute  endTime_dayofweek  \\\n",
       "0            51           15            18              12                  0   \n",
       "0            51           15            18              12                  0   \n",
       "0            51           15            18              12                  0   \n",
       "0            51           15            18              12                  0   \n",
       "1            51           16            14              41                  1   \n",
       "\n",
       "   duration  \n",
       "0      60.0  \n",
       "0      60.0  \n",
       "0      60.0  \n",
       "0      60.0  \n",
       "1     360.0  \n",
       "\n",
       "[5 rows x 21 columns]"
      ],
      "text/html": "<div>\n<style scoped>\n    .dataframe tbody tr th:only-of-type {\n        vertical-align: middle;\n    }\n\n    .dataframe tbody tr th {\n        vertical-align: top;\n    }\n\n    .dataframe thead th {\n        text-align: right;\n    }\n</style>\n<table border=\"1\" class=\"dataframe\">\n  <thead>\n    <tr style=\"text-align: right;\">\n      <th></th>\n      <th>session_id</th>\n      <th>gender</th>\n      <th>category</th>\n      <th>sub_category</th>\n      <th>sub_sub_category</th>\n      <th>product</th>\n      <th>startTime_year</th>\n      <th>startTime_month</th>\n      <th>startTime_week</th>\n      <th>startTime_day</th>\n      <th>...</th>\n      <th>startTime_minute</th>\n      <th>startTime_dayofweek</th>\n      <th>endTime_year</th>\n      <th>endTime_month</th>\n      <th>endTime_week</th>\n      <th>endTime_day</th>\n      <th>endTime_hour</th>\n      <th>endTime_minute</th>\n      <th>endTime_dayofweek</th>\n      <th>duration</th>\n    </tr>\n  </thead>\n  <tbody>\n    <tr>\n      <th>0</th>\n      <td>u16159</td>\n      <td>0</td>\n      <td>A00002</td>\n      <td>B00003</td>\n      <td>C00006</td>\n      <td>D28435</td>\n      <td>2014</td>\n      <td>12</td>\n      <td>51</td>\n      <td>15</td>\n      <td>...</td>\n      <td>11</td>\n      <td>0</td>\n      <td>2014</td>\n      <td>12</td>\n      <td>51</td>\n      <td>15</td>\n      <td>18</td>\n      <td>12</td>\n      <td>0</td>\n      <td>60.0</td>\n    </tr>\n    <tr>\n      <th>0</th>\n      <td>u16159</td>\n      <td>0</td>\n      <td>A00002</td>\n      <td>B00003</td>\n      <td>C00006</td>\n      <td>D02554</td>\n      <td>2014</td>\n      <td>12</td>\n      <td>51</td>\n      <td>15</td>\n      <td>...</td>\n      <td>11</td>\n      <td>0</td>\n      <td>2014</td>\n      <td>12</td>\n      <td>51</td>\n      <td>15</td>\n      <td>18</td>\n      <td>12</td>\n      <td>0</td>\n      <td>60.0</td>\n    </tr>\n    <tr>\n      <th>0</th>\n      <td>u16159</td>\n      <td>0</td>\n      <td>A00002</td>\n      <td>B00003</td>\n      <td>C00006</td>\n      <td>D28436</td>\n      <td>2014</td>\n      <td>12</td>\n      <td>51</td>\n      <td>15</td>\n      <td>...</td>\n      <td>11</td>\n      <td>0</td>\n      <td>2014</td>\n      <td>12</td>\n      <td>51</td>\n      <td>15</td>\n      <td>18</td>\n      <td>12</td>\n      <td>0</td>\n      <td>60.0</td>\n    </tr>\n    <tr>\n      <th>0</th>\n      <td>u16159</td>\n      <td>0</td>\n      <td>A00002</td>\n      <td>B00003</td>\n      <td>C00006</td>\n      <td>D28437</td>\n      <td>2014</td>\n      <td>12</td>\n      <td>51</td>\n      <td>15</td>\n      <td>...</td>\n      <td>11</td>\n      <td>0</td>\n      <td>2014</td>\n      <td>12</td>\n      <td>51</td>\n      <td>15</td>\n      <td>18</td>\n      <td>12</td>\n      <td>0</td>\n      <td>60.0</td>\n    </tr>\n    <tr>\n      <th>1</th>\n      <td>u10253</td>\n      <td>1</td>\n      <td>A00001</td>\n      <td>B00009</td>\n      <td>C00031</td>\n      <td>D29404</td>\n      <td>2014</td>\n      <td>12</td>\n      <td>51</td>\n      <td>16</td>\n      <td>...</td>\n      <td>35</td>\n      <td>1</td>\n      <td>2014</td>\n      <td>12</td>\n      <td>51</td>\n      <td>16</td>\n      <td>14</td>\n      <td>41</td>\n      <td>1</td>\n      <td>360.0</td>\n    </tr>\n  </tbody>\n</table>\n<p>5 rows × 21 columns</p>\n</div>"
     },
     "metadata": {},
     "execution_count": 15
    }
   ],
   "source": [
    "train_data.head()"
   ]
  },
  {
   "cell_type": "code",
   "execution_count": 16,
   "metadata": {},
   "outputs": [
    {
     "output_type": "stream",
     "name": "stdout",
     "text": [
      "['category', 'sub_category', 'sub_sub_category', 'product', 'duration']\n"
     ]
    },
    {
     "output_type": "execute_result",
     "data": {
      "text/plain": [
       "  session_id  gender  category  sub_category  sub_sub_category  product  \\\n",
       "0     u16159       0         1             2                 5    13325   \n",
       "0     u16159       0         1             2                 5     1478   \n",
       "0     u16159       0         1             2                 5    13326   \n",
       "0     u16159       0         1             2                 5    13327   \n",
       "1     u10253       1         0             8                30    13753   \n",
       "\n",
       "   startTime_year  startTime_month  startTime_week  startTime_day  ...  \\\n",
       "0            2014               12              51             15  ...   \n",
       "0            2014               12              51             15  ...   \n",
       "0            2014               12              51             15  ...   \n",
       "0            2014               12              51             15  ...   \n",
       "1            2014               12              51             16  ...   \n",
       "\n",
       "   startTime_minute  startTime_dayofweek  endTime_year  endTime_month  \\\n",
       "0                11                    0          2014             12   \n",
       "0                11                    0          2014             12   \n",
       "0                11                    0          2014             12   \n",
       "0                11                    0          2014             12   \n",
       "1                35                    1          2014             12   \n",
       "\n",
       "   endTime_week  endTime_day  endTime_hour  endTime_minute  endTime_dayofweek  \\\n",
       "0            51           15            18              12                  0   \n",
       "0            51           15            18              12                  0   \n",
       "0            51           15            18              12                  0   \n",
       "0            51           15            18              12                  0   \n",
       "1            51           16            14              41                  1   \n",
       "\n",
       "   duration  \n",
       "0        17  \n",
       "0        17  \n",
       "0        17  \n",
       "0        17  \n",
       "1        22  \n",
       "\n",
       "[5 rows x 21 columns]"
      ],
      "text/html": "<div>\n<style scoped>\n    .dataframe tbody tr th:only-of-type {\n        vertical-align: middle;\n    }\n\n    .dataframe tbody tr th {\n        vertical-align: top;\n    }\n\n    .dataframe thead th {\n        text-align: right;\n    }\n</style>\n<table border=\"1\" class=\"dataframe\">\n  <thead>\n    <tr style=\"text-align: right;\">\n      <th></th>\n      <th>session_id</th>\n      <th>gender</th>\n      <th>category</th>\n      <th>sub_category</th>\n      <th>sub_sub_category</th>\n      <th>product</th>\n      <th>startTime_year</th>\n      <th>startTime_month</th>\n      <th>startTime_week</th>\n      <th>startTime_day</th>\n      <th>...</th>\n      <th>startTime_minute</th>\n      <th>startTime_dayofweek</th>\n      <th>endTime_year</th>\n      <th>endTime_month</th>\n      <th>endTime_week</th>\n      <th>endTime_day</th>\n      <th>endTime_hour</th>\n      <th>endTime_minute</th>\n      <th>endTime_dayofweek</th>\n      <th>duration</th>\n    </tr>\n  </thead>\n  <tbody>\n    <tr>\n      <th>0</th>\n      <td>u16159</td>\n      <td>0</td>\n      <td>1</td>\n      <td>2</td>\n      <td>5</td>\n      <td>13325</td>\n      <td>2014</td>\n      <td>12</td>\n      <td>51</td>\n      <td>15</td>\n      <td>...</td>\n      <td>11</td>\n      <td>0</td>\n      <td>2014</td>\n      <td>12</td>\n      <td>51</td>\n      <td>15</td>\n      <td>18</td>\n      <td>12</td>\n      <td>0</td>\n      <td>17</td>\n    </tr>\n    <tr>\n      <th>0</th>\n      <td>u16159</td>\n      <td>0</td>\n      <td>1</td>\n      <td>2</td>\n      <td>5</td>\n      <td>1478</td>\n      <td>2014</td>\n      <td>12</td>\n      <td>51</td>\n      <td>15</td>\n      <td>...</td>\n      <td>11</td>\n      <td>0</td>\n      <td>2014</td>\n      <td>12</td>\n      <td>51</td>\n      <td>15</td>\n      <td>18</td>\n      <td>12</td>\n      <td>0</td>\n      <td>17</td>\n    </tr>\n    <tr>\n      <th>0</th>\n      <td>u16159</td>\n      <td>0</td>\n      <td>1</td>\n      <td>2</td>\n      <td>5</td>\n      <td>13326</td>\n      <td>2014</td>\n      <td>12</td>\n      <td>51</td>\n      <td>15</td>\n      <td>...</td>\n      <td>11</td>\n      <td>0</td>\n      <td>2014</td>\n      <td>12</td>\n      <td>51</td>\n      <td>15</td>\n      <td>18</td>\n      <td>12</td>\n      <td>0</td>\n      <td>17</td>\n    </tr>\n    <tr>\n      <th>0</th>\n      <td>u16159</td>\n      <td>0</td>\n      <td>1</td>\n      <td>2</td>\n      <td>5</td>\n      <td>13327</td>\n      <td>2014</td>\n      <td>12</td>\n      <td>51</td>\n      <td>15</td>\n      <td>...</td>\n      <td>11</td>\n      <td>0</td>\n      <td>2014</td>\n      <td>12</td>\n      <td>51</td>\n      <td>15</td>\n      <td>18</td>\n      <td>12</td>\n      <td>0</td>\n      <td>17</td>\n    </tr>\n    <tr>\n      <th>1</th>\n      <td>u10253</td>\n      <td>1</td>\n      <td>0</td>\n      <td>8</td>\n      <td>30</td>\n      <td>13753</td>\n      <td>2014</td>\n      <td>12</td>\n      <td>51</td>\n      <td>16</td>\n      <td>...</td>\n      <td>35</td>\n      <td>1</td>\n      <td>2014</td>\n      <td>12</td>\n      <td>51</td>\n      <td>16</td>\n      <td>14</td>\n      <td>41</td>\n      <td>1</td>\n      <td>22</td>\n    </tr>\n  </tbody>\n</table>\n<p>5 rows × 21 columns</p>\n</div>"
     },
     "metadata": {},
     "execution_count": 16
    }
   ],
   "source": [
    "# Get list of categorical variables\n",
    "features = ['category', 'sub_category', 'sub_sub_category', 'product', 'duration']\n",
    "\n",
    "print(features)\n",
    "\n",
    "from sklearn import preprocessing \n",
    "label_encoder = preprocessing.LabelEncoder() \n",
    "  \n",
    "for i in features:\n",
    "    train_data[i]= label_encoder.fit_transform(train_data[i]) \n",
    "\n",
    "train_data.head()"
   ]
  },
  {
   "cell_type": "code",
   "execution_count": 17,
   "metadata": {},
   "outputs": [
    {
     "output_type": "execute_result",
     "data": {
      "text/plain": [
       "category            int32\n",
       "sub_category        int32\n",
       "sub_sub_category    int32\n",
       "product             int32\n",
       "duration            int64\n",
       "dtype: object"
      ]
     },
     "metadata": {},
     "execution_count": 17
    }
   ],
   "source": [
    "train_data[features].dtypes"
   ]
  },
  {
   "source": [
    "- using .map to create dummy variables\n",
    "train_data['gender'] = train_data.gender.map({'female':0, 'male':1})\n",
    "\n",
    "from sklearn.model_selection import train_test_split\n",
    "- Separate target from predictors\n",
    "y=train_data.gender\n",
    "X=train_data.drop('gender', axis=1) #drops the gender column\n",
    "\n",
    "\n",
    "- Divide data into training and validation subsets\n",
    "X_train, X_valid, y_train, y_valid = train_test_split(X, y, train_size=0.8, test_size=0.2, random_state=0)\n",
    "\n",
    "- \"Cardinality\" means the number of unique values in a column\n",
    "- Select categorical columns with relatively low cardinality (convenient but arbitrary)\n",
    "low_cardinality_cols = [cname for cname in X_train.columns if X_train[cname].dtype == \"object\"]\n",
    "\n",
    "- Select numerical columns\n",
    "numerical_cols = [cname for cname in X_train.columns if X_train[cname].dtype in ['int64', 'float64']]\n",
    "\n",
    "- Keep selected columns only\n",
    "my_cols = low_cardinality_cols + numerical_cols\n",
    "X_train = X_train[my_cols].copy()\n",
    "X_valid = X_valid[my_cols].copy()"
   ],
   "cell_type": "markdown",
   "metadata": {}
  },
  {
   "source": [
    "- Get list of categorical variables\n",
    "s = (X_train.dtypes == 'object')\n",
    "object_cols = list(s[s].index)\n",
    "\n",
    "print(\"Categorical variables:\")\n",
    "print(object_cols)\n",
    "\n",
    "from sklearn import preprocessing \n",
    "label_encoder = preprocessing.LabelEncoder() \n",
    "  \n",
    "for i in object_cols:\n",
    "    train_data[i]= label_encoder.fit_transform(train_data[i]) "
   ],
   "cell_type": "markdown",
   "metadata": {}
  },
  {
   "source": [
    "## Testing Data"
   ],
   "cell_type": "markdown",
   "metadata": {}
  },
  {
   "cell_type": "code",
   "execution_count": 18,
   "metadata": {},
   "outputs": [
    {
     "output_type": "execute_result",
     "data": {
      "text/plain": [
       "  session_id       startTime         endTime  \\\n",
       "0     u12112  08/12/14 13:36  08/12/14 13:36   \n",
       "1     u19725  19/12/14 13:52  19/12/14 13:52   \n",
       "2     u11795  01/12/14 10:44  01/12/14 10:44   \n",
       "3     u22639  08/12/14 20:19  08/12/14 20:22   \n",
       "4     u18034  15/12/14 19:33  15/12/14 19:33   \n",
       "\n",
       "                                         ProductList  \n",
       "0                       A00002/B00003/C00006/D19956/  \n",
       "1                       A00002/B00005/C00067/D02026/  \n",
       "2                       A00002/B00002/C00004/D12538/  \n",
       "3  A00002/B00003/C00079/D22781/;A00002/B00003/C00...  \n",
       "4                       A00002/B00001/C00010/D23419/  "
      ],
      "text/html": "<div>\n<style scoped>\n    .dataframe tbody tr th:only-of-type {\n        vertical-align: middle;\n    }\n\n    .dataframe tbody tr th {\n        vertical-align: top;\n    }\n\n    .dataframe thead th {\n        text-align: right;\n    }\n</style>\n<table border=\"1\" class=\"dataframe\">\n  <thead>\n    <tr style=\"text-align: right;\">\n      <th></th>\n      <th>session_id</th>\n      <th>startTime</th>\n      <th>endTime</th>\n      <th>ProductList</th>\n    </tr>\n  </thead>\n  <tbody>\n    <tr>\n      <th>0</th>\n      <td>u12112</td>\n      <td>08/12/14 13:36</td>\n      <td>08/12/14 13:36</td>\n      <td>A00002/B00003/C00006/D19956/</td>\n    </tr>\n    <tr>\n      <th>1</th>\n      <td>u19725</td>\n      <td>19/12/14 13:52</td>\n      <td>19/12/14 13:52</td>\n      <td>A00002/B00005/C00067/D02026/</td>\n    </tr>\n    <tr>\n      <th>2</th>\n      <td>u11795</td>\n      <td>01/12/14 10:44</td>\n      <td>01/12/14 10:44</td>\n      <td>A00002/B00002/C00004/D12538/</td>\n    </tr>\n    <tr>\n      <th>3</th>\n      <td>u22639</td>\n      <td>08/12/14 20:19</td>\n      <td>08/12/14 20:22</td>\n      <td>A00002/B00003/C00079/D22781/;A00002/B00003/C00...</td>\n    </tr>\n    <tr>\n      <th>4</th>\n      <td>u18034</td>\n      <td>15/12/14 19:33</td>\n      <td>15/12/14 19:33</td>\n      <td>A00002/B00001/C00010/D23419/</td>\n    </tr>\n  </tbody>\n</table>\n</div>"
     },
     "metadata": {},
     "execution_count": 18
    }
   ],
   "source": [
    "test_data.head()"
   ]
  },
  {
   "cell_type": "code",
   "execution_count": 19,
   "metadata": {},
   "outputs": [
    {
     "output_type": "execute_result",
     "data": {
      "text/plain": [
       "  session_id       startTime         endTime category sub_category  \\\n",
       "0     u12112  08/12/14 13:36  08/12/14 13:36   A00002       B00003   \n",
       "1     u19725  19/12/14 13:52  19/12/14 13:52   A00002       B00005   \n",
       "2     u11795  01/12/14 10:44  01/12/14 10:44   A00002       B00002   \n",
       "3     u22639  08/12/14 20:19  08/12/14 20:22   A00002       B00003   \n",
       "3     u22639  08/12/14 20:19  08/12/14 20:22   A00002       B00003   \n",
       "\n",
       "  sub_sub_category product  \n",
       "0           C00006  D19956  \n",
       "1           C00067  D02026  \n",
       "2           C00004  D12538  \n",
       "3           C00079  D22781  \n",
       "3           C00079  D22782  "
      ],
      "text/html": "<div>\n<style scoped>\n    .dataframe tbody tr th:only-of-type {\n        vertical-align: middle;\n    }\n\n    .dataframe tbody tr th {\n        vertical-align: top;\n    }\n\n    .dataframe thead th {\n        text-align: right;\n    }\n</style>\n<table border=\"1\" class=\"dataframe\">\n  <thead>\n    <tr style=\"text-align: right;\">\n      <th></th>\n      <th>session_id</th>\n      <th>startTime</th>\n      <th>endTime</th>\n      <th>category</th>\n      <th>sub_category</th>\n      <th>sub_sub_category</th>\n      <th>product</th>\n    </tr>\n  </thead>\n  <tbody>\n    <tr>\n      <th>0</th>\n      <td>u12112</td>\n      <td>08/12/14 13:36</td>\n      <td>08/12/14 13:36</td>\n      <td>A00002</td>\n      <td>B00003</td>\n      <td>C00006</td>\n      <td>D19956</td>\n    </tr>\n    <tr>\n      <th>1</th>\n      <td>u19725</td>\n      <td>19/12/14 13:52</td>\n      <td>19/12/14 13:52</td>\n      <td>A00002</td>\n      <td>B00005</td>\n      <td>C00067</td>\n      <td>D02026</td>\n    </tr>\n    <tr>\n      <th>2</th>\n      <td>u11795</td>\n      <td>01/12/14 10:44</td>\n      <td>01/12/14 10:44</td>\n      <td>A00002</td>\n      <td>B00002</td>\n      <td>C00004</td>\n      <td>D12538</td>\n    </tr>\n    <tr>\n      <th>3</th>\n      <td>u22639</td>\n      <td>08/12/14 20:19</td>\n      <td>08/12/14 20:22</td>\n      <td>A00002</td>\n      <td>B00003</td>\n      <td>C00079</td>\n      <td>D22781</td>\n    </tr>\n    <tr>\n      <th>3</th>\n      <td>u22639</td>\n      <td>08/12/14 20:19</td>\n      <td>08/12/14 20:22</td>\n      <td>A00002</td>\n      <td>B00003</td>\n      <td>C00079</td>\n      <td>D22782</td>\n    </tr>\n  </tbody>\n</table>\n</div>"
     },
     "metadata": {},
     "execution_count": 19
    }
   ],
   "source": [
    "test_data['ProductListCount'] = test_data['ProductList'].apply(lambda x: len(x.split(\";\")))\n",
    "\n",
    "# Create product list - Separating each product to new row (;)\n",
    "prod = test_data['ProductList'].str.split(';')\n",
    "test_data = test_data.reindex(test_data.index.repeat(prod.apply(len)))\n",
    "test_data['product_data'] = np.hstack(prod)\n",
    "\n",
    "#product_data list are separated by forward slash (/). They need to be split into product, category, category, sub_sub_category\n",
    "#added other category to see if there is more\n",
    "test_data[['category','sub_category','sub_sub_category','product','other']] = test_data.product_data.str.split('[/]', expand=True)\n",
    "\n",
    "#Drop original productlist, product_data and other columns as they are not needed\n",
    "test_data.drop(['ProductList', 'ProductListCount', 'product_data','other'], axis=1, inplace=True)\n",
    "\n",
    "#Display data\n",
    "test_data.head()"
   ]
  },
  {
   "cell_type": "code",
   "execution_count": 20,
   "metadata": {},
   "outputs": [
    {
     "output_type": "execute_result",
     "data": {
      "text/plain": [
       "Index(['session_id', 'startTime', 'endTime', 'category', 'sub_category',\n",
       "       'sub_sub_category', 'product', 'startTime_year', 'startTime_month',\n",
       "       'startTime_week', 'startTime_day', 'startTime_hour', 'startTime_minute',\n",
       "       'startTime_dayofweek', 'endTime_year', 'endTime_month', 'endTime_week',\n",
       "       'endTime_day', 'endTime_hour', 'endTime_minute', 'endTime_dayofweek'],\n",
       "      dtype='object')"
      ]
     },
     "metadata": {},
     "execution_count": 20
    }
   ],
   "source": [
    "#Convert startTime and endTime to datetime format\n",
    "test_data[\"startTime\"]= pd.to_datetime(test_data[\"startTime\"])\n",
    "test_data[\"endTime\"]= pd.to_datetime(test_data[\"endTime\"])\n",
    "\n",
    "date_column= ['startTime', 'endTime']\n",
    "\n",
    "def extract_date(train_data,cols):\n",
    "    for x in cols:\n",
    "        test_data[x +'_year'] = test_data[x].dt.year\n",
    "        test_data[x +'_month'] = test_data[x].dt.month\n",
    "        test_data[x +'_week'] = test_data[x].dt.week\n",
    "        test_data[x +'_day'] = test_data[x].dt.day\n",
    "        test_data[x +'_hour'] = test_data[x].dt.hour\n",
    "        test_data[x +'_minute'] = test_data[x].dt.minute\n",
    "        test_data[x +'_dayofweek'] = test_data[x].dt.dayofweek\n",
    "          \n",
    "extract_date(test_data, date_column)\n",
    "\n",
    "test_data.columns"
   ]
  },
  {
   "cell_type": "code",
   "execution_count": 21,
   "metadata": {},
   "outputs": [],
   "source": [
    "test_data['duration'] = (test_data['endTime'] - test_data['startTime']).dt.total_seconds()\n",
    "\n",
    "#Dropping previous date columns after etracting year, day, month and quarters\n",
    "test_data.drop(columns=date_column,axis=1,inplace=True)"
   ]
  },
  {
   "cell_type": "code",
   "execution_count": 22,
   "metadata": {},
   "outputs": [
    {
     "output_type": "execute_result",
     "data": {
      "text/plain": [
       "  session_id category sub_category sub_sub_category product  startTime_year  \\\n",
       "0     u12112   A00002       B00003           C00006  D19956            2014   \n",
       "1     u19725   A00002       B00005           C00067  D02026            2014   \n",
       "2     u11795   A00002       B00002           C00004  D12538            2014   \n",
       "3     u22639   A00002       B00003           C00079  D22781            2014   \n",
       "3     u22639   A00002       B00003           C00079  D22782            2014   \n",
       "\n",
       "   startTime_month  startTime_week  startTime_day  startTime_hour  \\\n",
       "0                8              33             12              13   \n",
       "1               12              51             19              13   \n",
       "2                1               2             12              10   \n",
       "3                8              33             12              20   \n",
       "3                8              33             12              20   \n",
       "\n",
       "   startTime_minute  startTime_dayofweek  endTime_year  endTime_month  \\\n",
       "0                36                    1          2014              8   \n",
       "1                52                    4          2014             12   \n",
       "2                44                    6          2014              1   \n",
       "3                19                    1          2014              8   \n",
       "3                19                    1          2014              8   \n",
       "\n",
       "   endTime_week  endTime_day  endTime_hour  endTime_minute  endTime_dayofweek  \\\n",
       "0            33           12            13              36                  1   \n",
       "1            51           19            13              52                  4   \n",
       "2             2           12            10              44                  6   \n",
       "3            33           12            20              22                  1   \n",
       "3            33           12            20              22                  1   \n",
       "\n",
       "   duration  \n",
       "0       0.0  \n",
       "1       0.0  \n",
       "2       0.0  \n",
       "3     180.0  \n",
       "3     180.0  "
      ],
      "text/html": "<div>\n<style scoped>\n    .dataframe tbody tr th:only-of-type {\n        vertical-align: middle;\n    }\n\n    .dataframe tbody tr th {\n        vertical-align: top;\n    }\n\n    .dataframe thead th {\n        text-align: right;\n    }\n</style>\n<table border=\"1\" class=\"dataframe\">\n  <thead>\n    <tr style=\"text-align: right;\">\n      <th></th>\n      <th>session_id</th>\n      <th>category</th>\n      <th>sub_category</th>\n      <th>sub_sub_category</th>\n      <th>product</th>\n      <th>startTime_year</th>\n      <th>startTime_month</th>\n      <th>startTime_week</th>\n      <th>startTime_day</th>\n      <th>startTime_hour</th>\n      <th>startTime_minute</th>\n      <th>startTime_dayofweek</th>\n      <th>endTime_year</th>\n      <th>endTime_month</th>\n      <th>endTime_week</th>\n      <th>endTime_day</th>\n      <th>endTime_hour</th>\n      <th>endTime_minute</th>\n      <th>endTime_dayofweek</th>\n      <th>duration</th>\n    </tr>\n  </thead>\n  <tbody>\n    <tr>\n      <th>0</th>\n      <td>u12112</td>\n      <td>A00002</td>\n      <td>B00003</td>\n      <td>C00006</td>\n      <td>D19956</td>\n      <td>2014</td>\n      <td>8</td>\n      <td>33</td>\n      <td>12</td>\n      <td>13</td>\n      <td>36</td>\n      <td>1</td>\n      <td>2014</td>\n      <td>8</td>\n      <td>33</td>\n      <td>12</td>\n      <td>13</td>\n      <td>36</td>\n      <td>1</td>\n      <td>0.0</td>\n    </tr>\n    <tr>\n      <th>1</th>\n      <td>u19725</td>\n      <td>A00002</td>\n      <td>B00005</td>\n      <td>C00067</td>\n      <td>D02026</td>\n      <td>2014</td>\n      <td>12</td>\n      <td>51</td>\n      <td>19</td>\n      <td>13</td>\n      <td>52</td>\n      <td>4</td>\n      <td>2014</td>\n      <td>12</td>\n      <td>51</td>\n      <td>19</td>\n      <td>13</td>\n      <td>52</td>\n      <td>4</td>\n      <td>0.0</td>\n    </tr>\n    <tr>\n      <th>2</th>\n      <td>u11795</td>\n      <td>A00002</td>\n      <td>B00002</td>\n      <td>C00004</td>\n      <td>D12538</td>\n      <td>2014</td>\n      <td>1</td>\n      <td>2</td>\n      <td>12</td>\n      <td>10</td>\n      <td>44</td>\n      <td>6</td>\n      <td>2014</td>\n      <td>1</td>\n      <td>2</td>\n      <td>12</td>\n      <td>10</td>\n      <td>44</td>\n      <td>6</td>\n      <td>0.0</td>\n    </tr>\n    <tr>\n      <th>3</th>\n      <td>u22639</td>\n      <td>A00002</td>\n      <td>B00003</td>\n      <td>C00079</td>\n      <td>D22781</td>\n      <td>2014</td>\n      <td>8</td>\n      <td>33</td>\n      <td>12</td>\n      <td>20</td>\n      <td>19</td>\n      <td>1</td>\n      <td>2014</td>\n      <td>8</td>\n      <td>33</td>\n      <td>12</td>\n      <td>20</td>\n      <td>22</td>\n      <td>1</td>\n      <td>180.0</td>\n    </tr>\n    <tr>\n      <th>3</th>\n      <td>u22639</td>\n      <td>A00002</td>\n      <td>B00003</td>\n      <td>C00079</td>\n      <td>D22782</td>\n      <td>2014</td>\n      <td>8</td>\n      <td>33</td>\n      <td>12</td>\n      <td>20</td>\n      <td>19</td>\n      <td>1</td>\n      <td>2014</td>\n      <td>8</td>\n      <td>33</td>\n      <td>12</td>\n      <td>20</td>\n      <td>22</td>\n      <td>1</td>\n      <td>180.0</td>\n    </tr>\n  </tbody>\n</table>\n</div>"
     },
     "metadata": {},
     "execution_count": 22
    }
   ],
   "source": [
    "test_data.head()"
   ]
  },
  {
   "cell_type": "code",
   "execution_count": 23,
   "metadata": {},
   "outputs": [
    {
     "output_type": "execute_result",
     "data": {
      "text/plain": [
       "0"
      ]
     },
     "metadata": {},
     "execution_count": 23
    }
   ],
   "source": [
    "#check duplicates\n",
    "test_data.duplicated().sum()"
   ]
  },
  {
   "cell_type": "code",
   "execution_count": 24,
   "metadata": {},
   "outputs": [
    {
     "output_type": "execute_result",
     "data": {
      "text/plain": [
       "session_id             False\n",
       "category               False\n",
       "sub_category           False\n",
       "sub_sub_category       False\n",
       "product                False\n",
       "startTime_year         False\n",
       "startTime_month        False\n",
       "startTime_week         False\n",
       "startTime_day          False\n",
       "startTime_hour         False\n",
       "startTime_minute       False\n",
       "startTime_dayofweek    False\n",
       "endTime_year           False\n",
       "endTime_month          False\n",
       "endTime_week           False\n",
       "endTime_day            False\n",
       "endTime_hour           False\n",
       "endTime_minute         False\n",
       "endTime_dayofweek      False\n",
       "duration               False\n",
       "dtype: bool"
      ]
     },
     "metadata": {},
     "execution_count": 24
    }
   ],
   "source": [
    "#Check missing values\n",
    "test_data.isnull().any()"
   ]
  },
  {
   "cell_type": "code",
   "execution_count": 25,
   "metadata": {},
   "outputs": [
    {
     "output_type": "execute_result",
     "data": {
      "text/plain": [
       "  session_id  category  sub_category  sub_sub_category  product  \\\n",
       "0     u12112         1             2                 5     5190   \n",
       "1     u19725         1             4                64      572   \n",
       "2     u11795         1             1                 3     3368   \n",
       "3     u22639         1             2                75     5789   \n",
       "3     u22639         1             2                75     5790   \n",
       "\n",
       "   startTime_year  startTime_month  startTime_week  startTime_day  \\\n",
       "0            2014                8              33             12   \n",
       "1            2014               12              51             19   \n",
       "2            2014                1               2             12   \n",
       "3            2014                8              33             12   \n",
       "3            2014                8              33             12   \n",
       "\n",
       "   startTime_hour  startTime_minute  startTime_dayofweek  endTime_year  \\\n",
       "0              13                36                    1          2014   \n",
       "1              13                52                    4          2014   \n",
       "2              10                44                    6          2014   \n",
       "3              20                19                    1          2014   \n",
       "3              20                19                    1          2014   \n",
       "\n",
       "   endTime_month  endTime_week  endTime_day  endTime_hour  endTime_minute  \\\n",
       "0              8            33           12            13              36   \n",
       "1             12            51           19            13              52   \n",
       "2              1             2           12            10              44   \n",
       "3              8            33           12            20              22   \n",
       "3              8            33           12            20              22   \n",
       "\n",
       "   endTime_dayofweek  duration  \n",
       "0                  1         7  \n",
       "1                  4         7  \n",
       "2                  6         7  \n",
       "3                  1        10  \n",
       "3                  1        10  "
      ],
      "text/html": "<div>\n<style scoped>\n    .dataframe tbody tr th:only-of-type {\n        vertical-align: middle;\n    }\n\n    .dataframe tbody tr th {\n        vertical-align: top;\n    }\n\n    .dataframe thead th {\n        text-align: right;\n    }\n</style>\n<table border=\"1\" class=\"dataframe\">\n  <thead>\n    <tr style=\"text-align: right;\">\n      <th></th>\n      <th>session_id</th>\n      <th>category</th>\n      <th>sub_category</th>\n      <th>sub_sub_category</th>\n      <th>product</th>\n      <th>startTime_year</th>\n      <th>startTime_month</th>\n      <th>startTime_week</th>\n      <th>startTime_day</th>\n      <th>startTime_hour</th>\n      <th>startTime_minute</th>\n      <th>startTime_dayofweek</th>\n      <th>endTime_year</th>\n      <th>endTime_month</th>\n      <th>endTime_week</th>\n      <th>endTime_day</th>\n      <th>endTime_hour</th>\n      <th>endTime_minute</th>\n      <th>endTime_dayofweek</th>\n      <th>duration</th>\n    </tr>\n  </thead>\n  <tbody>\n    <tr>\n      <th>0</th>\n      <td>u12112</td>\n      <td>1</td>\n      <td>2</td>\n      <td>5</td>\n      <td>5190</td>\n      <td>2014</td>\n      <td>8</td>\n      <td>33</td>\n      <td>12</td>\n      <td>13</td>\n      <td>36</td>\n      <td>1</td>\n      <td>2014</td>\n      <td>8</td>\n      <td>33</td>\n      <td>12</td>\n      <td>13</td>\n      <td>36</td>\n      <td>1</td>\n      <td>7</td>\n    </tr>\n    <tr>\n      <th>1</th>\n      <td>u19725</td>\n      <td>1</td>\n      <td>4</td>\n      <td>64</td>\n      <td>572</td>\n      <td>2014</td>\n      <td>12</td>\n      <td>51</td>\n      <td>19</td>\n      <td>13</td>\n      <td>52</td>\n      <td>4</td>\n      <td>2014</td>\n      <td>12</td>\n      <td>51</td>\n      <td>19</td>\n      <td>13</td>\n      <td>52</td>\n      <td>4</td>\n      <td>7</td>\n    </tr>\n    <tr>\n      <th>2</th>\n      <td>u11795</td>\n      <td>1</td>\n      <td>1</td>\n      <td>3</td>\n      <td>3368</td>\n      <td>2014</td>\n      <td>1</td>\n      <td>2</td>\n      <td>12</td>\n      <td>10</td>\n      <td>44</td>\n      <td>6</td>\n      <td>2014</td>\n      <td>1</td>\n      <td>2</td>\n      <td>12</td>\n      <td>10</td>\n      <td>44</td>\n      <td>6</td>\n      <td>7</td>\n    </tr>\n    <tr>\n      <th>3</th>\n      <td>u22639</td>\n      <td>1</td>\n      <td>2</td>\n      <td>75</td>\n      <td>5789</td>\n      <td>2014</td>\n      <td>8</td>\n      <td>33</td>\n      <td>12</td>\n      <td>20</td>\n      <td>19</td>\n      <td>1</td>\n      <td>2014</td>\n      <td>8</td>\n      <td>33</td>\n      <td>12</td>\n      <td>20</td>\n      <td>22</td>\n      <td>1</td>\n      <td>10</td>\n    </tr>\n    <tr>\n      <th>3</th>\n      <td>u22639</td>\n      <td>1</td>\n      <td>2</td>\n      <td>75</td>\n      <td>5790</td>\n      <td>2014</td>\n      <td>8</td>\n      <td>33</td>\n      <td>12</td>\n      <td>20</td>\n      <td>19</td>\n      <td>1</td>\n      <td>2014</td>\n      <td>8</td>\n      <td>33</td>\n      <td>12</td>\n      <td>20</td>\n      <td>22</td>\n      <td>1</td>\n      <td>10</td>\n    </tr>\n  </tbody>\n</table>\n</div>"
     },
     "metadata": {},
     "execution_count": 25
    }
   ],
   "source": [
    "#from sklearn import preprocessing \n",
    "from sklearn.preprocessing import LabelEncoder\n",
    "\n",
    "#label_encoder = preprocessing.LabelEncoder() \n",
    "label_encoder = LabelEncoder() \n",
    "\n",
    "  \n",
    "for i in features:\n",
    "    test_data[i]= label_encoder.fit_transform(test_data[i]) \n",
    "\n",
    "test_data.head()"
   ]
  },
  {
   "source": [
    "Get list of categorical variables\n",
    "s = (test_data.dtypes == 'object')\n",
    "object_cols = list(s[s].index)\n",
    "\n",
    "print(\"Categorical variables:\")\n",
    "print(object_cols)\n",
    "\n",
    "from sklearn import preprocessing \n",
    "label_encoder = preprocessing.LabelEncoder() \n",
    "  \n",
    "for i in object_cols:\n",
    "    test_data[i]= label_encoder.fit_transform(test_data[i]) "
   ],
   "cell_type": "markdown",
   "metadata": {}
  },
  {
   "cell_type": "code",
   "execution_count": 26,
   "metadata": {},
   "outputs": [
    {
     "output_type": "execute_result",
     "data": {
      "text/plain": [
       "0    18410\n",
       "1     4841\n",
       "Name: gender, dtype: int64"
      ]
     },
     "metadata": {},
     "execution_count": 26
    }
   ],
   "source": [
    "train_data['gender'].value_counts()"
   ]
  },
  {
   "cell_type": "code",
   "execution_count": 27,
   "metadata": {},
   "outputs": [],
   "source": [
    "train = train_data.copy()\n",
    "test = test_data.copy()"
   ]
  },
  {
   "cell_type": "code",
   "execution_count": 28,
   "metadata": {},
   "outputs": [
    {
     "output_type": "execute_result",
     "data": {
      "text/plain": [
       "((23251, 21), (10204, 20))"
      ]
     },
     "metadata": {},
     "execution_count": 28
    }
   ],
   "source": [
    "train.shape, test.shape"
   ]
  },
  {
   "cell_type": "code",
   "execution_count": 29,
   "metadata": {},
   "outputs": [
    {
     "output_type": "execute_result",
     "data": {
      "text/plain": [
       "Index(['session_id', 'gender', 'category', 'sub_category', 'sub_sub_category',\n",
       "       'product', 'startTime_year', 'startTime_month', 'startTime_week',\n",
       "       'startTime_day', 'startTime_hour', 'startTime_minute',\n",
       "       'startTime_dayofweek', 'endTime_year', 'endTime_month', 'endTime_week',\n",
       "       'endTime_day', 'endTime_hour', 'endTime_minute', 'endTime_dayofweek',\n",
       "       'duration'],\n",
       "      dtype='object')"
      ]
     },
     "metadata": {},
     "execution_count": 29
    }
   ],
   "source": [
    "train.columns"
   ]
  },
  {
   "cell_type": "code",
   "execution_count": 30,
   "metadata": {},
   "outputs": [],
   "source": [
    "# Choose target and features\n",
    "y = train.gender\n",
    "features = ['category', 'sub_category', 'sub_sub_category', 'product', 'duration']\n",
    "X = train[features]"
   ]
  },
  {
   "cell_type": "code",
   "execution_count": 31,
   "metadata": {},
   "outputs": [
    {
     "output_type": "execute_result",
     "data": {
      "text/plain": [
       "category            int32\n",
       "sub_category        int32\n",
       "sub_sub_category    int32\n",
       "product             int32\n",
       "duration            int64\n",
       "dtype: object"
      ]
     },
     "metadata": {},
     "execution_count": 31
    }
   ],
   "source": [
    "train[features].dtypes"
   ]
  },
  {
   "cell_type": "code",
   "execution_count": 32,
   "metadata": {},
   "outputs": [
    {
     "output_type": "execute_result",
     "data": {
      "text/plain": [
       "  session_id  category  sub_category  sub_sub_category  product  \\\n",
       "0     u12112         1             2                 5     5190   \n",
       "1     u19725         1             4                64      572   \n",
       "2     u11795         1             1                 3     3368   \n",
       "3     u22639         1             2                75     5789   \n",
       "3     u22639         1             2                75     5790   \n",
       "\n",
       "   startTime_year  startTime_month  startTime_week  startTime_day  \\\n",
       "0            2014                8              33             12   \n",
       "1            2014               12              51             19   \n",
       "2            2014                1               2             12   \n",
       "3            2014                8              33             12   \n",
       "3            2014                8              33             12   \n",
       "\n",
       "   startTime_hour  startTime_minute  startTime_dayofweek  endTime_year  \\\n",
       "0              13                36                    1          2014   \n",
       "1              13                52                    4          2014   \n",
       "2              10                44                    6          2014   \n",
       "3              20                19                    1          2014   \n",
       "3              20                19                    1          2014   \n",
       "\n",
       "   endTime_month  endTime_week  endTime_day  endTime_hour  endTime_minute  \\\n",
       "0              8            33           12            13              36   \n",
       "1             12            51           19            13              52   \n",
       "2              1             2           12            10              44   \n",
       "3              8            33           12            20              22   \n",
       "3              8            33           12            20              22   \n",
       "\n",
       "   endTime_dayofweek  duration  \n",
       "0                  1         7  \n",
       "1                  4         7  \n",
       "2                  6         7  \n",
       "3                  1        10  \n",
       "3                  1        10  "
      ],
      "text/html": "<div>\n<style scoped>\n    .dataframe tbody tr th:only-of-type {\n        vertical-align: middle;\n    }\n\n    .dataframe tbody tr th {\n        vertical-align: top;\n    }\n\n    .dataframe thead th {\n        text-align: right;\n    }\n</style>\n<table border=\"1\" class=\"dataframe\">\n  <thead>\n    <tr style=\"text-align: right;\">\n      <th></th>\n      <th>session_id</th>\n      <th>category</th>\n      <th>sub_category</th>\n      <th>sub_sub_category</th>\n      <th>product</th>\n      <th>startTime_year</th>\n      <th>startTime_month</th>\n      <th>startTime_week</th>\n      <th>startTime_day</th>\n      <th>startTime_hour</th>\n      <th>startTime_minute</th>\n      <th>startTime_dayofweek</th>\n      <th>endTime_year</th>\n      <th>endTime_month</th>\n      <th>endTime_week</th>\n      <th>endTime_day</th>\n      <th>endTime_hour</th>\n      <th>endTime_minute</th>\n      <th>endTime_dayofweek</th>\n      <th>duration</th>\n    </tr>\n  </thead>\n  <tbody>\n    <tr>\n      <th>0</th>\n      <td>u12112</td>\n      <td>1</td>\n      <td>2</td>\n      <td>5</td>\n      <td>5190</td>\n      <td>2014</td>\n      <td>8</td>\n      <td>33</td>\n      <td>12</td>\n      <td>13</td>\n      <td>36</td>\n      <td>1</td>\n      <td>2014</td>\n      <td>8</td>\n      <td>33</td>\n      <td>12</td>\n      <td>13</td>\n      <td>36</td>\n      <td>1</td>\n      <td>7</td>\n    </tr>\n    <tr>\n      <th>1</th>\n      <td>u19725</td>\n      <td>1</td>\n      <td>4</td>\n      <td>64</td>\n      <td>572</td>\n      <td>2014</td>\n      <td>12</td>\n      <td>51</td>\n      <td>19</td>\n      <td>13</td>\n      <td>52</td>\n      <td>4</td>\n      <td>2014</td>\n      <td>12</td>\n      <td>51</td>\n      <td>19</td>\n      <td>13</td>\n      <td>52</td>\n      <td>4</td>\n      <td>7</td>\n    </tr>\n    <tr>\n      <th>2</th>\n      <td>u11795</td>\n      <td>1</td>\n      <td>1</td>\n      <td>3</td>\n      <td>3368</td>\n      <td>2014</td>\n      <td>1</td>\n      <td>2</td>\n      <td>12</td>\n      <td>10</td>\n      <td>44</td>\n      <td>6</td>\n      <td>2014</td>\n      <td>1</td>\n      <td>2</td>\n      <td>12</td>\n      <td>10</td>\n      <td>44</td>\n      <td>6</td>\n      <td>7</td>\n    </tr>\n    <tr>\n      <th>3</th>\n      <td>u22639</td>\n      <td>1</td>\n      <td>2</td>\n      <td>75</td>\n      <td>5789</td>\n      <td>2014</td>\n      <td>8</td>\n      <td>33</td>\n      <td>12</td>\n      <td>20</td>\n      <td>19</td>\n      <td>1</td>\n      <td>2014</td>\n      <td>8</td>\n      <td>33</td>\n      <td>12</td>\n      <td>20</td>\n      <td>22</td>\n      <td>1</td>\n      <td>10</td>\n    </tr>\n    <tr>\n      <th>3</th>\n      <td>u22639</td>\n      <td>1</td>\n      <td>2</td>\n      <td>75</td>\n      <td>5790</td>\n      <td>2014</td>\n      <td>8</td>\n      <td>33</td>\n      <td>12</td>\n      <td>20</td>\n      <td>19</td>\n      <td>1</td>\n      <td>2014</td>\n      <td>8</td>\n      <td>33</td>\n      <td>12</td>\n      <td>20</td>\n      <td>22</td>\n      <td>1</td>\n      <td>10</td>\n    </tr>\n  </tbody>\n</table>\n</div>"
     },
     "metadata": {},
     "execution_count": 32
    }
   ],
   "source": [
    "test.head()"
   ]
  },
  {
   "cell_type": "code",
   "execution_count": 33,
   "metadata": {},
   "outputs": [
    {
     "output_type": "execute_result",
     "data": {
      "text/plain": [
       "((23251, 5), (23251,))"
      ]
     },
     "metadata": {},
     "execution_count": 33
    }
   ],
   "source": [
    "X.shape, y.shape"
   ]
  },
  {
   "source": [
    "from sklearn.model_selection import train_test_split\n",
    "\n",
    "#split data into training and validation data, for both features and target\n",
    "#The split is based on a random number generator. Supplying a numeric value to the random_state argument guarantees we get the same split every time we run this script.\n",
    "X_train, X_valid, y_train, y_valid = train_test_split(X, y,test_size=0.2, random_state = 0)"
   ],
   "cell_type": "markdown",
   "metadata": {}
  },
  {
   "cell_type": "code",
   "execution_count": 34,
   "metadata": {},
   "outputs": [
    {
     "output_type": "stream",
     "name": "stdout",
     "text": [
      "Requirement already satisfied: scikit-learn in c:\\users\\supaki\\appdata\\local\\programs\\python\\python38\\lib\\site-packages (0.24.2)\n",
      "Requirement already satisfied: threadpoolctl>=2.0.0 in c:\\users\\supaki\\appdata\\local\\programs\\python\\python38\\lib\\site-packages (from scikit-learn) (2.1.0)\n",
      "Requirement already satisfied: scipy>=0.19.1 in c:\\users\\supaki\\appdata\\local\\programs\\python\\python38\\lib\\site-packages (from scikit-learn) (1.6.2)\n",
      "Requirement already satisfied: joblib>=0.11 in c:\\users\\supaki\\appdata\\local\\programs\\python\\python38\\lib\\site-packages (from scikit-learn) (1.0.1)\n",
      "Requirement already satisfied: numpy>=1.13.3 in c:\\users\\supaki\\appdata\\local\\programs\\python\\python38\\lib\\site-packages (from scikit-learn) (1.19.2)\n"
     ]
    }
   ],
   "source": [
    "! pip install --upgrade scikit-learn"
   ]
  },
  {
   "cell_type": "code",
   "execution_count": 35,
   "metadata": {},
   "outputs": [
    {
     "output_type": "stream",
     "name": "stdout",
     "text": [
      "Requirement already satisfied: xgboost in c:\\users\\supaki\\appdata\\local\\programs\\python\\python38\\lib\\site-packages (1.4.2)\nRequirement already satisfied: numpy in c:\\users\\supaki\\appdata\\local\\programs\\python\\python38\\lib\\site-packages (from xgboost) (1.19.2)\nRequirement already satisfied: scipy in c:\\users\\supaki\\appdata\\local\\programs\\python\\python38\\lib\\site-packages (from xgboost) (1.6.2)\n"
     ]
    }
   ],
   "source": [
    "! pip install xgboost"
   ]
  },
  {
   "cell_type": "code",
   "execution_count": 36,
   "metadata": {},
   "outputs": [
    {
     "output_type": "stream",
     "name": "stdout",
     "text": [
      "Requirement already satisfied: mlxtend in c:\\users\\supaki\\appdata\\local\\programs\\python\\python38\\lib\\site-packages (0.18.0)\n",
      "Requirement already satisfied: joblib>=0.13.2 in c:\\users\\supaki\\appdata\\local\\programs\\python\\python38\\lib\\site-packages (from mlxtend) (1.0.1)\n",
      "Requirement already satisfied: scikit-learn>=0.20.3 in c:\\users\\supaki\\appdata\\local\\programs\\python\\python38\\lib\\site-packages (from mlxtend) (0.24.2)\n",
      "Requirement already satisfied: scipy>=1.2.1 in c:\\users\\supaki\\appdata\\local\\programs\\python\\python38\\lib\\site-packages (from mlxtend) (1.6.2)\n",
      "Requirement already satisfied: matplotlib>=3.0.0 in c:\\users\\supaki\\appdata\\local\\programs\\python\\python38\\lib\\site-packages (from mlxtend) (3.3.4)\n",
      "Requirement already satisfied: setuptools in c:\\users\\supaki\\appdata\\local\\programs\\python\\python38\\lib\\site-packages (from mlxtend) (41.2.0)\n",
      "Requirement already satisfied: pandas>=0.24.2 in c:\\users\\supaki\\appdata\\local\\programs\\python\\python38\\lib\\site-packages (from mlxtend) (1.1.2)\n",
      "Requirement already satisfied: numpy>=1.16.2 in c:\\users\\supaki\\appdata\\local\\programs\\python\\python38\\lib\\site-packages (from mlxtend) (1.19.2)\n",
      "Requirement already satisfied: python-dateutil>=2.1 in c:\\users\\supaki\\appdata\\local\\programs\\python\\python38\\lib\\site-packages (from matplotlib>=3.0.0->mlxtend) (2.8.1)\n",
      "Requirement already satisfied: cycler>=0.10 in c:\\users\\supaki\\appdata\\local\\programs\\python\\python38\\lib\\site-packages (from matplotlib>=3.0.0->mlxtend) (0.10.0)\n",
      "Requirement already satisfied: pyparsing!=2.0.4,!=2.1.2,!=2.1.6,>=2.0.3 in c:\\users\\supaki\\appdata\\local\\programs\\python\\python38\\lib\\site-packages (from matplotlib>=3.0.0->mlxtend) (2.4.7)\n",
      "Requirement already satisfied: kiwisolver>=1.0.1 in c:\\users\\supaki\\appdata\\local\\programs\\python\\python38\\lib\\site-packages (from matplotlib>=3.0.0->mlxtend) (1.3.1)\n",
      "Requirement already satisfied: pillow>=6.2.0 in c:\\users\\supaki\\appdata\\local\\programs\\python\\python38\\lib\\site-packages (from matplotlib>=3.0.0->mlxtend) (8.1.2)\n",
      "Requirement already satisfied: six in c:\\users\\supaki\\appdata\\local\\programs\\python\\python38\\lib\\site-packages (from cycler>=0.10->matplotlib>=3.0.0->mlxtend) (1.15.0)\n",
      "Requirement already satisfied: pytz>=2017.2 in c:\\users\\supaki\\appdata\\local\\programs\\python\\python38\\lib\\site-packages (from pandas>=0.24.2->mlxtend) (2020.1)\n",
      "Requirement already satisfied: threadpoolctl>=2.0.0 in c:\\users\\supaki\\appdata\\local\\programs\\python\\python38\\lib\\site-packages (from scikit-learn>=0.20.3->mlxtend) (2.1.0)\n"
     ]
    }
   ],
   "source": [
    "! pip install mlxtend  "
   ]
  },
  {
   "source": [
    "! pip install mlxtend --upgrade --no-deps"
   ],
   "cell_type": "markdown",
   "metadata": {}
  },
  {
   "source": [
    "def fit_model(model,train,X,y, test):\n",
    "    model.fit(X,y)\n",
    "    y_pred_test = model.predict(test[features])\n",
    "    test['gender'] = y_pred_test\n",
    "    test['gender'] = test['gender'].astype(int)\n",
    "    return test"
   ],
   "cell_type": "markdown",
   "metadata": {}
  },
  {
   "source": [
    "explore gradient boosting number of trees effect on performance\n",
    "from numpy import mean\n",
    "from numpy import std\n",
    "from sklearn.datasets import make_classification\n",
    "from sklearn.model_selection import RepeatedStratifiedKFold\n",
    "from matplotlib import pyplot\n",
    "\n",
    "get the dataset\n",
    "def get_dataset():\n",
    "\tX, y = make_classification(n_samples=1000, n_features=20, n_informative=15, n_redundant=5, random_state=7)\n",
    "\treturn X, y\n",
    " \n",
    "get a list of models to evaluate\n",
    "def get_models():\n",
    "\tmodels = dict()\n",
    "\t# define number of trees to consider\n",
    "\tn_trees = [10, 50, 100, 500, 1000, 5000]\n",
    "\tfor n in n_trees:\n",
    "\t\tmodels[str(n)] = GradientBoostingClassifier(n_estimators=n)\n",
    "\treturn models\n",
    " \n",
    "evaluate a given model using cross-validation\n",
    "def evaluate_model(model, X, y):\n",
    "\t# define the evaluation procedure\n",
    "\tcv = RepeatedStratifiedKFold(n_splits=10, n_repeats=3, random_state=1)\n",
    "\t# evaluate the model and collect the results\n",
    "\tscores = cross_val_score(model, X, y, scoring='accuracy', cv=cv, n_jobs=-1)\n",
    "\treturn scores\n",
    " \n",
    "define dataset\n",
    "X, y = get_dataset()\n",
    "# get the models to evaluate\n",
    "models = get_models()\n",
    "evaluate the models and store results\n",
    "results, names = list(), list()\n",
    "for name, model in models.items():\n",
    "\t#evaluate the model\n",
    "\tscores = evaluate_model(model, X, y)\n",
    "\t#store the results\n",
    "\tresults.append(scores)\n",
    "\tnames.append(name)\n",
    "\t#summarize the performance along the way\n",
    "\tprint('>%s %.3f (%.3f)' % (name, mean(scores), std(scores)))"
   ],
   "cell_type": "markdown",
   "metadata": {}
  },
  {
   "cell_type": "code",
   "execution_count": 37,
   "metadata": {},
   "outputs": [
    {
     "output_type": "execute_result",
     "data": {
      "text/plain": [
       "GradientBoostingClassifier(learning_rate=0.005, max_depth=9, max_features=5,\n",
       "                           min_samples_leaf=60, min_samples_split=1200,\n",
       "                           n_estimators=1500, random_state=10, subsample=0.85,\n",
       "                           warm_start=True)"
      ]
     },
     "metadata": {},
     "execution_count": 37
    }
   ],
   "source": [
    "from sklearn.model_selection import train_test_split\n",
    "# Break off validation set from training data\n",
    "X_train, X_valid, y_train, y_valid = train_test_split(X, y, test_size=0.2,\n",
    "                                                                random_state=0)\n",
    "from sklearn.ensemble import GradientBoostingClassifier\n",
    "\n",
    "gbm_model = GradientBoostingClassifier(learning_rate=0.005, n_estimators=1500,max_depth=9, min_samples_split=1200, \n",
    "                                         min_samples_leaf=60, subsample=0.85, random_state=10, max_features=5,\n",
    "                                         warm_start=True)\n",
    "gbm_model.fit(X,y)"
   ]
  },
  {
   "cell_type": "code",
   "execution_count": 38,
   "metadata": {},
   "outputs": [],
   "source": [
    "pred_test = gbm_model.predict(test[features])"
   ]
  },
  {
   "cell_type": "code",
   "execution_count": 39,
   "metadata": {},
   "outputs": [
    {
     "output_type": "execute_result",
     "data": {
      "text/plain": [
       "0.8899161470651473"
      ]
     },
     "metadata": {},
     "execution_count": 39
    }
   ],
   "source": [
    "gbm_model.score(X_valid,y_valid)"
   ]
  },
  {
   "cell_type": "code",
   "execution_count": 40,
   "metadata": {},
   "outputs": [],
   "source": [
    "    #y_pred_test = model.predict(test[features])\n",
    "test['gender'] = pred_test\n",
    "test['gender'] = test['gender'].astype(int)"
   ]
  },
  {
   "source": [
    "#split dataset into train and test\n",
    "from sklearn.model_selection import train_test_split\n",
    "train, test = train_test_split(df, test_size=0.3, random_state=0)\n",
    "\n",
    "from sklearn.ensemble import GradientBoostingClassifier\n",
    "model= GradientBoostingClassifier(learning_rate=0.01,random_state=1)\n",
    "model.fit(x_train, y_train)\n",
    "model.score(x_test,y_test)"
   ],
   "cell_type": "markdown",
   "metadata": {}
  },
  {
   "source": [
    "# using .map to inverse dummy variables\n",
    "gender_mapping = {'female':0, 'male':1}\n",
    "\n",
    "inv_gender_feature = {v: k for k, v in gender_mapping.items()}\n",
    "\n",
    "test['gender'] = test['gender'].map(inv_gender_feature)\n",
    "\n",
    "test.head()"
   ],
   "cell_type": "code",
   "metadata": {},
   "execution_count": 41,
   "outputs": [
    {
     "output_type": "execute_result",
     "data": {
      "text/plain": [
       "  session_id  category  sub_category  sub_sub_category  product  \\\n",
       "0     u12112         1             2                 5     5190   \n",
       "1     u19725         1             4                64      572   \n",
       "2     u11795         1             1                 3     3368   \n",
       "3     u22639         1             2                75     5789   \n",
       "3     u22639         1             2                75     5790   \n",
       "\n",
       "   startTime_year  startTime_month  startTime_week  startTime_day  \\\n",
       "0            2014                8              33             12   \n",
       "1            2014               12              51             19   \n",
       "2            2014                1               2             12   \n",
       "3            2014                8              33             12   \n",
       "3            2014                8              33             12   \n",
       "\n",
       "   startTime_hour  ...  startTime_dayofweek  endTime_year  endTime_month  \\\n",
       "0              13  ...                    1          2014              8   \n",
       "1              13  ...                    4          2014             12   \n",
       "2              10  ...                    6          2014              1   \n",
       "3              20  ...                    1          2014              8   \n",
       "3              20  ...                    1          2014              8   \n",
       "\n",
       "   endTime_week  endTime_day  endTime_hour  endTime_minute  endTime_dayofweek  \\\n",
       "0            33           12            13              36                  1   \n",
       "1            51           19            13              52                  4   \n",
       "2             2           12            10              44                  6   \n",
       "3            33           12            20              22                  1   \n",
       "3            33           12            20              22                  1   \n",
       "\n",
       "   duration  gender  \n",
       "0         7  female  \n",
       "1         7  female  \n",
       "2         7  female  \n",
       "3        10  female  \n",
       "3        10  female  \n",
       "\n",
       "[5 rows x 21 columns]"
      ],
      "text/html": "<div>\n<style scoped>\n    .dataframe tbody tr th:only-of-type {\n        vertical-align: middle;\n    }\n\n    .dataframe tbody tr th {\n        vertical-align: top;\n    }\n\n    .dataframe thead th {\n        text-align: right;\n    }\n</style>\n<table border=\"1\" class=\"dataframe\">\n  <thead>\n    <tr style=\"text-align: right;\">\n      <th></th>\n      <th>session_id</th>\n      <th>category</th>\n      <th>sub_category</th>\n      <th>sub_sub_category</th>\n      <th>product</th>\n      <th>startTime_year</th>\n      <th>startTime_month</th>\n      <th>startTime_week</th>\n      <th>startTime_day</th>\n      <th>startTime_hour</th>\n      <th>...</th>\n      <th>startTime_dayofweek</th>\n      <th>endTime_year</th>\n      <th>endTime_month</th>\n      <th>endTime_week</th>\n      <th>endTime_day</th>\n      <th>endTime_hour</th>\n      <th>endTime_minute</th>\n      <th>endTime_dayofweek</th>\n      <th>duration</th>\n      <th>gender</th>\n    </tr>\n  </thead>\n  <tbody>\n    <tr>\n      <th>0</th>\n      <td>u12112</td>\n      <td>1</td>\n      <td>2</td>\n      <td>5</td>\n      <td>5190</td>\n      <td>2014</td>\n      <td>8</td>\n      <td>33</td>\n      <td>12</td>\n      <td>13</td>\n      <td>...</td>\n      <td>1</td>\n      <td>2014</td>\n      <td>8</td>\n      <td>33</td>\n      <td>12</td>\n      <td>13</td>\n      <td>36</td>\n      <td>1</td>\n      <td>7</td>\n      <td>female</td>\n    </tr>\n    <tr>\n      <th>1</th>\n      <td>u19725</td>\n      <td>1</td>\n      <td>4</td>\n      <td>64</td>\n      <td>572</td>\n      <td>2014</td>\n      <td>12</td>\n      <td>51</td>\n      <td>19</td>\n      <td>13</td>\n      <td>...</td>\n      <td>4</td>\n      <td>2014</td>\n      <td>12</td>\n      <td>51</td>\n      <td>19</td>\n      <td>13</td>\n      <td>52</td>\n      <td>4</td>\n      <td>7</td>\n      <td>female</td>\n    </tr>\n    <tr>\n      <th>2</th>\n      <td>u11795</td>\n      <td>1</td>\n      <td>1</td>\n      <td>3</td>\n      <td>3368</td>\n      <td>2014</td>\n      <td>1</td>\n      <td>2</td>\n      <td>12</td>\n      <td>10</td>\n      <td>...</td>\n      <td>6</td>\n      <td>2014</td>\n      <td>1</td>\n      <td>2</td>\n      <td>12</td>\n      <td>10</td>\n      <td>44</td>\n      <td>6</td>\n      <td>7</td>\n      <td>female</td>\n    </tr>\n    <tr>\n      <th>3</th>\n      <td>u22639</td>\n      <td>1</td>\n      <td>2</td>\n      <td>75</td>\n      <td>5789</td>\n      <td>2014</td>\n      <td>8</td>\n      <td>33</td>\n      <td>12</td>\n      <td>20</td>\n      <td>...</td>\n      <td>1</td>\n      <td>2014</td>\n      <td>8</td>\n      <td>33</td>\n      <td>12</td>\n      <td>20</td>\n      <td>22</td>\n      <td>1</td>\n      <td>10</td>\n      <td>female</td>\n    </tr>\n    <tr>\n      <th>3</th>\n      <td>u22639</td>\n      <td>1</td>\n      <td>2</td>\n      <td>75</td>\n      <td>5790</td>\n      <td>2014</td>\n      <td>8</td>\n      <td>33</td>\n      <td>12</td>\n      <td>20</td>\n      <td>...</td>\n      <td>1</td>\n      <td>2014</td>\n      <td>8</td>\n      <td>33</td>\n      <td>12</td>\n      <td>20</td>\n      <td>22</td>\n      <td>1</td>\n      <td>10</td>\n      <td>female</td>\n    </tr>\n  </tbody>\n</table>\n<p>5 rows × 21 columns</p>\n</div>"
     },
     "metadata": {},
     "execution_count": 41
    }
   ]
  },
  {
   "cell_type": "code",
   "execution_count": 42,
   "metadata": {},
   "outputs": [],
   "source": [
    "test = test.drop_duplicates(subset=['session_id'])"
   ]
  },
  {
   "cell_type": "code",
   "execution_count": 43,
   "metadata": {},
   "outputs": [],
   "source": [
    "test[['session_id','gender']].to_csv(\"submisison_GBoost_Tuned.csv\",index=False)"
   ]
  },
  {
   "cell_type": "code",
   "execution_count": null,
   "metadata": {},
   "outputs": [],
   "source": []
  }
 ]
}