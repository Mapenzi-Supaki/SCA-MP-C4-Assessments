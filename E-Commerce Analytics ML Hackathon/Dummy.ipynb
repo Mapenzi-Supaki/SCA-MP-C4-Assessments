{
 "metadata": {
  "language_info": {
   "codemirror_mode": {
    "name": "ipython",
    "version": 3
   },
   "file_extension": ".py",
   "mimetype": "text/x-python",
   "name": "python",
   "nbconvert_exporter": "python",
   "pygments_lexer": "ipython3",
   "version": "3.7.4"
  },
  "orig_nbformat": 2,
  "kernelspec": {
   "name": "python374jvsc74a57bd051d439fa56edd0938934adc9194f49c45bdd2291f02681030135565519cea739",
   "display_name": "Python 3.7.4 64-bit ('base': conda)"
  }
 },
 "nbformat": 4,
 "nbformat_minor": 2,
 "cells": [
  {
   "source": [
    "### Gender Prediction for E-Commerce\n",
    "With the evolution of the information and communication technologies and the rapid growth of the Internet for the exchange and distribution of information, Electronic Commerce (e-commerce) has gained massive momentum globally, and attracted more and more worldwide users overcoming the time constraints and distance barriers.\n",
    "\n",
    "It is important to gain in-depth insights into e-commerce via data-driven analytics and identify the factors affecting product sales, the impact of characteristics of customers on their purchase habits.\n",
    "\n",
    "It is quite useful to understand the demand, habits, concern, perception, and interest of customers from the clue of genders for e-commerce companies. \n",
    "\n",
    "However, the genders of users are in general unavailable in e-commerce platforms. To address this gap the aim here is to predict the gender of e-commerce’s participants from their product viewing records."
   ],
   "cell_type": "markdown",
   "metadata": {}
  },
  {
   "cell_type": "code",
   "execution_count": 2,
   "metadata": {},
   "outputs": [
    {
     "output_type": "execute_result",
     "data": {
      "text/plain": [
       "  session_id       startTime         endTime  \\\n",
       "0     u16159  15/12/14 18:11  15/12/14 18:12   \n",
       "1     u10253  16/12/14 14:35  16/12/14 14:41   \n",
       "2     u19037  01/12/14 15:58  01/12/14 15:58   \n",
       "3     u14556   23/11/14 2:57   23/11/14 3:00   \n",
       "4     u24295  17/12/14 16:44  17/12/14 16:46   \n",
       "\n",
       "                                         ProductList  gender  \n",
       "0  A00002/B00003/C00006/D28435/;A00002/B00003/C00...  female  \n",
       "1  A00001/B00009/C00031/D29404/;A00001/B00009/C00...    male  \n",
       "2                       A00002/B00001/C00020/D16944/  female  \n",
       "3  A00002/B00004/C00018/D10284/;A00002/B00004/C00...  female  \n",
       "4  A00001/B00001/C00012/D30805/;A00001/B00001/C00...    male  "
      ],
      "text/html": "<div>\n<style scoped>\n    .dataframe tbody tr th:only-of-type {\n        vertical-align: middle;\n    }\n\n    .dataframe tbody tr th {\n        vertical-align: top;\n    }\n\n    .dataframe thead th {\n        text-align: right;\n    }\n</style>\n<table border=\"1\" class=\"dataframe\">\n  <thead>\n    <tr style=\"text-align: right;\">\n      <th></th>\n      <th>session_id</th>\n      <th>startTime</th>\n      <th>endTime</th>\n      <th>ProductList</th>\n      <th>gender</th>\n    </tr>\n  </thead>\n  <tbody>\n    <tr>\n      <td>0</td>\n      <td>u16159</td>\n      <td>15/12/14 18:11</td>\n      <td>15/12/14 18:12</td>\n      <td>A00002/B00003/C00006/D28435/;A00002/B00003/C00...</td>\n      <td>female</td>\n    </tr>\n    <tr>\n      <td>1</td>\n      <td>u10253</td>\n      <td>16/12/14 14:35</td>\n      <td>16/12/14 14:41</td>\n      <td>A00001/B00009/C00031/D29404/;A00001/B00009/C00...</td>\n      <td>male</td>\n    </tr>\n    <tr>\n      <td>2</td>\n      <td>u19037</td>\n      <td>01/12/14 15:58</td>\n      <td>01/12/14 15:58</td>\n      <td>A00002/B00001/C00020/D16944/</td>\n      <td>female</td>\n    </tr>\n    <tr>\n      <td>3</td>\n      <td>u14556</td>\n      <td>23/11/14 2:57</td>\n      <td>23/11/14 3:00</td>\n      <td>A00002/B00004/C00018/D10284/;A00002/B00004/C00...</td>\n      <td>female</td>\n    </tr>\n    <tr>\n      <td>4</td>\n      <td>u24295</td>\n      <td>17/12/14 16:44</td>\n      <td>17/12/14 16:46</td>\n      <td>A00001/B00001/C00012/D30805/;A00001/B00001/C00...</td>\n      <td>male</td>\n    </tr>\n  </tbody>\n</table>\n</div>"
     },
     "metadata": {},
     "execution_count": 2
    }
   ],
   "source": [
    "import pandas as pd \n",
    "df = pd.read_csv('train.csv')\n",
    "df.head()\n",
    "# Separate product list"
   ]
  },
  {
   "cell_type": "code",
   "execution_count": 3,
   "metadata": {},
   "outputs": [
    {
     "output_type": "execute_result",
     "data": {
      "text/plain": [
       "Index(['session_id', 'startTime', 'endTime', 'ProductList', 'gender'], dtype='object')"
      ]
     },
     "metadata": {},
     "execution_count": 3
    }
   ],
   "source": [
    "df.columns"
   ]
  },
  {
   "cell_type": "code",
   "execution_count": 4,
   "metadata": {},
   "outputs": [
    {
     "output_type": "execute_result",
     "data": {
      "text/plain": [
       "  session_id       startTime         endTime  \\\n",
       "0     u12112  08/12/14 13:36  08/12/14 13:36   \n",
       "1     u19725  19/12/14 13:52  19/12/14 13:52   \n",
       "2     u11795  01/12/14 10:44  01/12/14 10:44   \n",
       "3     u22639  08/12/14 20:19  08/12/14 20:22   \n",
       "4     u18034  15/12/14 19:33  15/12/14 19:33   \n",
       "\n",
       "                                         ProductList  \n",
       "0                       A00002/B00003/C00006/D19956/  \n",
       "1                       A00002/B00005/C00067/D02026/  \n",
       "2                       A00002/B00002/C00004/D12538/  \n",
       "3  A00002/B00003/C00079/D22781/;A00002/B00003/C00...  \n",
       "4                       A00002/B00001/C00010/D23419/  "
      ],
      "text/html": "<div>\n<style scoped>\n    .dataframe tbody tr th:only-of-type {\n        vertical-align: middle;\n    }\n\n    .dataframe tbody tr th {\n        vertical-align: top;\n    }\n\n    .dataframe thead th {\n        text-align: right;\n    }\n</style>\n<table border=\"1\" class=\"dataframe\">\n  <thead>\n    <tr style=\"text-align: right;\">\n      <th></th>\n      <th>session_id</th>\n      <th>startTime</th>\n      <th>endTime</th>\n      <th>ProductList</th>\n    </tr>\n  </thead>\n  <tbody>\n    <tr>\n      <td>0</td>\n      <td>u12112</td>\n      <td>08/12/14 13:36</td>\n      <td>08/12/14 13:36</td>\n      <td>A00002/B00003/C00006/D19956/</td>\n    </tr>\n    <tr>\n      <td>1</td>\n      <td>u19725</td>\n      <td>19/12/14 13:52</td>\n      <td>19/12/14 13:52</td>\n      <td>A00002/B00005/C00067/D02026/</td>\n    </tr>\n    <tr>\n      <td>2</td>\n      <td>u11795</td>\n      <td>01/12/14 10:44</td>\n      <td>01/12/14 10:44</td>\n      <td>A00002/B00002/C00004/D12538/</td>\n    </tr>\n    <tr>\n      <td>3</td>\n      <td>u22639</td>\n      <td>08/12/14 20:19</td>\n      <td>08/12/14 20:22</td>\n      <td>A00002/B00003/C00079/D22781/;A00002/B00003/C00...</td>\n    </tr>\n    <tr>\n      <td>4</td>\n      <td>u18034</td>\n      <td>15/12/14 19:33</td>\n      <td>15/12/14 19:33</td>\n      <td>A00002/B00001/C00010/D23419/</td>\n    </tr>\n  </tbody>\n</table>\n</div>"
     },
     "metadata": {},
     "execution_count": 4
    }
   ],
   "source": [
    "test_df = pd.read_csv('test.csv')\n",
    "test_df.head()"
   ]
  },
  {
   "cell_type": "code",
   "execution_count": 5,
   "metadata": {},
   "outputs": [
    {
     "output_type": "execute_result",
     "data": {
      "text/plain": [
       "  session_id  gender\n",
       "0     u12112  female\n",
       "1     u19725    male\n",
       "2     u11795  female\n",
       "3     u22639  female\n",
       "4     u18034    male"
      ],
      "text/html": "<div>\n<style scoped>\n    .dataframe tbody tr th:only-of-type {\n        vertical-align: middle;\n    }\n\n    .dataframe tbody tr th {\n        vertical-align: top;\n    }\n\n    .dataframe thead th {\n        text-align: right;\n    }\n</style>\n<table border=\"1\" class=\"dataframe\">\n  <thead>\n    <tr style=\"text-align: right;\">\n      <th></th>\n      <th>session_id</th>\n      <th>gender</th>\n    </tr>\n  </thead>\n  <tbody>\n    <tr>\n      <td>0</td>\n      <td>u12112</td>\n      <td>female</td>\n    </tr>\n    <tr>\n      <td>1</td>\n      <td>u19725</td>\n      <td>male</td>\n    </tr>\n    <tr>\n      <td>2</td>\n      <td>u11795</td>\n      <td>female</td>\n    </tr>\n    <tr>\n      <td>3</td>\n      <td>u22639</td>\n      <td>female</td>\n    </tr>\n    <tr>\n      <td>4</td>\n      <td>u18034</td>\n      <td>male</td>\n    </tr>\n  </tbody>\n</table>\n</div>"
     },
     "metadata": {},
     "execution_count": 5
    }
   ],
   "source": [
    "sub_df = pd.read_csv('sample_submission.csv')\n",
    "sub_df.head()"
   ]
  },
  {
   "source": [
    "target variable - gender\n",
    "\n",
    "predictor variable - product list\n",
    "\n",
    "Product list contains list of products viewed by the user in the given session and it also contains the category, sub category, sub-sub category and the product all encoded and separated with a slash symbol. Each consecutive product is separated with a semicolon."
   ],
   "cell_type": "markdown",
   "metadata": {}
  },
  {
   "source": [
    "## Logistic Regression"
   ],
   "cell_type": "markdown",
   "metadata": {}
  },
  {
   "source": [
    "## K-Nearest Neighbors"
   ],
   "cell_type": "markdown",
   "metadata": {}
  },
  {
   "source": [
    "## Decision Tree"
   ],
   "cell_type": "markdown",
   "metadata": {}
  },
  {
   "source": [
    "## Support Vector Machine"
   ],
   "cell_type": "markdown",
   "metadata": {}
  },
  {
   "source": [
    "## Naives Bayes"
   ],
   "cell_type": "markdown",
   "metadata": {}
  },
  {
   "cell_type": "code",
   "execution_count": 6,
   "metadata": {},
   "outputs": [],
   "source": [
    "# Categorical data to numerical encoding"
   ]
  }
 ]
}