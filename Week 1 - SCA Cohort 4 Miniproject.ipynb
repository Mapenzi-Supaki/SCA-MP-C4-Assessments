{
 "cells": [
  {
   "cell_type": "markdown",
   "metadata": {},
   "source": [
    "### 1. Guess The Number: "
   ]
  },
  {
   "cell_type": "markdown",
   "metadata": {},
   "source": [
    "Write a program where the computer randomly generates a number between 0 and 20. The user needs to guess what the\n",
    "number is. If the user guesses wrong, tell them their guess is either too high, or too low."
   ]
  },
  {
   "cell_type": "markdown",
   "metadata": {},
   "source": [
    "###### Step 1: Import random module\n",
    "To generate a random number we use a Python module named random. To use the module, we first have to import it."
   ]
  },
  {
   "cell_type": "code",
   "execution_count": 1,
   "metadata": {},
   "outputs": [],
   "source": [
    " import random"
   ]
  },
  {
   "cell_type": "markdown",
   "metadata": {},
   "source": [
    "##### Step 2: Use the random module to generate a number between 0 to 20 and store it in a variable"
   ]
  },
  {
   "cell_type": "code",
   "execution_count": 2,
   "metadata": {},
   "outputs": [],
   "source": [
    "number = random.randint(0, 20)"
   ]
  },
  {
   "cell_type": "markdown",
   "metadata": {},
   "source": [
    "##### Step 3: Prompt the user to enter their name, stored in a variable "
   ]
  },
  {
   "cell_type": "code",
   "execution_count": 3,
   "metadata": {},
   "outputs": [
    {
     "name": "stdout",
     "output_type": "stream",
     "text": [
      "Hello! What is your name: Mapenzi\n"
     ]
    }
   ],
   "source": [
    "user = input(\"Hello! What is your name: \")"
   ]
  },
  {
   "cell_type": "markdown",
   "metadata": {},
   "source": [
    "##### Step 4: Create a 'guess_made' variable and assign it 0"
   ]
  },
  {
   "cell_type": "code",
   "execution_count": 4,
   "metadata": {},
   "outputs": [],
   "source": [
    "guess_made = 0"
   ]
  },
  {
   "cell_type": "markdown",
   "metadata": {},
   "source": [
    "##### Step 5: Print a string that includes the users name"
   ]
  },
  {
   "cell_type": "code",
   "execution_count": 5,
   "metadata": {},
   "outputs": [
    {
     "name": "stdout",
     "output_type": "stream",
     "text": [
      "Ola! Mapenzi I am thinking of a number between 0 and 20:\n"
     ]
    }
   ],
   "source": [
    "print('Ola! '+ user + ' I am thinking of a number between 0 and 20:')"
   ]
  },
  {
   "cell_type": "markdown",
   "metadata": {},
   "source": [
    "##### Step 6: Create a loop to increase the value on each iteration"
   ]
  },
  {
   "cell_type": "code",
   "execution_count": 6,
   "metadata": {},
   "outputs": [
    {
     "name": "stdout",
     "output_type": "stream",
     "text": [
      "What's your guess?\n",
      "3\n",
      "Your guess is too high\n",
      "What's your guess?\n",
      "6\n",
      "Your guess is too high\n",
      "What's your guess?\n",
      "13\n",
      "Your guess is too high\n",
      "What's your guess?\n",
      "18\n",
      "Your guess is too high\n",
      "What's your guess?\n",
      "12\n",
      "Your guess is too high\n"
     ]
    }
   ],
   "source": [
    "while guess_made < 5: #5 attempts to guess the number\n",
    "    print(\"What's your guess?\")\n",
    "    guess = int(input())\n",
    "    \n",
    "    guess_made += 1 #guess_made=guess_made+1\n",
    "    \n",
    "    if guess < number:\n",
    "        print('Your guess is too low')\n",
    "    if guess > number:\n",
    "        print('Your guess is too high')\n",
    "    if guess == number:\n",
    "        break"
   ]
  },
  {
   "cell_type": "markdown",
   "metadata": {},
   "source": [
    "#### Step 7: Create another loop to verify if the user has guessed the correct number or not. \n",
    "\n",
    "If the user has guessed the correct number, then a message is printed along with the attempts they made.\n",
    "If the user is unable to guess the correct number, the number is printed along with a message."
   ]
  },
  {
   "cell_type": "code",
   "execution_count": 7,
   "metadata": {},
   "outputs": [
    {
     "name": "stdout",
     "output_type": "stream",
     "text": [
      "Nope. You did not guess correctly. The number was 0\n"
     ]
    }
   ],
   "source": [
    "if guess == number:\n",
    "    #guess_made=str(guess_made)\n",
    "    print('Well done, ' + user + '! You guessed the number in ' + str(guess_made) + ' attempts!')\n",
    "else: #if guess != number:\n",
    "    print('Nope. You did not guess correctly. The number was ' + str(number))"
   ]
  },
  {
   "cell_type": "markdown",
   "metadata": {},
   "source": [
    "### 2. Password Generator:"
   ]
  },
  {
   "cell_type": "markdown",
   "metadata": {},
   "source": [
    "Write a program, which generates a random password for the user. Ask the user how long they want their password to be, and how many letters and numbers they want in their password. Have a mix of upper and lowercase letters, as well as numbers and symbols. The password should be a minimum of 6 characters long."
   ]
  },
  {
   "cell_type": "markdown",
   "metadata": {},
   "source": [
    "#### Step 1: Import  modules\n",
    "String Modue: It contains various string constant which contains the ASCII characters of all cases. It has separate constants for lowercase, uppercase letters, digits, and special symbols, which we use as a source to generate a random string.\n",
    "Random module: Used to perform the random generations on the string data provided by the string constants."
   ]
  },
  {
   "cell_type": "code",
   "execution_count": 8,
   "metadata": {},
   "outputs": [],
   "source": [
    "import random\n",
    "import string"
   ]
  },
  {
   "cell_type": "markdown",
   "metadata": {},
   "source": [
    "#### Step 2: Assigning variables to a string with all letters/numbers/special\n",
    "Have mixture of upper and lowercase letters, as well as numbers and symbols"
   ]
  },
  {
   "cell_type": "code",
   "execution_count": 9,
   "metadata": {},
   "outputs": [
    {
     "name": "stdout",
     "output_type": "stream",
     "text": [
      "abcdefghijklmnopqrstuvwxyzABCDEFGHIJKLMNOPQRSTUVWXYZ\n",
      "abcdefghijklmnopqrstuvwxyz\n",
      "ABCDEFGHIJKLMNOPQRSTUVWXYZ\n",
      "0123456789\n",
      "!\"#$%&'()*+,-./:;<=>?@[\\]^_`{|}~\n",
      "['a', 'b', 'c', 'd', 'e', 'f', 'g', 'h', 'i', 'j', 'k', 'l', 'm', 'n', 'o', 'p', 'q', 'r', 's', 't', 'u', 'v', 'w', 'x', 'y', 'z', 'A', 'B', 'C', 'D', 'E', 'F', 'G', 'H', 'I', 'J', 'K', 'L', 'M', 'N', 'O', 'P', 'Q', 'R', 'S', 'T', 'U', 'V', 'W', 'X', 'Y', 'Z', '!', '\"', '#', '$', '%', '&', \"'\", '(', ')', '*', '+', ',', '-', '.', '/', ':', ';', '<', '=', '>', '?', '@', '[', '\\\\', ']', '^', '_', '`', '{', '|', '}', '~', '0', '1', '2', '3', '4', '5', '6', '7', '8', '9']\n",
      "['$', '\\\\', 'D', 'j', 'P', 'p', '4', ';', 'N', 'c', 'y', 'n', ',', '>', '.', '(', '9', 'V', '-', 'K', '+', '2', '%', '0', 't', 'k', '^', 'J', '[', '6', '{', '!', 'E', 'I', '&', 'f', 'Q', 'W', 'T', 'o', 'O', 'w', 'F', ':', 'e', '~', 'Z', 'M', ')', '/', 'S', 'H', 'a', 'z', '=', 'G', 'i', ']', 'L', '`', '|', '?', '5', 's', 'C', 'm', 'u', \"'\", '_', '8', '#', 'R', '@', 'B', '1', 'h', '}', '\"', 'Y', 'l', '<', 'b', '3', '*', 'd', 'v', 'q', 'x', 'A', 'U', 'X', '7', 'r', 'g']\n"
     ]
    }
   ],
   "source": [
    "#The concatenation of the ascii_lowercase and ascii_uppercase constants.\n",
    "letters = string.ascii_letters\n",
    "\n",
    "#The lowercase letters 'abcdefghijklmnopqrstuvwxyz'.\n",
    "lowercase = string.ascii_lowercase\n",
    "\n",
    "#The uppercase letters 'ABCDEFGHIJKLMNOPQRSTUVWXYZ'\n",
    "uppercase = string.ascii_uppercase\n",
    "\n",
    "#The string '0123456789'\n",
    "digits = string.digits\n",
    "\n",
    "#String of ASCII characters which are considered punctuation characters: !\"#$%&'()*+,-./:;<=>?@[\\]^_`{|}~.\n",
    "symbols = string.punctuation \n",
    "print(letters)\n",
    "print(lowercase)\n",
    "print(uppercase)\n",
    "print(digits)\n",
    "print(symbols)\n",
    "\n",
    "pass_char = list(letters + symbols + digits)\n",
    "print(pass_char)\n",
    "random.shuffle(pass_char)\n",
    "print(pass_char)"
   ]
  },
  {
   "cell_type": "markdown",
   "metadata": {},
   "source": [
    "#### Step 3: Creating user inputs\n",
    "Asking the user how long they want their password to be, and how many letters and numbers they want in their password."
   ]
  },
  {
   "cell_type": "markdown",
   "metadata": {},
   "source": [
    "***1. Retrieve the user's name and length of a password***"
   ]
  },
  {
   "cell_type": "code",
   "execution_count": 10,
   "metadata": {},
   "outputs": [
    {
     "name": "stdout",
     "output_type": "stream",
     "text": [
      "What's your name? Mapenzi\n",
      "Hi, Mapenzi! How long do you want your password: 12\n"
     ]
    }
   ],
   "source": [
    "user = input (\"What's your name? \")\n",
    "password_length = int(input(\"Hi, \"+ user + \"! How long do you want your password: \"))"
   ]
  },
  {
   "cell_type": "markdown",
   "metadata": {},
   "source": [
    "***2. Retrieve length of letters and number user wants in password***"
   ]
  },
  {
   "cell_type": "code",
   "execution_count": 11,
   "metadata": {
    "scrolled": true
   },
   "outputs": [
    {
     "name": "stdout",
     "output_type": "stream",
     "text": [
      "How many letters would you like in your password? 6\n",
      "How many numbers would you like in your password? 3\n",
      "Symbols in your password will be:  3\n"
     ]
    }
   ],
   "source": [
    "letter_count = int(input('How many letters would you like in your password? '))\n",
    "number_count = int(input('How many numbers would you like in your password? '))\n",
    "password_count = letter_count + number_count\n",
    "#symbol_count = int(input('How many special characters would you like in your password? '))\n",
    "symbol_count = int(password_length - password_count)\n",
    "print('Symbols in your password will be: ', symbol_count)"
   ]
  },
  {
   "cell_type": "markdown",
   "metadata": {},
   "source": [
    "###### Step 5: User password generation"
   ]
  },
  {
   "cell_type": "code",
   "execution_count": 20,
   "metadata": {},
   "outputs": [],
   "source": [
    "def generate_password():\n",
    "    password = ''\n",
    "    for i in range(letter_count):\n",
    "        password += random.choice(letters)\n",
    "    for i in range(number_count):\n",
    "        password += random.choice(digits)\n",
    "    for i in range(symbol_count):\n",
    "        password += random.choice(symbols)\n",
    "    \n",
    "    password = shuffle_string(password)\n",
    "    return password"
   ]
  },
  {
   "cell_type": "code",
   "execution_count": 23,
   "metadata": {},
   "outputs": [],
   "source": [
    "def shuffle_string(unshuffled_password):\n",
    "    unshuffled_password_list = list(unshuffled_password)\n",
    "    random.shuffle(unshuffled_password_list)\n",
    "    shuffled_password = ''.join(unshuffled_password_list)\n",
    "    \n",
    "    return shuffled_password "
   ]
  },
  {
   "cell_type": "markdown",
   "metadata": {},
   "source": [
    "#### Step 4: Password Validation\n",
    "The password should be a minimum of 6 characters long"
   ]
  },
  {
   "cell_type": "code",
   "execution_count": 24,
   "metadata": {},
   "outputs": [
    {
     "name": "stdout",
     "output_type": "stream",
     "text": [
      "Your password has been generated:  e9L[w}Ke58\"q\n"
     ]
    }
   ],
   "source": [
    "if password_length <= 6:\n",
    "    print(\"Invalid request. It is not possible to generate the password. The password must be a minimum of 6 characters. \")\n",
    "else:\n",
    "    password = generate_password()\n",
    "    print(\"Your password has been generated: \", password)"
   ]
  },
  {
   "cell_type": "code",
   "execution_count": null,
   "metadata": {},
   "outputs": [],
   "source": []
  },
  {
   "cell_type": "code",
   "execution_count": null,
   "metadata": {},
   "outputs": [],
   "source": []
  }
 ],
 "metadata": {
  "kernelspec": {
   "display_name": "Python 3",
   "language": "python",
   "name": "python3"
  },
  "language_info": {
   "codemirror_mode": {
    "name": "ipython",
    "version": 3
   },
   "file_extension": ".py",
   "mimetype": "text/x-python",
   "name": "python",
   "nbconvert_exporter": "python",
   "pygments_lexer": "ipython3",
   "version": "3.8.2"
  }
 },
 "nbformat": 4,
 "nbformat_minor": 2
}
